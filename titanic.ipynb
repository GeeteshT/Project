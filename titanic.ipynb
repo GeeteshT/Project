{
  "nbformat": 4,
  "nbformat_minor": 0,
  "metadata": {
    "colab": {
      "name": "titanic.ipynb",
      "provenance": [],
      "authorship_tag": "ABX9TyPJkXV0hcdR3ilC8EYIHebq",
      "include_colab_link": true
    },
    "kernelspec": {
      "name": "python3",
      "display_name": "Python 3"
    }
  },
  "cells": [
    {
      "cell_type": "markdown",
      "metadata": {
        "id": "view-in-github",
        "colab_type": "text"
      },
      "source": [
        "<a href=\"https://colab.research.google.com/github/GeeteshT/Project/blob/master/titanic.ipynb\" target=\"_parent\"><img src=\"https://colab.research.google.com/assets/colab-badge.svg\" alt=\"Open In Colab\"/></a>"
      ]
    },
    {
      "cell_type": "code",
      "metadata": {
        "id": "V9N6pKXhKTbs",
        "colab_type": "code",
        "colab": {
          "base_uri": "https://localhost:8080/",
          "height": 122
        },
        "outputId": "e6bf4ebb-ea77-4f21-8223-3cdc54f430ff"
      },
      "source": [
        "from google.colab import drive\n",
        "drive.mount(\"/gdrive\")"
      ],
      "execution_count": null,
      "outputs": [
        {
          "output_type": "stream",
          "text": [
            "Go to this URL in a browser: https://accounts.google.com/o/oauth2/auth?client_id=947318989803-6bn6qk8qdgf4n4g3pfee6491hc0brc4i.apps.googleusercontent.com&redirect_uri=urn%3aietf%3awg%3aoauth%3a2.0%3aoob&scope=email%20https%3a%2f%2fwww.googleapis.com%2fauth%2fdocs.test%20https%3a%2f%2fwww.googleapis.com%2fauth%2fdrive%20https%3a%2f%2fwww.googleapis.com%2fauth%2fdrive.photos.readonly%20https%3a%2f%2fwww.googleapis.com%2fauth%2fpeopleapi.readonly&response_type=code\n",
            "\n",
            "Enter your authorization code:\n",
            "4/3wFTxava84zqiAFm1clsf6prtbYEn8PQg5oISGx6z9RD0TDhQv0ZpyE\n",
            "Mounted at /gdrive\n"
          ],
          "name": "stdout"
        }
      ]
    },
    {
      "cell_type": "code",
      "metadata": {
        "id": "0EueQDvNKr9o",
        "colab_type": "code",
        "colab": {}
      },
      "source": [
        "import numpy as np\n",
        "import pandas as pd\n",
        "import seaborn as sns\n",
        "import matplotlib.pyplot as plt\n",
        "%matplotlib inline"
      ],
      "execution_count": null,
      "outputs": []
    },
    {
      "cell_type": "code",
      "metadata": {
        "id": "o0iLPRWPLQXY",
        "colab_type": "code",
        "colab": {}
      },
      "source": [
        "df=pd.read_csv(r\"/gdrive/My Drive/Project/titanic_train.csv\")"
      ],
      "execution_count": null,
      "outputs": []
    },
    {
      "cell_type": "code",
      "metadata": {
        "id": "hMKEMgBZLdVk",
        "colab_type": "code",
        "colab": {
          "base_uri": "https://localhost:8080/",
          "height": 204
        },
        "outputId": "97af88e1-4b0b-4659-e54f-d6a126c0420d"
      },
      "source": [
        "df.head()"
      ],
      "execution_count": null,
      "outputs": [
        {
          "output_type": "execute_result",
          "data": {
            "text/html": [
              "<div>\n",
              "<style scoped>\n",
              "    .dataframe tbody tr th:only-of-type {\n",
              "        vertical-align: middle;\n",
              "    }\n",
              "\n",
              "    .dataframe tbody tr th {\n",
              "        vertical-align: top;\n",
              "    }\n",
              "\n",
              "    .dataframe thead th {\n",
              "        text-align: right;\n",
              "    }\n",
              "</style>\n",
              "<table border=\"1\" class=\"dataframe\">\n",
              "  <thead>\n",
              "    <tr style=\"text-align: right;\">\n",
              "      <th></th>\n",
              "      <th>PassengerId</th>\n",
              "      <th>Survived</th>\n",
              "      <th>Pclass</th>\n",
              "      <th>Name</th>\n",
              "      <th>Sex</th>\n",
              "      <th>Age</th>\n",
              "      <th>SibSp</th>\n",
              "      <th>Parch</th>\n",
              "      <th>Ticket</th>\n",
              "      <th>Fare</th>\n",
              "      <th>Cabin</th>\n",
              "      <th>Embarked</th>\n",
              "    </tr>\n",
              "  </thead>\n",
              "  <tbody>\n",
              "    <tr>\n",
              "      <th>0</th>\n",
              "      <td>1</td>\n",
              "      <td>0</td>\n",
              "      <td>3</td>\n",
              "      <td>Braund, Mr. Owen Harris</td>\n",
              "      <td>male</td>\n",
              "      <td>22.0</td>\n",
              "      <td>1</td>\n",
              "      <td>0</td>\n",
              "      <td>A/5 21171</td>\n",
              "      <td>7.2500</td>\n",
              "      <td>NaN</td>\n",
              "      <td>S</td>\n",
              "    </tr>\n",
              "    <tr>\n",
              "      <th>1</th>\n",
              "      <td>2</td>\n",
              "      <td>1</td>\n",
              "      <td>1</td>\n",
              "      <td>Cumings, Mrs. John Bradley (Florence Briggs Th...</td>\n",
              "      <td>female</td>\n",
              "      <td>38.0</td>\n",
              "      <td>1</td>\n",
              "      <td>0</td>\n",
              "      <td>PC 17599</td>\n",
              "      <td>71.2833</td>\n",
              "      <td>C85</td>\n",
              "      <td>C</td>\n",
              "    </tr>\n",
              "    <tr>\n",
              "      <th>2</th>\n",
              "      <td>3</td>\n",
              "      <td>1</td>\n",
              "      <td>3</td>\n",
              "      <td>Heikkinen, Miss. Laina</td>\n",
              "      <td>female</td>\n",
              "      <td>26.0</td>\n",
              "      <td>0</td>\n",
              "      <td>0</td>\n",
              "      <td>STON/O2. 3101282</td>\n",
              "      <td>7.9250</td>\n",
              "      <td>NaN</td>\n",
              "      <td>S</td>\n",
              "    </tr>\n",
              "    <tr>\n",
              "      <th>3</th>\n",
              "      <td>4</td>\n",
              "      <td>1</td>\n",
              "      <td>1</td>\n",
              "      <td>Futrelle, Mrs. Jacques Heath (Lily May Peel)</td>\n",
              "      <td>female</td>\n",
              "      <td>35.0</td>\n",
              "      <td>1</td>\n",
              "      <td>0</td>\n",
              "      <td>113803</td>\n",
              "      <td>53.1000</td>\n",
              "      <td>C123</td>\n",
              "      <td>S</td>\n",
              "    </tr>\n",
              "    <tr>\n",
              "      <th>4</th>\n",
              "      <td>5</td>\n",
              "      <td>0</td>\n",
              "      <td>3</td>\n",
              "      <td>Allen, Mr. William Henry</td>\n",
              "      <td>male</td>\n",
              "      <td>35.0</td>\n",
              "      <td>0</td>\n",
              "      <td>0</td>\n",
              "      <td>373450</td>\n",
              "      <td>8.0500</td>\n",
              "      <td>NaN</td>\n",
              "      <td>S</td>\n",
              "    </tr>\n",
              "  </tbody>\n",
              "</table>\n",
              "</div>"
            ],
            "text/plain": [
              "   PassengerId  Survived  Pclass  ...     Fare Cabin  Embarked\n",
              "0            1         0       3  ...   7.2500   NaN         S\n",
              "1            2         1       1  ...  71.2833   C85         C\n",
              "2            3         1       3  ...   7.9250   NaN         S\n",
              "3            4         1       1  ...  53.1000  C123         S\n",
              "4            5         0       3  ...   8.0500   NaN         S\n",
              "\n",
              "[5 rows x 12 columns]"
            ]
          },
          "metadata": {
            "tags": []
          },
          "execution_count": 652
        }
      ]
    },
    {
      "cell_type": "code",
      "metadata": {
        "id": "F12oJv9wx-Xh",
        "colab_type": "code",
        "colab": {
          "base_uri": "https://localhost:8080/",
          "height": 34
        },
        "outputId": "080ca2b3-dfb5-4031-e26b-5b717de83676"
      },
      "source": [
        "df.shape"
      ],
      "execution_count": null,
      "outputs": [
        {
          "output_type": "execute_result",
          "data": {
            "text/plain": [
              "(891, 12)"
            ]
          },
          "metadata": {
            "tags": []
          },
          "execution_count": 653
        }
      ]
    },
    {
      "cell_type": "code",
      "metadata": {
        "id": "WpdrKi0pLesi",
        "colab_type": "code",
        "colab": {
          "base_uri": "https://localhost:8080/",
          "height": 340
        },
        "outputId": "3094e68d-07e9-4024-da98-02b87b438ced"
      },
      "source": [
        "df.info()"
      ],
      "execution_count": null,
      "outputs": [
        {
          "output_type": "stream",
          "text": [
            "<class 'pandas.core.frame.DataFrame'>\n",
            "RangeIndex: 891 entries, 0 to 890\n",
            "Data columns (total 12 columns):\n",
            " #   Column       Non-Null Count  Dtype  \n",
            "---  ------       --------------  -----  \n",
            " 0   PassengerId  891 non-null    int64  \n",
            " 1   Survived     891 non-null    int64  \n",
            " 2   Pclass       891 non-null    int64  \n",
            " 3   Name         891 non-null    object \n",
            " 4   Sex          891 non-null    object \n",
            " 5   Age          714 non-null    float64\n",
            " 6   SibSp        891 non-null    int64  \n",
            " 7   Parch        891 non-null    int64  \n",
            " 8   Ticket       891 non-null    object \n",
            " 9   Fare         891 non-null    float64\n",
            " 10  Cabin        204 non-null    object \n",
            " 11  Embarked     889 non-null    object \n",
            "dtypes: float64(2), int64(5), object(5)\n",
            "memory usage: 83.7+ KB\n"
          ],
          "name": "stdout"
        }
      ]
    },
    {
      "cell_type": "code",
      "metadata": {
        "id": "erDbnR-5Mxx8",
        "colab_type": "code",
        "colab": {
          "base_uri": "https://localhost:8080/",
          "height": 68
        },
        "outputId": "c509d288-d2e2-43c0-c825-a47230aa45f3"
      },
      "source": [
        "df.columns"
      ],
      "execution_count": null,
      "outputs": [
        {
          "output_type": "execute_result",
          "data": {
            "text/plain": [
              "Index(['PassengerId', 'Survived', 'Pclass', 'Name', 'Sex', 'Age', 'SibSp',\n",
              "       'Parch', 'Ticket', 'Fare', 'Cabin', 'Embarked'],\n",
              "      dtype='object')"
            ]
          },
          "metadata": {
            "tags": []
          },
          "execution_count": 655
        }
      ]
    },
    {
      "cell_type": "code",
      "metadata": {
        "id": "mbrkw6f3Lsrq",
        "colab_type": "code",
        "colab": {
          "base_uri": "https://localhost:8080/",
          "height": 34
        },
        "outputId": "06384459-e618-434f-e782-e898ded2c165"
      },
      "source": [
        "missing_feature=[col for col in df.columns if(df[col].isnull().sum()>1)]\n",
        "print(missing_feature)"
      ],
      "execution_count": null,
      "outputs": [
        {
          "output_type": "stream",
          "text": [
            "['Age', 'Cabin', 'Embarked']\n"
          ],
          "name": "stdout"
        }
      ]
    },
    {
      "cell_type": "code",
      "metadata": {
        "id": "pOwVKNAKrFjh",
        "colab_type": "code",
        "colab": {
          "base_uri": "https://localhost:8080/",
          "height": 68
        },
        "outputId": "3b819152-3cb5-44c7-acdc-caa9c5be2527"
      },
      "source": [
        "for col in missing_feature:\n",
        "  print(col,round(df[col].isnull().mean(),4))"
      ],
      "execution_count": null,
      "outputs": [
        {
          "output_type": "stream",
          "text": [
            "Age 0.1987\n",
            "Cabin 0.771\n",
            "Embarked 0.0022\n"
          ],
          "name": "stdout"
        }
      ]
    },
    {
      "cell_type": "code",
      "metadata": {
        "id": "0Vrangx_gEeN",
        "colab_type": "code",
        "colab": {
          "base_uri": "https://localhost:8080/",
          "height": 238
        },
        "outputId": "13243497-7c1c-44d5-be24-2f57e087eb0c"
      },
      "source": [
        "df.isnull().sum()"
      ],
      "execution_count": null,
      "outputs": [
        {
          "output_type": "execute_result",
          "data": {
            "text/plain": [
              "PassengerId      0\n",
              "Survived         0\n",
              "Pclass           0\n",
              "Name             0\n",
              "Sex              0\n",
              "Age            177\n",
              "SibSp            0\n",
              "Parch            0\n",
              "Ticket           0\n",
              "Fare             0\n",
              "Cabin          687\n",
              "Embarked         2\n",
              "dtype: int64"
            ]
          },
          "metadata": {
            "tags": []
          },
          "execution_count": 659
        }
      ]
    },
    {
      "cell_type": "code",
      "metadata": {
        "id": "BMvMqgLqMCYx",
        "colab_type": "code",
        "colab": {
          "base_uri": "https://localhost:8080/",
          "height": 798
        },
        "outputId": "268b45c8-72e1-4949-948f-2be2f42e629f"
      },
      "source": [
        "for col in missing_feature:\n",
        "  data=df.copy()\n",
        "  data[col]=np.where(data[col].isnull(),1,0)\n",
        "  data.groupby(col)[\"Survived\"].mean().plot.bar()\n",
        "  plt.show()"
      ],
      "execution_count": null,
      "outputs": [
        {
          "output_type": "display_data",
          "data": {
            "image/png": "[encoded data removed]",
            "text/plain": [
              "<Figure size 432x288 with 1 Axes>"
            ]
          },
          "metadata": {
            "tags": [],
            "needs_background": "light"
          }
        },
        {
          "output_type": "display_data",
          "data": {
            "image/png": "[encoded data removed]",
            "text/plain": [
              "<Figure size 432x288 with 1 Axes>"
            ]
          },
          "metadata": {
            "tags": [],
            "needs_background": "light"
          }
        },
        {
          "output_type": "display_data",
          "data": {
            "image/png": "[encoded data removed]",
            "text/plain": [
              "<Figure size 432x288 with 1 Axes>"
            ]
          },
          "metadata": {
            "tags": [],
            "needs_background": "light"
          }
        }
      ]
    },
    {
      "cell_type": "markdown",
      "metadata": {
        "id": "X0ZMvnOJr0t6",
        "colab_type": "text"
      },
      "source": [
        "The cabin has the highst percentage of missing values i.e 77% and also from above we can see that it does not make much impact on the data frame."
      ]
    },
    {
      "cell_type": "code",
      "metadata": {
        "id": "7nH4G-NwZAvv",
        "colab_type": "code",
        "colab": {
          "base_uri": "https://localhost:8080/",
          "height": 102
        },
        "outputId": "2f494eb7-a1d1-430c-bb52-59cd0581a27b"
      },
      "source": [
        "for col in df.select_dtypes(\"object\").columns:\n",
        "  print(col,len(df[col].unique()))"
      ],
      "execution_count": null,
      "outputs": [
        {
          "output_type": "stream",
          "text": [
            "Name 891\n",
            "Sex 2\n",
            "Ticket 681\n",
            "Cabin 148\n",
            "Embarked 4\n"
          ],
          "name": "stdout"
        }
      ]
    },
    {
      "cell_type": "code",
      "metadata": {
        "id": "N1enPoHvxmGT",
        "colab_type": "code",
        "colab": {}
      },
      "source": [
        "df[\"new_sex\"]=np.where(df[\"Sex\"]==\"male\",1,0)"
      ],
      "execution_count": null,
      "outputs": []
    },
    {
      "cell_type": "code",
      "metadata": {
        "id": "iSh0uRa9xxnb",
        "colab_type": "code",
        "colab": {
          "base_uri": "https://localhost:8080/",
          "height": 34
        },
        "outputId": "ed4232e8-67bf-4422-9b56-c0a589853496"
      },
      "source": [
        "df.select_dtypes(\"object\").columns"
      ],
      "execution_count": null,
      "outputs": [
        {
          "output_type": "execute_result",
          "data": {
            "text/plain": [
              "Index(['Name', 'Sex', 'Ticket', 'Cabin', 'Embarked'], dtype='object')"
            ]
          },
          "metadata": {
            "tags": []
          },
          "execution_count": 663
        }
      ]
    },
    {
      "cell_type": "code",
      "metadata": {
        "id": "UKZ-sgXWyXW6",
        "colab_type": "code",
        "colab": {
          "base_uri": "https://localhost:8080/",
          "height": 748
        },
        "outputId": "ca50f241-2918-4ac1-fc86-5f048cfe0562"
      },
      "source": [
        "for col in df.select_dtypes(\"object\").columns:\n",
        "  print(df[col].value_counts())"
      ],
      "execution_count": null,
      "outputs": [
        {
          "output_type": "stream",
          "text": [
            "McEvoy, Mr. Michael                  1\n",
            "Parkes, Mr. Francis \"Frank\"          1\n",
            "Coleff, Mr. Satio                    1\n",
            "Frolicher-Stehli, Mr. Maxmillian     1\n",
            "Hewlett, Mrs. (Mary D Kingcome)      1\n",
            "                                    ..\n",
            "Greenfield, Mr. William Bertram      1\n",
            "Keefe, Mr. Arthur                    1\n",
            "Hosono, Mr. Masabumi                 1\n",
            "Byles, Rev. Thomas Roussel Davids    1\n",
            "Sinkkonen, Miss. Anna                1\n",
            "Name: Name, Length: 891, dtype: int64\n",
            "male      577\n",
            "female    314\n",
            "Name: Sex, dtype: int64\n",
            "347082        7\n",
            "1601          7\n",
            "CA. 2343      7\n",
            "3101295       6\n",
            "CA 2144       6\n",
            "             ..\n",
            "347083        1\n",
            "349225        1\n",
            "PC 17754      1\n",
            "C.A. 24579    1\n",
            "371362        1\n",
            "Name: Ticket, Length: 681, dtype: int64\n",
            "C23 C25 C27    4\n",
            "B96 B98        4\n",
            "G6             4\n",
            "D              3\n",
            "F33            3\n",
            "              ..\n",
            "D7             1\n",
            "C87            1\n",
            "D11            1\n",
            "F G63          1\n",
            "C110           1\n",
            "Name: Cabin, Length: 147, dtype: int64\n",
            "S    644\n",
            "C    168\n",
            "Q     77\n",
            "Name: Embarked, dtype: int64\n"
          ],
          "name": "stdout"
        }
      ]
    },
    {
      "cell_type": "code",
      "metadata": {
        "id": "qQsjIuYMzGv8",
        "colab_type": "code",
        "colab": {
          "base_uri": "https://localhost:8080/",
          "height": 68
        },
        "outputId": "205c3ac1-3c02-4b93-81ea-67db24e39423"
      },
      "source": [
        "df.columns"
      ],
      "execution_count": null,
      "outputs": [
        {
          "output_type": "execute_result",
          "data": {
            "text/plain": [
              "Index(['PassengerId', 'Survived', 'Pclass', 'Name', 'Sex', 'Age', 'SibSp',\n",
              "       'Parch', 'Ticket', 'Fare', 'Cabin', 'Embarked', 'new_sex'],\n",
              "      dtype='object')"
            ]
          },
          "metadata": {
            "tags": []
          },
          "execution_count": 666
        }
      ]
    },
    {
      "cell_type": "code",
      "metadata": {
        "id": "yLFSWdhBs8K1",
        "colab_type": "code",
        "colab": {}
      },
      "source": [
        "df.drop([\"PassengerId\",\"Name\",\"Sex\",\"Cabin\"],axis=1,inplace=True)"
      ],
      "execution_count": null,
      "outputs": []
    },
    {
      "cell_type": "code",
      "metadata": {
        "id": "W1o5ggg3tPes",
        "colab_type": "code",
        "colab": {
          "base_uri": "https://localhost:8080/",
          "height": 1000
        },
        "outputId": "d27b99a1-c41a-4d4e-f204-6e6625f41e3a"
      },
      "source": [
        "for col in df.columns:\n",
        "  print(\"====={}======\".format(col))\n",
        "  print(df[col].value_counts())\n",
        "  print(len(df[col].unique()))"
      ],
      "execution_count": null,
      "outputs": [
        {
          "output_type": "stream",
          "text": [
            "=====Survived======\n",
            "0    549\n",
            "1    342\n",
            "Name: Survived, dtype: int64\n",
            "2\n",
            "=====Pclass======\n",
            "3    491\n",
            "1    216\n",
            "2    184\n",
            "Name: Pclass, dtype: int64\n",
            "3\n",
            "=====Age======\n",
            "24.00    30\n",
            "22.00    27\n",
            "18.00    26\n",
            "19.00    25\n",
            "30.00    25\n",
            "         ..\n",
            "55.50     1\n",
            "70.50     1\n",
            "66.00     1\n",
            "23.50     1\n",
            "0.42      1\n",
            "Name: Age, Length: 88, dtype: int64\n",
            "89\n",
            "=====SibSp======\n",
            "0    608\n",
            "1    209\n",
            "2     28\n",
            "4     18\n",
            "3     16\n",
            "8      7\n",
            "5      5\n",
            "Name: SibSp, dtype: int64\n",
            "7\n",
            "=====Parch======\n",
            "0    678\n",
            "1    118\n",
            "2     80\n",
            "5      5\n",
            "3      5\n",
            "4      4\n",
            "6      1\n",
            "Name: Parch, dtype: int64\n",
            "7\n",
            "=====Ticket======\n",
            "347082        7\n",
            "1601          7\n",
            "CA. 2343      7\n",
            "3101295       6\n",
            "CA 2144       6\n",
            "             ..\n",
            "347083        1\n",
            "349225        1\n",
            "PC 17754      1\n",
            "C.A. 24579    1\n",
            "371362        1\n",
            "Name: Ticket, Length: 681, dtype: int64\n",
            "681\n",
            "=====Fare======\n",
            "8.0500     43\n",
            "13.0000    42\n",
            "7.8958     38\n",
            "7.7500     34\n",
            "26.0000    31\n",
            "           ..\n",
            "8.4583      1\n",
            "9.8375      1\n",
            "8.3625      1\n",
            "14.1083     1\n",
            "17.4000     1\n",
            "Name: Fare, Length: 248, dtype: int64\n",
            "248\n",
            "=====Embarked======\n",
            "S    644\n",
            "C    168\n",
            "Q     77\n",
            "Name: Embarked, dtype: int64\n",
            "4\n",
            "=====new_sex======\n",
            "1    577\n",
            "0    314\n",
            "Name: new_sex, dtype: int64\n",
            "2\n"
          ],
          "name": "stdout"
        }
      ]
    },
    {
      "cell_type": "code",
      "metadata": {
        "id": "IS2hObs9zaEi",
        "colab_type": "code",
        "colab": {}
      },
      "source": [
        "df.drop(\"Ticket\",axis=1,inplace=True)"
      ],
      "execution_count": null,
      "outputs": []
    },
    {
      "cell_type": "code",
      "metadata": {
        "id": "XXvBjLUd0D86",
        "colab_type": "code",
        "colab": {
          "base_uri": "https://localhost:8080/",
          "height": 34
        },
        "outputId": "72052f8f-e8e2-4d1b-e115-9abc59758007"
      },
      "source": [
        "numerical_feature=[col for col in df.columns if(df[col].dtypes!=\"O\")]\n",
        "print(numerical_feature)"
      ],
      "execution_count": null,
      "outputs": [
        {
          "output_type": "stream",
          "text": [
            "['Survived', 'Pclass', 'Age', 'SibSp', 'Parch', 'Fare', 'new_sex']\n"
          ],
          "name": "stdout"
        }
      ]
    },
    {
      "cell_type": "code",
      "metadata": {
        "id": "OQBXJdr90M36",
        "colab_type": "code",
        "colab": {
          "base_uri": "https://localhost:8080/",
          "height": 136
        },
        "outputId": "8f48b9ed-ced8-4eb5-b58b-af5fb4f5c302"
      },
      "source": [
        "for col in numerical_feature:\n",
        "  print(col,len(df[col].unique()))"
      ],
      "execution_count": null,
      "outputs": [
        {
          "output_type": "stream",
          "text": [
            "Survived 2\n",
            "Pclass 3\n",
            "Age 89\n",
            "SibSp 7\n",
            "Parch 7\n",
            "Fare 248\n",
            "new_sex 2\n"
          ],
          "name": "stdout"
        }
      ]
    },
    {
      "cell_type": "code",
      "metadata": {
        "id": "0wcf9FVGcETj",
        "colab_type": "code",
        "colab": {
          "base_uri": "https://localhost:8080/",
          "height": 34
        },
        "outputId": "6c7c8821-07f4-4652-aa47-0b583fa3281b"
      },
      "source": [
        "discrete_value=[col for col in numerical_feature if len(df[col].unique())<8]\n",
        "print(discrete_value)"
      ],
      "execution_count": null,
      "outputs": [
        {
          "output_type": "stream",
          "text": [
            "['Survived', 'Pclass', 'SibSp', 'Parch', 'new_sex']\n"
          ],
          "name": "stdout"
        }
      ]
    },
    {
      "cell_type": "code",
      "metadata": {
        "id": "FoavR7wC0XLW",
        "colab_type": "code",
        "colab": {
          "base_uri": "https://localhost:8080/",
          "height": 1000
        },
        "outputId": "0c441422-9f53-4a66-8c27-5536860d2c7e"
      },
      "source": [
        "for col in discrete_value:\n",
        "  df.groupby(col)[\"Survived\"].mean().plot.bar()\n",
        "  plt.xlabel(col)\n",
        "  plt.ylabel(\"Survived\")\n",
        "  plt.show()"
      ],
      "execution_count": null,
      "outputs": [
        {
          "output_type": "display_data",
          "data": {
            "image/png": "[encoded data removed]",
            "text/plain": [
              "<Figure size 432x288 with 1 Axes>"
            ]
          },
          "metadata": {
            "tags": [],
            "needs_background": "light"
          }
        },
        {
          "output_type": "display_data",
          "data": {
            "image/png": "[encoded data removed]",
            "text/plain": [
              "<Figure size 432x288 with 1 Axes>"
            ]
          },
          "metadata": {
            "tags": [],
            "needs_background": "light"
          }
        },
        {
          "output_type": "display_data",
          "data": {
            "image/png": "[encoded data removed]",
            "text/plain": [
              "<Figure size 432x288 with 1 Axes>"
            ]
          },
          "metadata": {
            "tags": [],
            "needs_background": "light"
          }
        },
        {
          "output_type": "display_data",
          "data": {
            "image/png": "[encoded data removed]",
            "text/plain": [
              "<Figure size 432x288 with 1 Axes>"
            ]
          },
          "metadata": {
            "tags": [],
            "needs_background": "light"
          }
        },
        {
          "output_type": "display_data",
          "data": {
            "image/png": "[encoded data removed]",
            "text/plain": [
              "<Figure size 432x288 with 1 Axes>"
            ]
          },
          "metadata": {
            "tags": [],
            "needs_background": "light"
          }
        }
      ]
    },
    {
      "cell_type": "code",
      "metadata": {
        "id": "6dAxSRSrc1PM",
        "colab_type": "code",
        "colab": {
          "base_uri": "https://localhost:8080/",
          "height": 1000
        },
        "outputId": "8c434716-7e2e-4ecf-a616-fcd29ae15c0e"
      },
      "source": [
        "for col in discrete_value:\n",
        "  sns.countplot(x=\"Survived\",hue=col,data=df)\n",
        "  plt.show()"
      ],
      "execution_count": null,
      "outputs": [
        {
          "output_type": "display_data",
          "data": {
            "image/png": "[encoded data removed]",
            "text/plain": [
              "<Figure size 432x288 with 1 Axes>"
            ]
          },
          "metadata": {
            "tags": [],
            "needs_background": "light"
          }
        },
        {
          "output_type": "display_data",
          "data": {
            "image/png": "[encoded data removed]",
            "text/plain": [
              "<Figure size 432x288 with 1 Axes>"
            ]
          },
          "metadata": {
            "tags": [],
            "needs_background": "light"
          }
        },
        {
          "output_type": "display_data",
          "data": {
            "image/png": "[encoded data removed]",
            "text/plain": [
              "<Figure size 432x288 with 1 Axes>"
            ]
          },
          "metadata": {
            "tags": [],
            "needs_background": "light"
          }
        },
        {
          "output_type": "display_data",
          "data": {
            "image/png": "[encoded data removed]",
            "text/plain": [
              "<Figure size 432x288 with 1 Axes>"
            ]
          },
          "metadata": {
            "tags": [],
            "needs_background": "light"
          }
        },
        {
          "output_type": "display_data",
          "data": {
            "image/png": "[encoded data removed]",
            "text/plain": [
              "<Figure size 432x288 with 1 Axes>"
            ]
          },
          "metadata": {
            "tags": [],
            "needs_background": "light"
          }
        }
      ]
    },
    {
      "cell_type": "code",
      "metadata": {
        "id": "1gmyvBfLaD7F",
        "colab_type": "code",
        "colab": {
          "base_uri": "https://localhost:8080/",
          "height": 34
        },
        "outputId": "32e4c0e4-9826-41bd-c625-86edcb9ef87c"
      },
      "source": [
        "continous_value=[col for col in numerical_feature if col not in discrete_value]\n",
        "print(continous_value)"
      ],
      "execution_count": null,
      "outputs": [
        {
          "output_type": "stream",
          "text": [
            "['Age', 'Fare']\n"
          ],
          "name": "stdout"
        }
      ]
    },
    {
      "cell_type": "code",
      "metadata": {
        "id": "r6fPRveLewu5",
        "colab_type": "code",
        "colab": {
          "base_uri": "https://localhost:8080/",
          "height": 581
        },
        "outputId": "c913397d-eb15-4410-a887-963f14568a96"
      },
      "source": [
        "for col in continous_value:\n",
        "  plt.hist(df[col],bins=20)\n",
        "  plt.show()"
      ],
      "execution_count": null,
      "outputs": [
        {
          "output_type": "stream",
          "text": [
            "/usr/local/lib/python3.6/dist-packages/numpy/lib/histograms.py:839: RuntimeWarning: invalid value encountered in greater_equal\n",
            "  keep = (tmp_a >= first_edge)\n",
            "/usr/local/lib/python3.6/dist-packages/numpy/lib/histograms.py:840: RuntimeWarning: invalid value encountered in less_equal\n",
            "  keep &= (tmp_a <= last_edge)\n"
          ],
          "name": "stderr"
        },
        {
          "output_type": "display_data",
          "data": {
            "image/png": "[encoded data removed]",
            "text/plain": [
              "<Figure size 432x288 with 1 Axes>"
            ]
          },
          "metadata": {
            "tags": [],
            "needs_background": "light"
          }
        },
        {
          "output_type": "display_data",
          "data": {
            "image/png": "[encoded data removed]",
            "text/plain": [
              "<Figure size 432x288 with 1 Axes>"
            ]
          },
          "metadata": {
            "tags": [],
            "needs_background": "light"
          }
        }
      ]
    },
    {
      "cell_type": "code",
      "metadata": {
        "id": "JacWkPlXfWMs",
        "colab_type": "code",
        "colab": {
          "base_uri": "https://localhost:8080/",
          "height": 335
        },
        "outputId": "a9ae473b-c544-4541-9bc1-ce2f15b92dc5"
      },
      "source": [
        "for col in continous_value:\n",
        "  data=df.copy()\n",
        "  if 0 in data[col].unique():\n",
        "    pass \n",
        "  else:\n",
        "    data[col]=np.log(df[col]+1)\n",
        "    plt.hist(data[col],bins=20)\n",
        "    plt.show()"
      ],
      "execution_count": null,
      "outputs": [
        {
          "output_type": "stream",
          "text": [
            "/usr/local/lib/python3.6/dist-packages/numpy/lib/histograms.py:839: RuntimeWarning: invalid value encountered in greater_equal\n",
            "  keep = (tmp_a >= first_edge)\n",
            "/usr/local/lib/python3.6/dist-packages/numpy/lib/histograms.py:840: RuntimeWarning: invalid value encountered in less_equal\n",
            "  keep &= (tmp_a <= last_edge)\n"
          ],
          "name": "stderr"
        },
        {
          "output_type": "display_data",
          "data": {
            "image/png": "[encoded data removed]",
            "text/plain": [
              "<Figure size 432x288 with 1 Axes>"
            ]
          },
          "metadata": {
            "tags": [],
            "needs_background": "light"
          }
        }
      ]
    },
    {
      "cell_type": "code",
      "metadata": {
        "id": "aX6_klzOjlJn",
        "colab_type": "code",
        "colab": {
          "base_uri": "https://localhost:8080/",
          "height": 335
        },
        "outputId": "4f6ac50b-7cf6-4e6f-f4e9-c01c6f0ce7ed"
      },
      "source": [
        "for col in continous_value:\n",
        "  if 0 in df[col].unique():\n",
        "    pass \n",
        "  else:\n",
        "    df[col]=np.log(df[col]+1)\n",
        "    plt.hist(df[col],bins=20)\n",
        "    plt.show()"
      ],
      "execution_count": null,
      "outputs": [
        {
          "output_type": "stream",
          "text": [
            "/usr/local/lib/python3.6/dist-packages/numpy/lib/histograms.py:839: RuntimeWarning: invalid value encountered in greater_equal\n",
            "  keep = (tmp_a >= first_edge)\n",
            "/usr/local/lib/python3.6/dist-packages/numpy/lib/histograms.py:840: RuntimeWarning: invalid value encountered in less_equal\n",
            "  keep &= (tmp_a <= last_edge)\n"
          ],
          "name": "stderr"
        },
        {
          "output_type": "display_data",
          "data": {
            "image/png": "[encoded data removed]",
            "text/plain": [
              "<Figure size 432x288 with 1 Axes>"
            ]
          },
          "metadata": {
            "tags": [],
            "needs_background": "light"
          }
        }
      ]
    },
    {
      "cell_type": "code",
      "metadata": {
        "id": "42qWKoK1aeap",
        "colab_type": "code",
        "colab": {
          "base_uri": "https://localhost:8080/",
          "height": 34
        },
        "outputId": "c7667eaf-580d-4ccd-d22b-28b668f4f6de"
      },
      "source": [
        "df[\"Embarked\"].unique()"
      ],
      "execution_count": null,
      "outputs": [
        {
          "output_type": "execute_result",
          "data": {
            "text/plain": [
              "array(['S', 'C', 'Q', nan], dtype=object)"
            ]
          },
          "metadata": {
            "tags": []
          },
          "execution_count": 679
        }
      ]
    },
    {
      "cell_type": "code",
      "metadata": {
        "id": "K0-0Z-drr8VG",
        "colab_type": "code",
        "colab": {
          "base_uri": "https://localhost:8080/",
          "height": 85
        },
        "outputId": "3d2d1d18-c328-4767-e0e5-b1a073e5baea"
      },
      "source": [
        "df['Embarked'].value_counts(normalize=True)"
      ],
      "execution_count": null,
      "outputs": [
        {
          "output_type": "execute_result",
          "data": {
            "text/plain": [
              "S    0.724409\n",
              "C    0.188976\n",
              "Q    0.086614\n",
              "Name: Embarked, dtype: float64"
            ]
          },
          "metadata": {
            "tags": []
          },
          "execution_count": 680
        }
      ]
    },
    {
      "cell_type": "code",
      "metadata": {
        "id": "eezZ8-dne1GO",
        "colab_type": "code",
        "colab": {}
      },
      "source": [
        "df[\"Embarked\"].fillna(\"S\",inplace=True)"
      ],
      "execution_count": null,
      "outputs": []
    },
    {
      "cell_type": "code",
      "metadata": {
        "id": "o_gBoghl07fO",
        "colab_type": "code",
        "colab": {
          "base_uri": "https://localhost:8080/",
          "height": 34
        },
        "outputId": "dc094d4b-2245-4519-fcc4-6c108f736e57"
      },
      "source": [
        "for col in df.select_dtypes(\"object\").columns:\n",
        "  dummy=pd.get_dummies(df[col],prefix=col,drop_first=True)\n",
        "  df=pd.concat([df,dummy],axis=1)\n",
        "  del df[col]\n",
        "  print(col)\n",
        "del dummy"
      ],
      "execution_count": null,
      "outputs": [
        {
          "output_type": "stream",
          "text": [
            "Embarked\n"
          ],
          "name": "stdout"
        }
      ]
    },
    {
      "cell_type": "code",
      "metadata": {
        "id": "ZUeskVUZ1kQc",
        "colab_type": "code",
        "colab": {
          "base_uri": "https://localhost:8080/",
          "height": 34
        },
        "outputId": "b48ccb03-4120-4a93-ff30-e7a98b134bde"
      },
      "source": [
        "df.shape"
      ],
      "execution_count": null,
      "outputs": [
        {
          "output_type": "execute_result",
          "data": {
            "text/plain": [
              "(891, 9)"
            ]
          },
          "metadata": {
            "tags": []
          },
          "execution_count": 683
        }
      ]
    },
    {
      "cell_type": "code",
      "metadata": {
        "id": "oh6ROY6Ndcw2",
        "colab_type": "code",
        "colab": {
          "base_uri": "https://localhost:8080/",
          "height": 68
        },
        "outputId": "9aeb76a1-d04f-4d6f-cc27-90dc38888507"
      },
      "source": [
        "df.columns"
      ],
      "execution_count": null,
      "outputs": [
        {
          "output_type": "execute_result",
          "data": {
            "text/plain": [
              "Index(['Survived', 'Pclass', 'Age', 'SibSp', 'Parch', 'Fare', 'new_sex',\n",
              "       'Embarked_Q', 'Embarked_S'],\n",
              "      dtype='object')"
            ]
          },
          "metadata": {
            "tags": []
          },
          "execution_count": 684
        }
      ]
    },
    {
      "cell_type": "code",
      "metadata": {
        "id": "t8GQlwa11o0l",
        "colab_type": "code",
        "colab": {}
      },
      "source": [
        "from sklearn.model_selection import train_test_split"
      ],
      "execution_count": null,
      "outputs": []
    },
    {
      "cell_type": "code",
      "metadata": {
        "id": "mb5PhZ0u1zCN",
        "colab_type": "code",
        "colab": {}
      },
      "source": [
        "train, test= train_test_split(df,test_size=0.2,random_state=10)"
      ],
      "execution_count": null,
      "outputs": []
    },
    {
      "cell_type": "code",
      "metadata": {
        "id": "KjLPEZZmiMch",
        "colab_type": "code",
        "colab": {
          "base_uri": "https://localhost:8080/",
          "height": 119
        },
        "outputId": "2ac05a92-027d-4703-ed4f-6a56b211e5cc"
      },
      "source": [
        "for col in train.columns:\n",
        "  if((col is not \"Survived\") and (train[col].isnull().sum()>1)):\n",
        "    train.loc[train[col].isnull(),col]=train[col].median()"
      ],
      "execution_count": null,
      "outputs": [
        {
          "output_type": "stream",
          "text": [
            "/usr/local/lib/python3.6/dist-packages/pandas/core/indexing.py:966: SettingWithCopyWarning: \n",
            "A value is trying to be set on a copy of a slice from a DataFrame.\n",
            "Try using .loc[row_indexer,col_indexer] = value instead\n",
            "\n",
            "See the caveats in the documentation: https://pandas.pydata.org/pandas-docs/stable/user_guide/indexing.html#returning-a-view-versus-a-copy\n",
            "  self.obj[item] = s\n"
          ],
          "name": "stderr"
        }
      ]
    },
    {
      "cell_type": "code",
      "metadata": {
        "id": "qJIugpiIirLq",
        "colab_type": "code",
        "colab": {
          "base_uri": "https://localhost:8080/",
          "height": 119
        },
        "outputId": "7ef30c14-b60e-4041-c39e-45e0be729774"
      },
      "source": [
        "for col in test.columns:\n",
        "  if((col is not \"Survived\") and (test[col].isnull().sum()>1)):\n",
        "    test.loc[test[col].isnull(),col]=train[col].median()"
      ],
      "execution_count": null,
      "outputs": [
        {
          "output_type": "stream",
          "text": [
            "/usr/local/lib/python3.6/dist-packages/pandas/core/indexing.py:966: SettingWithCopyWarning: \n",
            "A value is trying to be set on a copy of a slice from a DataFrame.\n",
            "Try using .loc[row_indexer,col_indexer] = value instead\n",
            "\n",
            "See the caveats in the documentation: https://pandas.pydata.org/pandas-docs/stable/user_guide/indexing.html#returning-a-view-versus-a-copy\n",
            "  self.obj[item] = s\n"
          ],
          "name": "stderr"
        }
      ]
    },
    {
      "cell_type": "code",
      "metadata": {
        "id": "m0H7SRrc18js",
        "colab_type": "code",
        "colab": {}
      },
      "source": [
        "x_train=train.drop(\"Survived\",axis=1)\n",
        "y_train=train[\"Survived\"]\n",
        "x_test=test.drop(\"Survived\",axis=1)\n",
        "y_test=test[\"Survived\"]"
      ],
      "execution_count": null,
      "outputs": []
    },
    {
      "cell_type": "code",
      "metadata": {
        "id": "OOJncnli8caC",
        "colab_type": "code",
        "colab": {}
      },
      "source": [
        "from sklearn.preprocessing import StandardScaler, MinMaxScaler"
      ],
      "execution_count": null,
      "outputs": []
    },
    {
      "cell_type": "code",
      "metadata": {
        "id": "Ok7VeiCF-wkM",
        "colab_type": "code",
        "colab": {}
      },
      "source": [
        "min_max=MinMaxScaler()"
      ],
      "execution_count": null,
      "outputs": []
    },
    {
      "cell_type": "code",
      "metadata": {
        "id": "VTxpCz6K-1Qr",
        "colab_type": "code",
        "colab": {
          "base_uri": "https://localhost:8080/",
          "height": 34
        },
        "outputId": "965e744f-1c27-4bd6-fa6d-18dbe6443a54"
      },
      "source": [
        "min_max.fit(x_train)"
      ],
      "execution_count": null,
      "outputs": [
        {
          "output_type": "execute_result",
          "data": {
            "text/plain": [
              "MinMaxScaler(copy=True, feature_range=(0, 1))"
            ]
          },
          "metadata": {
            "tags": []
          },
          "execution_count": 692
        }
      ]
    },
    {
      "cell_type": "code",
      "metadata": {
        "id": "c75dInuG_Ca1",
        "colab_type": "code",
        "colab": {}
      },
      "source": [
        "x_train_min= min_max.transform(x_train)"
      ],
      "execution_count": null,
      "outputs": []
    },
    {
      "cell_type": "code",
      "metadata": {
        "id": "EQDQ_VSCDbyE",
        "colab_type": "code",
        "colab": {}
      },
      "source": [
        "x_test_min=min_max.transform(x_test)"
      ],
      "execution_count": null,
      "outputs": []
    },
    {
      "cell_type": "code",
      "metadata": {
        "id": "9U8VUUzj8myf",
        "colab_type": "code",
        "colab": {}
      },
      "source": [
        "st = StandardScaler()"
      ],
      "execution_count": null,
      "outputs": []
    },
    {
      "cell_type": "code",
      "metadata": {
        "id": "3GQkqld19Unz",
        "colab_type": "code",
        "colab": {
          "base_uri": "https://localhost:8080/",
          "height": 34
        },
        "outputId": "8402225b-1fe3-4007-8033-12e8a7a9c3a5"
      },
      "source": [
        "st.fit(x_train)"
      ],
      "execution_count": null,
      "outputs": [
        {
          "output_type": "execute_result",
          "data": {
            "text/plain": [
              "StandardScaler(copy=True, with_mean=True, with_std=True)"
            ]
          },
          "metadata": {
            "tags": []
          },
          "execution_count": 696
        }
      ]
    },
    {
      "cell_type": "code",
      "metadata": {
        "id": "jWMOW7v49Lhq",
        "colab_type": "code",
        "colab": {}
      },
      "source": [
        "x_train_scaler=st.transform(x_train)"
      ],
      "execution_count": null,
      "outputs": []
    },
    {
      "cell_type": "code",
      "metadata": {
        "id": "_FDcgOrQ-HH8",
        "colab_type": "code",
        "colab": {}
      },
      "source": [
        "x_test_scaler=st.transform(x_test)"
      ],
      "execution_count": null,
      "outputs": []
    },
    {
      "cell_type": "code",
      "metadata": {
        "id": "iE5Bl5Wk2TpX",
        "colab_type": "code",
        "colab": {}
      },
      "source": [
        "from sklearn.linear_model import LogisticRegression"
      ],
      "execution_count": null,
      "outputs": []
    },
    {
      "cell_type": "code",
      "metadata": {
        "id": "uIRO4uJI2cQH",
        "colab_type": "code",
        "colab": {}
      },
      "source": [
        "logr=LogisticRegression(penalty=\"l1\",random_state=10,class_weight=\"balanced\",solver=\"liblinear\")"
      ],
      "execution_count": null,
      "outputs": []
    },
    {
      "cell_type": "code",
      "metadata": {
        "id": "CWhEwsxW4xOi",
        "colab_type": "code",
        "colab": {
          "base_uri": "https://localhost:8080/",
          "height": 102
        },
        "outputId": "bca5550c-0d76-4342-9639-30e29f7afc19"
      },
      "source": [
        "logr.fit(x_train_min,y_train)"
      ],
      "execution_count": null,
      "outputs": [
        {
          "output_type": "execute_result",
          "data": {
            "text/plain": [
              "LogisticRegression(C=1.0, class_weight='balanced', dual=False,\n",
              "                   fit_intercept=True, intercept_scaling=1, l1_ratio=None,\n",
              "                   max_iter=100, multi_class='auto', n_jobs=None, penalty='l1',\n",
              "                   random_state=10, solver='liblinear', tol=0.0001, verbose=0,\n",
              "                   warm_start=False)"
            ]
          },
          "metadata": {
            "tags": []
          },
          "execution_count": 701
        }
      ]
    },
    {
      "cell_type": "code",
      "metadata": {
        "id": "YmhRouKO41QD",
        "colab_type": "code",
        "colab": {}
      },
      "source": [
        "from sklearn.metrics import roc_auc_score"
      ],
      "execution_count": null,
      "outputs": []
    },
    {
      "cell_type": "code",
      "metadata": {
        "id": "MRA8VLb148bM",
        "colab_type": "code",
        "colab": {
          "base_uri": "https://localhost:8080/",
          "height": 34
        },
        "outputId": "c4cc7d86-55df-4cd8-bec4-96b3b54986dd"
      },
      "source": [
        "roc_auc_score(y_train,logr.predict(x_train_min))"
      ],
      "execution_count": null,
      "outputs": [
        {
          "output_type": "execute_result",
          "data": {
            "text/plain": [
              "0.7885912698412699"
            ]
          },
          "metadata": {
            "tags": []
          },
          "execution_count": 703
        }
      ]
    },
    {
      "cell_type": "code",
      "metadata": {
        "id": "jZgdPNKf5FL9",
        "colab_type": "code",
        "colab": {
          "base_uri": "https://localhost:8080/",
          "height": 34
        },
        "outputId": "163e5030-48bb-4a27-a038-07b71fa2c778"
      },
      "source": [
        "roc_auc_score(y_test,logr.predict(x_test_min))"
      ],
      "execution_count": null,
      "outputs": [
        {
          "output_type": "execute_result",
          "data": {
            "text/plain": [
              "0.8215467328370555"
            ]
          },
          "metadata": {
            "tags": []
          },
          "execution_count": 704
        }
      ]
    },
    {
      "cell_type": "code",
      "metadata": {
        "id": "bFukiJTt5K50",
        "colab_type": "code",
        "colab": {
          "base_uri": "https://localhost:8080/",
          "height": 34
        },
        "outputId": "ffc10824-bcdb-41d8-9c32-89b62101d734"
      },
      "source": [
        "logr.classes_"
      ],
      "execution_count": null,
      "outputs": [
        {
          "output_type": "execute_result",
          "data": {
            "text/plain": [
              "array([0, 1])"
            ]
          },
          "metadata": {
            "tags": []
          },
          "execution_count": 705
        }
      ]
    },
    {
      "cell_type": "code",
      "metadata": {
        "id": "MdZwGCWYkQQB",
        "colab_type": "code",
        "colab": {
          "base_uri": "https://localhost:8080/",
          "height": 1000
        },
        "outputId": "663e6ed5-2aa1-4785-c108-17c6294bfa03"
      },
      "source": [
        "logr.predict_proba(x_test_min)"
      ],
      "execution_count": null,
      "outputs": [
        {
          "output_type": "execute_result",
          "data": {
            "text/plain": [
              "array([[0.86202378, 0.13797622],\n",
              "       [0.81667549, 0.18332451],\n",
              "       [0.83911831, 0.16088169],\n",
              "       [0.05903215, 0.94096785],\n",
              "       [0.10153819, 0.89846181],\n",
              "       [0.81204732, 0.18795268],\n",
              "       [0.83589556, 0.16410444],\n",
              "       [0.7471611 , 0.2528389 ],\n",
              "       [0.85540055, 0.14459945],\n",
              "       [0.82506797, 0.17493203],\n",
              "       [0.66792352, 0.33207648],\n",
              "       [0.04636283, 0.95363717],\n",
              "       [0.2593784 , 0.7406216 ],\n",
              "       [0.45962266, 0.54037734],\n",
              "       [0.68753138, 0.31246862],\n",
              "       [0.68294312, 0.31705688],\n",
              "       [0.94483471, 0.05516529],\n",
              "       [0.82528089, 0.17471911],\n",
              "       [0.37143498, 0.62856502],\n",
              "       [0.7603673 , 0.2396327 ],\n",
              "       [0.8862772 , 0.1137228 ],\n",
              "       [0.59348079, 0.40651921],\n",
              "       [0.2255058 , 0.7744942 ],\n",
              "       [0.87918596, 0.12081404],\n",
              "       [0.64588497, 0.35411503],\n",
              "       [0.81667549, 0.18332451],\n",
              "       [0.81667549, 0.18332451],\n",
              "       [0.24655676, 0.75344324],\n",
              "       [0.75872597, 0.24127403],\n",
              "       [0.06465493, 0.93534507],\n",
              "       [0.10153819, 0.89846181],\n",
              "       [0.68294312, 0.31705688],\n",
              "       [0.21844801, 0.78155199],\n",
              "       [0.92953805, 0.07046195],\n",
              "       [0.15067831, 0.84932169],\n",
              "       [0.84508002, 0.15491998],\n",
              "       [0.28752813, 0.71247187],\n",
              "       [0.6948857 , 0.3051143 ],\n",
              "       [0.7603673 , 0.2396327 ],\n",
              "       [0.85540055, 0.14459945],\n",
              "       [0.88787955, 0.11212045],\n",
              "       [0.77898615, 0.22101385],\n",
              "       [0.84508002, 0.15491998],\n",
              "       [0.61331445, 0.38668555],\n",
              "       [0.62808679, 0.37191321],\n",
              "       [0.46491058, 0.53508942],\n",
              "       [0.82100554, 0.17899446],\n",
              "       [0.82100554, 0.17899446],\n",
              "       [0.03001131, 0.96998869],\n",
              "       [0.62195827, 0.37804173],\n",
              "       [0.60788029, 0.39211971],\n",
              "       [0.79758148, 0.20241852],\n",
              "       [0.78421035, 0.21578965],\n",
              "       [0.49871666, 0.50128334],\n",
              "       [0.48873416, 0.51126584],\n",
              "       [0.04081541, 0.95918459],\n",
              "       [0.77416909, 0.22583091],\n",
              "       [0.2048724 , 0.7951276 ],\n",
              "       [0.058067  , 0.941933  ],\n",
              "       [0.91026512, 0.08973488],\n",
              "       [0.74766026, 0.25233974],\n",
              "       [0.07474805, 0.92525195],\n",
              "       [0.2048724 , 0.7951276 ],\n",
              "       [0.37698063, 0.62301937],\n",
              "       [0.90827593, 0.09172407],\n",
              "       [0.80708544, 0.19291456],\n",
              "       [0.64646085, 0.35353915],\n",
              "       [0.8517523 , 0.1482477 ],\n",
              "       [0.8599078 , 0.1400922 ],\n",
              "       [0.34719297, 0.65280703],\n",
              "       [0.60639802, 0.39360198],\n",
              "       [0.87475757, 0.12524243],\n",
              "       [0.83589556, 0.16410444],\n",
              "       [0.89782768, 0.10217232],\n",
              "       [0.15944016, 0.84055984],\n",
              "       [0.79598529, 0.20401471],\n",
              "       [0.82888906, 0.17111094],\n",
              "       [0.88373392, 0.11626608],\n",
              "       [0.33099458, 0.66900542],\n",
              "       [0.78272148, 0.21727852],\n",
              "       [0.8862772 , 0.1137228 ],\n",
              "       [0.7603673 , 0.2396327 ],\n",
              "       [0.78708938, 0.21291062],\n",
              "       [0.20409382, 0.79590618],\n",
              "       [0.13745249, 0.86254751],\n",
              "       [0.70792596, 0.29207404],\n",
              "       [0.07030323, 0.92969677],\n",
              "       [0.05415337, 0.94584663],\n",
              "       [0.6919345 , 0.3080655 ],\n",
              "       [0.13458974, 0.86541026],\n",
              "       [0.85540055, 0.14459945],\n",
              "       [0.7603673 , 0.2396327 ],\n",
              "       [0.45962266, 0.54037734],\n",
              "       [0.84508002, 0.15491998],\n",
              "       [0.10773045, 0.89226955],\n",
              "       [0.30697773, 0.69302227],\n",
              "       [0.33387785, 0.66612215],\n",
              "       [0.81927416, 0.18072584],\n",
              "       [0.06816684, 0.93183316],\n",
              "       [0.72126118, 0.27873882],\n",
              "       [0.62787202, 0.37212798],\n",
              "       [0.55965408, 0.44034592],\n",
              "       [0.91758737, 0.08241263],\n",
              "       [0.43053784, 0.56946216],\n",
              "       [0.16929844, 0.83070156],\n",
              "       [0.05785798, 0.94214202],\n",
              "       [0.68294312, 0.31705688],\n",
              "       [0.44745323, 0.55254677],\n",
              "       [0.16689424, 0.83310576],\n",
              "       [0.34918798, 0.65081202],\n",
              "       [0.19992937, 0.80007063],\n",
              "       [0.85847093, 0.14152907],\n",
              "       [0.05428176, 0.94571824],\n",
              "       [0.84508002, 0.15491998],\n",
              "       [0.81204732, 0.18795268],\n",
              "       [0.57778371, 0.42221629],\n",
              "       [0.56243857, 0.43756143],\n",
              "       [0.03871265, 0.96128735],\n",
              "       [0.29752176, 0.70247824],\n",
              "       [0.41412299, 0.58587701],\n",
              "       [0.0447181 , 0.9552819 ],\n",
              "       [0.89736614, 0.10263386],\n",
              "       [0.04020798, 0.95979202],\n",
              "       [0.25357653, 0.74642347],\n",
              "       [0.5880125 , 0.4119875 ],\n",
              "       [0.2048724 , 0.7951276 ],\n",
              "       [0.05428176, 0.94571824],\n",
              "       [0.8862772 , 0.1137228 ],\n",
              "       [0.84508002, 0.15491998],\n",
              "       [0.48873416, 0.51126584],\n",
              "       [0.05026856, 0.94973144],\n",
              "       [0.82506797, 0.17493203],\n",
              "       [0.83249163, 0.16750837],\n",
              "       [0.05428176, 0.94571824],\n",
              "       [0.20079479, 0.79920521],\n",
              "       [0.30697773, 0.69302227],\n",
              "       [0.90423494, 0.09576506],\n",
              "       [0.33099458, 0.66900542],\n",
              "       [0.07402026, 0.92597974],\n",
              "       [0.88724931, 0.11275069],\n",
              "       [0.21345454, 0.78654546],\n",
              "       [0.83911831, 0.16088169],\n",
              "       [0.45962266, 0.54037734],\n",
              "       [0.43585119, 0.56414881],\n",
              "       [0.84508002, 0.15491998],\n",
              "       [0.84508002, 0.15491998],\n",
              "       [0.55613783, 0.44386217],\n",
              "       [0.84085301, 0.15914699],\n",
              "       [0.86405596, 0.13594404],\n",
              "       [0.79892465, 0.20107535],\n",
              "       [0.8577022 , 0.1422978 ],\n",
              "       [0.53186429, 0.46813571],\n",
              "       [0.04174957, 0.95825043],\n",
              "       [0.88212619, 0.11787381],\n",
              "       [0.77807899, 0.22192101],\n",
              "       [0.17544299, 0.82455701],\n",
              "       [0.84508002, 0.15491998],\n",
              "       [0.74183955, 0.25816045],\n",
              "       [0.7603673 , 0.2396327 ],\n",
              "       [0.7603673 , 0.2396327 ],\n",
              "       [0.80783324, 0.19216676],\n",
              "       [0.2048724 , 0.7951276 ],\n",
              "       [0.42441576, 0.57558424],\n",
              "       [0.84508002, 0.15491998],\n",
              "       [0.80708544, 0.19291456],\n",
              "       [0.42318882, 0.57681118],\n",
              "       [0.85540055, 0.14459945],\n",
              "       [0.7153558 , 0.2846442 ],\n",
              "       [0.26906492, 0.73093508],\n",
              "       [0.82100554, 0.17899446],\n",
              "       [0.23000764, 0.76999236],\n",
              "       [0.21338091, 0.78661909],\n",
              "       [0.84167183, 0.15832817],\n",
              "       [0.26906492, 0.73093508],\n",
              "       [0.587627  , 0.412373  ],\n",
              "       [0.63045661, 0.36954339],\n",
              "       [0.87784968, 0.12215032],\n",
              "       [0.89592472, 0.10407528],\n",
              "       [0.33099458, 0.66900542]])"
            ]
          },
          "metadata": {
            "tags": []
          },
          "execution_count": 706
        }
      ]
    },
    {
      "cell_type": "code",
      "metadata": {
        "id": "ZMTUGddSkS-G",
        "colab_type": "code",
        "colab": {
          "base_uri": "https://localhost:8080/",
          "height": 35
        },
        "outputId": "39761368-02ca-4075-9bbd-ebb3a47895cd"
      },
      "source": [
        "logr.class_weight"
      ],
      "execution_count": null,
      "outputs": [
        {
          "output_type": "execute_result",
          "data": {
            "application/vnd.google.colaboratory.intrinsic+json": {
              "type": "string"
            },
            "text/plain": [
              "'balanced'"
            ]
          },
          "metadata": {
            "tags": []
          },
          "execution_count": 707
        }
      ]
    },
    {
      "cell_type": "code",
      "metadata": {
        "id": "RmNe5zp3kl8p",
        "colab_type": "code",
        "colab": {}
      },
      "source": [
        "prob_score= pd.Series(list(zip(*logr.predict_proba(x_train_min)))[1])"
      ],
      "execution_count": null,
      "outputs": []
    },
    {
      "cell_type": "code",
      "metadata": {
        "id": "7VyJlF1Kk8GC",
        "colab_type": "code",
        "colab": {
          "base_uri": "https://localhost:8080/",
          "height": 221
        },
        "outputId": "3c406e94-7199-497f-b061-9b862ffee597"
      },
      "source": [
        "prob_score"
      ],
      "execution_count": null,
      "outputs": [
        {
          "output_type": "execute_result",
          "data": {
            "text/plain": [
              "0      0.237684\n",
              "1      0.853897\n",
              "2      0.612431\n",
              "3      0.540377\n",
              "4      0.198252\n",
              "         ...   \n",
              "707    0.964690\n",
              "708    0.174932\n",
              "709    0.540377\n",
              "710    0.267377\n",
              "711    0.284917\n",
              "Length: 712, dtype: float64"
            ]
          },
          "metadata": {
            "tags": []
          },
          "execution_count": 709
        }
      ]
    },
    {
      "cell_type": "code",
      "metadata": {
        "id": "gPAH-Ktvk-GM",
        "colab_type": "code",
        "colab": {}
      },
      "source": [
        "cutoffs=np.linspace(0,1,100)"
      ],
      "execution_count": null,
      "outputs": []
    },
    {
      "cell_type": "code",
      "metadata": {
        "id": "QlFelJiClMI8",
        "colab_type": "code",
        "colab": {
          "base_uri": "https://localhost:8080/",
          "height": 51
        },
        "outputId": "80b2e24d-5d84-4374-efad-1bd5b17ad35c"
      },
      "source": [
        "KS_cut = []\n",
        "for cutoff in cutoffs:\n",
        "    predicted = pd.Series([0] * len(y_train))\n",
        "    predicted[prob_score>cutoff] = 1\n",
        "    df_logr = pd.DataFrame(list(zip(y_train, predicted)), columns=[\"real\", \"predicted\"])\n",
        "    TP = len(df_logr[(df_logr[\"real\"] == 1) & (df_logr[\"predicted\"] == 1)])\n",
        "    FP = len(df_logr[(df_logr[\"real\"] == 0) & (df_logr[\"predicted\"] == 1)])\n",
        "    TN = len(df_logr[(df_logr[\"real\"] == 0) & (df_logr[\"predicted\"] == 0)])\n",
        "    FN = len(df_logr[(df_logr[\"real\"] == 1) & (df_logr[\"predicted\"] == 0)])\n",
        "    \n",
        "    P = TP + FN\n",
        "    N = TN + FP\n",
        "    \n",
        "    KS = (TP/P) - (FP/N)\n",
        "    KS_cut.append(KS)\n",
        "    \n",
        "cutoff_data = pd.DataFrame(list(zip(cutoffs, KS_cut)), columns=[\"cutoff\", \"KS\"])\n",
        "KS_cutoff = cutoff_data[cutoff_data[\"KS\"] == cutoff_data[\"KS\"].max()][\"cutoff\"]\n",
        "print(KS_cutoff)"
      ],
      "execution_count": null,
      "outputs": [
        {
          "output_type": "stream",
          "text": [
            "54    0.545455\n",
            "Name: cutoff, dtype: float64\n"
          ],
          "name": "stdout"
        }
      ]
    },
    {
      "cell_type": "code",
      "metadata": {
        "id": "2VR5TafRoYmi",
        "colab_type": "code",
        "colab": {
          "base_uri": "https://localhost:8080/",
          "height": 221
        },
        "outputId": "8ab659ed-3572-4ed7-8c3a-7f805676f662"
      },
      "source": [
        "prob_score_test=pd.Series(list(zip(*logr.predict_proba(x_test_min)))[1])\n",
        "print(prob_score_test)"
      ],
      "execution_count": null,
      "outputs": [
        {
          "output_type": "stream",
          "text": [
            "0      0.137976\n",
            "1      0.183325\n",
            "2      0.160882\n",
            "3      0.940968\n",
            "4      0.898462\n",
            "         ...   \n",
            "174    0.412373\n",
            "175    0.369543\n",
            "176    0.122150\n",
            "177    0.104075\n",
            "178    0.669005\n",
            "Length: 179, dtype: float64\n"
          ],
          "name": "stdout"
        }
      ]
    },
    {
      "cell_type": "code",
      "metadata": {
        "id": "32zVGFUopypi",
        "colab_type": "code",
        "colab": {
          "base_uri": "https://localhost:8080/",
          "height": 221
        },
        "outputId": "df81f39b-d2b3-464b-a552-32a43f3aa6ff"
      },
      "source": [
        "predicted_test=pd.Series([0]*len(y_test))\n",
        "predicted_test"
      ],
      "execution_count": null,
      "outputs": [
        {
          "output_type": "execute_result",
          "data": {
            "text/plain": [
              "0      0\n",
              "1      0\n",
              "2      0\n",
              "3      0\n",
              "4      0\n",
              "      ..\n",
              "174    0\n",
              "175    0\n",
              "176    0\n",
              "177    0\n",
              "178    0\n",
              "Length: 179, dtype: int64"
            ]
          },
          "metadata": {
            "tags": []
          },
          "execution_count": 713
        }
      ]
    },
    {
      "cell_type": "code",
      "metadata": {
        "id": "rab4BFauqE-R",
        "colab_type": "code",
        "colab": {}
      },
      "source": [
        "predicted_test[prob_score_test> 0.545455] = 1 "
      ],
      "execution_count": null,
      "outputs": []
    },
    {
      "cell_type": "code",
      "metadata": {
        "id": "nz8tlRN1qYCG",
        "colab_type": "code",
        "colab": {
          "base_uri": "https://localhost:8080/",
          "height": 34
        },
        "outputId": "fda3146e-b53a-4c8a-c138-f61b80a005ac"
      },
      "source": [
        "roc_auc_score(y_test,predicted_test)"
      ],
      "execution_count": null,
      "outputs": [
        {
          "output_type": "execute_result",
          "data": {
            "text/plain": [
              "0.8016266887234628"
            ]
          },
          "metadata": {
            "tags": []
          },
          "execution_count": 717
        }
      ]
    },
    {
      "cell_type": "markdown",
      "metadata": {
        "id": "9ZWkhZfUtTB5",
        "colab_type": "text"
      },
      "source": [
        "# **Decision Tree**"
      ]
    },
    {
      "cell_type": "code",
      "metadata": {
        "id": "d-s5Zly3qhrP",
        "colab_type": "code",
        "colab": {}
      },
      "source": [
        "from sklearn.tree import tree"
      ],
      "execution_count": null,
      "outputs": []
    },
    {
      "cell_type": "code",
      "metadata": {
        "id": "d7WO7O_ZtP0R",
        "colab_type": "code",
        "colab": {}
      },
      "source": [
        "dtree= tree.DecisionTreeClassifier(criterion=\"entropy\",max_leaf_nodes=20,class_weight=\"balanced\")"
      ],
      "execution_count": null,
      "outputs": []
    },
    {
      "cell_type": "code",
      "metadata": {
        "id": "vDGpPFjnuwHt",
        "colab_type": "code",
        "colab": {
          "base_uri": "https://localhost:8080/",
          "height": 136
        },
        "outputId": "01d8effe-5923-4e37-bf9f-7c5c880044c8"
      },
      "source": [
        "dtree.fit(x_train_min,y_train)"
      ],
      "execution_count": null,
      "outputs": [
        {
          "output_type": "execute_result",
          "data": {
            "text/plain": [
              "DecisionTreeClassifier(ccp_alpha=0.0, class_weight='balanced',\n",
              "                       criterion='entropy', max_depth=None, max_features=None,\n",
              "                       max_leaf_nodes=20, min_impurity_decrease=0.0,\n",
              "                       min_impurity_split=None, min_samples_leaf=1,\n",
              "                       min_samples_split=2, min_weight_fraction_leaf=0.0,\n",
              "                       presort='deprecated', random_state=None,\n",
              "                       splitter='best')"
            ]
          },
          "metadata": {
            "tags": []
          },
          "execution_count": 720
        }
      ]
    },
    {
      "cell_type": "code",
      "metadata": {
        "id": "qOTcA6NPu40g",
        "colab_type": "code",
        "colab": {}
      },
      "source": [
        "dtree_predicted=dtree.predict(x_test_min)"
      ],
      "execution_count": null,
      "outputs": []
    },
    {
      "cell_type": "code",
      "metadata": {
        "id": "rLKzoIimGqLy",
        "colab_type": "code",
        "colab": {
          "base_uri": "https://localhost:8080/",
          "height": 34
        },
        "outputId": "c36c7196-eb3a-479e-ee9b-0cace3147bb1"
      },
      "source": [
        "roc_auc_score(y_train,dtree.predict(x_train_min))"
      ],
      "execution_count": null,
      "outputs": [
        {
          "output_type": "execute_result",
          "data": {
            "text/plain": [
              "0.8295634920634921"
            ]
          },
          "metadata": {
            "tags": []
          },
          "execution_count": 722
        }
      ]
    },
    {
      "cell_type": "code",
      "metadata": {
        "id": "tr2wi_pEEemO",
        "colab_type": "code",
        "colab": {
          "base_uri": "https://localhost:8080/",
          "height": 34
        },
        "outputId": "fab50053-388e-43a2-b179-d5a4c4cfdc63"
      },
      "source": [
        "roc_auc_score(y_test,dtree_predicted)"
      ],
      "execution_count": null,
      "outputs": [
        {
          "output_type": "execute_result",
          "data": {
            "text/plain": [
              "0.845257788806176"
            ]
          },
          "metadata": {
            "tags": []
          },
          "execution_count": 723
        }
      ]
    },
    {
      "cell_type": "code",
      "metadata": {
        "id": "SP2dNOSdvKhS",
        "colab_type": "code",
        "colab": {}
      },
      "source": [
        "dtree_test=pd.DataFrame(list(zip(y_test,dtree_predicted)),columns=[\"real\",\"predicted\"])"
      ],
      "execution_count": null,
      "outputs": []
    },
    {
      "cell_type": "code",
      "metadata": {
        "id": "QHN0fHQOvcg0",
        "colab_type": "code",
        "colab": {}
      },
      "source": [
        "k=pd.crosstab(dtree_test[\"real\"],dtree_test[\"predicted\"])"
      ],
      "execution_count": null,
      "outputs": []
    },
    {
      "cell_type": "code",
      "metadata": {
        "id": "NI_Z2_U1vpe7",
        "colab_type": "code",
        "colab": {
          "base_uri": "https://localhost:8080/",
          "height": 142
        },
        "outputId": "64067b16-9251-493d-b321-fba1f9fdd484"
      },
      "source": [
        "k"
      ],
      "execution_count": null,
      "outputs": [
        {
          "output_type": "execute_result",
          "data": {
            "text/html": [
              "<div>\n",
              "<style scoped>\n",
              "    .dataframe tbody tr th:only-of-type {\n",
              "        vertical-align: middle;\n",
              "    }\n",
              "\n",
              "    .dataframe tbody tr th {\n",
              "        vertical-align: top;\n",
              "    }\n",
              "\n",
              "    .dataframe thead th {\n",
              "        text-align: right;\n",
              "    }\n",
              "</style>\n",
              "<table border=\"1\" class=\"dataframe\">\n",
              "  <thead>\n",
              "    <tr style=\"text-align: right;\">\n",
              "      <th>predicted</th>\n",
              "      <th>0</th>\n",
              "      <th>1</th>\n",
              "    </tr>\n",
              "    <tr>\n",
              "      <th>real</th>\n",
              "      <th></th>\n",
              "      <th></th>\n",
              "    </tr>\n",
              "  </thead>\n",
              "  <tbody>\n",
              "    <tr>\n",
              "      <th>0</th>\n",
              "      <td>94</td>\n",
              "      <td>23</td>\n",
              "    </tr>\n",
              "    <tr>\n",
              "      <th>1</th>\n",
              "      <td>7</td>\n",
              "      <td>55</td>\n",
              "    </tr>\n",
              "  </tbody>\n",
              "</table>\n",
              "</div>"
            ],
            "text/plain": [
              "predicted   0   1\n",
              "real             \n",
              "0          94  23\n",
              "1           7  55"
            ]
          },
          "metadata": {
            "tags": []
          },
          "execution_count": 726
        }
      ]
    },
    {
      "cell_type": "code",
      "metadata": {
        "id": "jpEyu0NhvqFM",
        "colab_type": "code",
        "colab": {
          "base_uri": "https://localhost:8080/",
          "height": 68
        },
        "outputId": "b05a7a70-27f3-4cb7-f253-b93df8e0fb16"
      },
      "source": [
        "TP=k.iloc[1,1]\n",
        "FP=k.iloc[0,1]\n",
        "TN=k.iloc[0,0]\n",
        "FN=k.iloc[1,0]\n",
        "\n",
        "P=TP+FN\n",
        "N=FP+TN\n",
        "\n",
        "print(\"Accuracy: \", (TP+TN)/(P+N))\n",
        "print(\"Sensitivity: \", TP/P)\n",
        "print(\"Specificity: \", TN/N)"
      ],
      "execution_count": null,
      "outputs": [
        {
          "output_type": "stream",
          "text": [
            "Accuracy:  0.8324022346368715\n",
            "Sensitivity:  0.8870967741935484\n",
            "Specificity:  0.8034188034188035\n"
          ],
          "name": "stdout"
        }
      ]
    },
    {
      "cell_type": "code",
      "metadata": {
        "id": "W0VgbqIOwSfc",
        "colab_type": "code",
        "colab": {}
      },
      "source": [
        "max_nodes = list(range(5,100))"
      ],
      "execution_count": null,
      "outputs": []
    },
    {
      "cell_type": "code",
      "metadata": {
        "id": "JQanPl7ywXVM",
        "colab_type": "code",
        "colab": {}
      },
      "source": [
        "from sklearn.model_selection import KFold"
      ],
      "execution_count": null,
      "outputs": []
    },
    {
      "cell_type": "code",
      "metadata": {
        "id": "BvP89Eia3Udr",
        "colab_type": "code",
        "colab": {}
      },
      "source": [
        "from sklearn.model_selection import RandomizedSearchCV\n",
        "from scipy.stats import randint"
      ],
      "execution_count": null,
      "outputs": []
    },
    {
      "cell_type": "code",
      "metadata": {
        "id": "w2W0x5Hq3bU9",
        "colab_type": "code",
        "colab": {}
      },
      "source": [
        "mytree= tree.DecisionTreeClassifier(criterion=\"entropy\",class_weight=\"balanced\")"
      ],
      "execution_count": null,
      "outputs": []
    },
    {
      "cell_type": "code",
      "metadata": {
        "id": "naA7cn634K7v",
        "colab_type": "code",
        "colab": {}
      },
      "source": [
        "param_dist={\n",
        "    \"max_leaf_nodes\":randint(5,100),\n",
        "    \"max_depth\":[range(1,100),None],  \n",
        "}"
      ],
      "execution_count": null,
      "outputs": []
    },
    {
      "cell_type": "code",
      "metadata": {
        "id": "tn9pFiB29Ayt",
        "colab_type": "code",
        "colab": {
          "base_uri": "https://localhost:8080/",
          "height": 391
        },
        "outputId": "eecdc894-1b63-49b3-e6c0-77d07eee5bd3"
      },
      "source": [
        "random_search= RandomizedSearchCV(mytree,param_distributions=param_dist,n_jobs=-1,verbose=2,cv=10)\n",
        "random_search.fit(x_train_min,y_train)"
      ],
      "execution_count": null,
      "outputs": [
        {
          "output_type": "stream",
          "text": [
            "Fitting 10 folds for each of 10 candidates, totalling 100 fits\n"
          ],
          "name": "stdout"
        },
        {
          "output_type": "stream",
          "text": [
            "[Parallel(n_jobs=-1)]: Using backend LokyBackend with 2 concurrent workers.\n",
            "[Parallel(n_jobs=-1)]: Done 100 out of 100 | elapsed:    0.4s finished\n"
          ],
          "name": "stderr"
        },
        {
          "output_type": "execute_result",
          "data": {
            "text/plain": [
              "RandomizedSearchCV(cv=10, error_score=nan,\n",
              "                   estimator=DecisionTreeClassifier(ccp_alpha=0.0,\n",
              "                                                    class_weight='balanced',\n",
              "                                                    criterion='entropy',\n",
              "                                                    max_depth=None,\n",
              "                                                    max_features=None,\n",
              "                                                    max_leaf_nodes=None,\n",
              "                                                    min_impurity_decrease=0.0,\n",
              "                                                    min_impurity_split=None,\n",
              "                                                    min_samples_leaf=1,\n",
              "                                                    min_samples_split=2,\n",
              "                                                    min_weight_fraction_leaf=0.0,\n",
              "                                                    presort='deprecated',\n",
              "                                                    random_state=None,\n",
              "                                                    splitter='best'),\n",
              "                   iid='deprecated', n_iter=10, n_jobs=-1,\n",
              "                   param_distributions={'max_leaf_nodes': <scipy.stats._distn_infrastructure.rv_frozen object at 0x7fdbef028ba8>},\n",
              "                   pre_dispatch='2*n_jobs', random_state=None, refit=True,\n",
              "                   return_train_score=False, scoring=None, verbose=2)"
            ]
          },
          "metadata": {
            "tags": []
          },
          "execution_count": 745
        }
      ]
    },
    {
      "cell_type": "code",
      "metadata": {
        "id": "2xGY8nhS9tlM",
        "colab_type": "code",
        "colab": {
          "base_uri": "https://localhost:8080/",
          "height": 136
        },
        "outputId": "51271b8b-31bf-4567-ff1d-42f7a83e54c1"
      },
      "source": [
        "random_search.best_estimator_"
      ],
      "execution_count": null,
      "outputs": [
        {
          "output_type": "execute_result",
          "data": {
            "text/plain": [
              "DecisionTreeClassifier(ccp_alpha=0.0, class_weight='balanced',\n",
              "                       criterion='entropy', max_depth=None, max_features=None,\n",
              "                       max_leaf_nodes=22, min_impurity_decrease=0.0,\n",
              "                       min_impurity_split=None, min_samples_leaf=1,\n",
              "                       min_samples_split=2, min_weight_fraction_leaf=0.0,\n",
              "                       presort='deprecated', random_state=None,\n",
              "                       splitter='best')"
            ]
          },
          "metadata": {
            "tags": []
          },
          "execution_count": 746
        }
      ]
    },
    {
      "cell_type": "markdown",
      "metadata": {
        "id": "qrp1AoPxstHP",
        "colab_type": "text"
      },
      "source": [
        "I am not using max_leaf_nodes=22, because i have tried various combinations for max_leaf_nodes and i was getting best result at 30. So even u can try different combinations and let me know which one gives the best combinations."
      ]
    },
    {
      "cell_type": "code",
      "metadata": {
        "id": "dSLjI-1d91db",
        "colab_type": "code",
        "colab": {
          "base_uri": "https://localhost:8080/",
          "height": 142
        },
        "outputId": "dece822f-93ec-4bce-f71d-79cab8df43c9"
      },
      "source": [
        "dtree=tree.DecisionTreeClassifier(criterion=\"entropy\",max_leaf_nodes=30, class_weight='balanced')\n",
        "dtree.fit(x_train_min,y_train)\n",
        "predicted=dtree.predict(x_test_min)\n",
        "df_test=pd.DataFrame(list(zip(y_test,predicted)),columns=[\"real\",\"predicted\"])\n",
        "k=pd.crosstab(df_test[\"real\"],df_test[\"predicted\"])\n",
        "k"
      ],
      "execution_count": null,
      "outputs": [
        {
          "output_type": "execute_result",
          "data": {
            "text/html": [
              "<div>\n",
              "<style scoped>\n",
              "    .dataframe tbody tr th:only-of-type {\n",
              "        vertical-align: middle;\n",
              "    }\n",
              "\n",
              "    .dataframe tbody tr th {\n",
              "        vertical-align: top;\n",
              "    }\n",
              "\n",
              "    .dataframe thead th {\n",
              "        text-align: right;\n",
              "    }\n",
              "</style>\n",
              "<table border=\"1\" class=\"dataframe\">\n",
              "  <thead>\n",
              "    <tr style=\"text-align: right;\">\n",
              "      <th>predicted</th>\n",
              "      <th>0</th>\n",
              "      <th>1</th>\n",
              "    </tr>\n",
              "    <tr>\n",
              "      <th>real</th>\n",
              "      <th></th>\n",
              "      <th></th>\n",
              "    </tr>\n",
              "  </thead>\n",
              "  <tbody>\n",
              "    <tr>\n",
              "      <th>0</th>\n",
              "      <td>100</td>\n",
              "      <td>17</td>\n",
              "    </tr>\n",
              "    <tr>\n",
              "      <th>1</th>\n",
              "      <td>9</td>\n",
              "      <td>53</td>\n",
              "    </tr>\n",
              "  </tbody>\n",
              "</table>\n",
              "</div>"
            ],
            "text/plain": [
              "predicted    0   1\n",
              "real              \n",
              "0          100  17\n",
              "1            9  53"
            ]
          },
          "metadata": {
            "tags": []
          },
          "execution_count": 751
        }
      ]
    },
    {
      "cell_type": "code",
      "metadata": {
        "id": "lJhkXYlC_KGt",
        "colab_type": "code",
        "colab": {
          "base_uri": "https://localhost:8080/",
          "height": 85
        },
        "outputId": "7242018e-5486-453e-aedf-c5a8e8425542"
      },
      "source": [
        "TP=k.iloc[1,1]\n",
        "TN=k.iloc[0,0]\n",
        "FP=k.iloc[0,1]\n",
        "FN=k.iloc[1,0]\n",
        "P=TP+FN\n",
        "N=TN+FP\n",
        "\n",
        "print(TP,TN,FP,FN)\n",
        "print('Accuracy is :',(TP+TN)/(P+N))\n",
        "print('Sensitivity is :',TP/P)\n",
        "print('Specificity is :',TN/N)"
      ],
      "execution_count": null,
      "outputs": [
        {
          "output_type": "stream",
          "text": [
            "53 100 17 9\n",
            "Accuracy is : 0.8547486033519553\n",
            "Sensitivity is : 0.8548387096774194\n",
            "Specificity is : 0.8547008547008547\n"
          ],
          "name": "stdout"
        }
      ]
    },
    {
      "cell_type": "code",
      "metadata": {
        "id": "DzCnA3ZbRk06",
        "colab_type": "code",
        "colab": {
          "base_uri": "https://localhost:8080/",
          "height": 34
        },
        "outputId": "ee365354-872e-45ee-9a0a-5a67eedd248f"
      },
      "source": [
        "roc_auc_score(y_train,dtree.predict(x_train_min))"
      ],
      "execution_count": null,
      "outputs": [
        {
          "output_type": "execute_result",
          "data": {
            "text/plain": [
              "0.8519841269841271"
            ]
          },
          "metadata": {
            "tags": []
          },
          "execution_count": 753
        }
      ]
    },
    {
      "cell_type": "code",
      "metadata": {
        "id": "DZmtkarp_gXj",
        "colab_type": "code",
        "colab": {
          "base_uri": "https://localhost:8080/",
          "height": 34
        },
        "outputId": "2c60b051-d747-41d8-ccaf-a30ff913cc79"
      },
      "source": [
        "roc_auc_score(y_test,dtree.predict(x_test_min))"
      ],
      "execution_count": null,
      "outputs": [
        {
          "output_type": "execute_result",
          "data": {
            "text/plain": [
              "0.8547697821891371"
            ]
          },
          "metadata": {
            "tags": []
          },
          "execution_count": 754
        }
      ]
    },
    {
      "cell_type": "code",
      "metadata": {
        "id": "Br-y4RvI2Zjs",
        "colab_type": "code",
        "colab": {}
      },
      "source": [
        "new_df=pd.DataFrame(list(zip(x_train.columns,dtree.feature_importances_)),columns=[\"feature\",\"Value\"])"
      ],
      "execution_count": null,
      "outputs": []
    },
    {
      "cell_type": "code",
      "metadata": {
        "id": "mRK1QbCR5Y3D",
        "colab_type": "code",
        "colab": {}
      },
      "source": [
        "df_new=new_df[new_df[\"Value\"]>0][\"feature\"]"
      ],
      "execution_count": null,
      "outputs": []
    },
    {
      "cell_type": "code",
      "metadata": {
        "id": "p8KvqlsT6jQZ",
        "colab_type": "code",
        "colab": {
          "base_uri": "https://localhost:8080/",
          "height": 153
        },
        "outputId": "d97b6d70-175d-49b2-8da1-f6f0b7798eb3"
      },
      "source": [
        "df_new"
      ],
      "execution_count": null,
      "outputs": [
        {
          "output_type": "execute_result",
          "data": {
            "text/plain": [
              "0        Pclass\n",
              "1           Age\n",
              "2         SibSp\n",
              "3         Parch\n",
              "4          Fare\n",
              "5       new_sex\n",
              "7    Embarked_S\n",
              "Name: feature, dtype: object"
            ]
          },
          "metadata": {
            "tags": []
          },
          "execution_count": 757
        }
      ]
    },
    {
      "cell_type": "code",
      "metadata": {
        "id": "p0GX59R9QTui",
        "colab_type": "code",
        "colab": {
          "base_uri": "https://localhost:8080/",
          "height": 419
        },
        "outputId": "de93749a-c5d2-44e5-ae99-f25ba9990d82"
      },
      "source": [
        "df[df_new]"
      ],
      "execution_count": null,
      "outputs": [
        {
          "output_type": "execute_result",
          "data": {
            "text/html": [
              "<div>\n",
              "<style scoped>\n",
              "    .dataframe tbody tr th:only-of-type {\n",
              "        vertical-align: middle;\n",
              "    }\n",
              "\n",
              "    .dataframe tbody tr th {\n",
              "        vertical-align: top;\n",
              "    }\n",
              "\n",
              "    .dataframe thead th {\n",
              "        text-align: right;\n",
              "    }\n",
              "</style>\n",
              "<table border=\"1\" class=\"dataframe\">\n",
              "  <thead>\n",
              "    <tr style=\"text-align: right;\">\n",
              "      <th></th>\n",
              "      <th>Pclass</th>\n",
              "      <th>Age</th>\n",
              "      <th>SibSp</th>\n",
              "      <th>Parch</th>\n",
              "      <th>Fare</th>\n",
              "      <th>new_sex</th>\n",
              "      <th>Embarked_S</th>\n",
              "    </tr>\n",
              "  </thead>\n",
              "  <tbody>\n",
              "    <tr>\n",
              "      <th>0</th>\n",
              "      <td>3</td>\n",
              "      <td>3.135494</td>\n",
              "      <td>1</td>\n",
              "      <td>0</td>\n",
              "      <td>7.2500</td>\n",
              "      <td>1</td>\n",
              "      <td>1</td>\n",
              "    </tr>\n",
              "    <tr>\n",
              "      <th>1</th>\n",
              "      <td>1</td>\n",
              "      <td>3.663562</td>\n",
              "      <td>1</td>\n",
              "      <td>0</td>\n",
              "      <td>71.2833</td>\n",
              "      <td>0</td>\n",
              "      <td>0</td>\n",
              "    </tr>\n",
              "    <tr>\n",
              "      <th>2</th>\n",
              "      <td>3</td>\n",
              "      <td>3.295837</td>\n",
              "      <td>0</td>\n",
              "      <td>0</td>\n",
              "      <td>7.9250</td>\n",
              "      <td>0</td>\n",
              "      <td>1</td>\n",
              "    </tr>\n",
              "    <tr>\n",
              "      <th>3</th>\n",
              "      <td>1</td>\n",
              "      <td>3.583519</td>\n",
              "      <td>1</td>\n",
              "      <td>0</td>\n",
              "      <td>53.1000</td>\n",
              "      <td>0</td>\n",
              "      <td>1</td>\n",
              "    </tr>\n",
              "    <tr>\n",
              "      <th>4</th>\n",
              "      <td>3</td>\n",
              "      <td>3.583519</td>\n",
              "      <td>0</td>\n",
              "      <td>0</td>\n",
              "      <td>8.0500</td>\n",
              "      <td>1</td>\n",
              "      <td>1</td>\n",
              "    </tr>\n",
              "    <tr>\n",
              "      <th>...</th>\n",
              "      <td>...</td>\n",
              "      <td>...</td>\n",
              "      <td>...</td>\n",
              "      <td>...</td>\n",
              "      <td>...</td>\n",
              "      <td>...</td>\n",
              "      <td>...</td>\n",
              "    </tr>\n",
              "    <tr>\n",
              "      <th>886</th>\n",
              "      <td>2</td>\n",
              "      <td>3.332205</td>\n",
              "      <td>0</td>\n",
              "      <td>0</td>\n",
              "      <td>13.0000</td>\n",
              "      <td>1</td>\n",
              "      <td>1</td>\n",
              "    </tr>\n",
              "    <tr>\n",
              "      <th>887</th>\n",
              "      <td>1</td>\n",
              "      <td>2.995732</td>\n",
              "      <td>0</td>\n",
              "      <td>0</td>\n",
              "      <td>30.0000</td>\n",
              "      <td>0</td>\n",
              "      <td>1</td>\n",
              "    </tr>\n",
              "    <tr>\n",
              "      <th>888</th>\n",
              "      <td>3</td>\n",
              "      <td>NaN</td>\n",
              "      <td>1</td>\n",
              "      <td>2</td>\n",
              "      <td>23.4500</td>\n",
              "      <td>0</td>\n",
              "      <td>1</td>\n",
              "    </tr>\n",
              "    <tr>\n",
              "      <th>889</th>\n",
              "      <td>1</td>\n",
              "      <td>3.295837</td>\n",
              "      <td>0</td>\n",
              "      <td>0</td>\n",
              "      <td>30.0000</td>\n",
              "      <td>1</td>\n",
              "      <td>0</td>\n",
              "    </tr>\n",
              "    <tr>\n",
              "      <th>890</th>\n",
              "      <td>3</td>\n",
              "      <td>3.496508</td>\n",
              "      <td>0</td>\n",
              "      <td>0</td>\n",
              "      <td>7.7500</td>\n",
              "      <td>1</td>\n",
              "      <td>0</td>\n",
              "    </tr>\n",
              "  </tbody>\n",
              "</table>\n",
              "<p>891 rows × 7 columns</p>\n",
              "</div>"
            ],
            "text/plain": [
              "     Pclass       Age  SibSp  Parch     Fare  new_sex  Embarked_S\n",
              "0         3  3.135494      1      0   7.2500        1           1\n",
              "1         1  3.663562      1      0  71.2833        0           0\n",
              "2         3  3.295837      0      0   7.9250        0           1\n",
              "3         1  3.583519      1      0  53.1000        0           1\n",
              "4         3  3.583519      0      0   8.0500        1           1\n",
              "..      ...       ...    ...    ...      ...      ...         ...\n",
              "886       2  3.332205      0      0  13.0000        1           1\n",
              "887       1  2.995732      0      0  30.0000        0           1\n",
              "888       3       NaN      1      2  23.4500        0           1\n",
              "889       1  3.295837      0      0  30.0000        1           0\n",
              "890       3  3.496508      0      0   7.7500        1           0\n",
              "\n",
              "[891 rows x 7 columns]"
            ]
          },
          "metadata": {
            "tags": []
          },
          "execution_count": 758
        }
      ]
    },
    {
      "cell_type": "code",
      "metadata": {
        "id": "iUVxxpZkQiU3",
        "colab_type": "code",
        "colab": {}
      },
      "source": [
        "df_data=df[df_new]"
      ],
      "execution_count": null,
      "outputs": []
    },
    {
      "cell_type": "code",
      "metadata": {
        "id": "iel8gy0HTl20",
        "colab_type": "code",
        "colab": {
          "base_uri": "https://localhost:8080/",
          "height": 119
        },
        "outputId": "d78eb5f4-39dd-45bf-b0f4-905b362fadb6"
      },
      "source": [
        "df_data[\"Survived\"]=df[\"Survived\"]"
      ],
      "execution_count": null,
      "outputs": [
        {
          "output_type": "stream",
          "text": [
            "/usr/local/lib/python3.6/dist-packages/ipykernel_launcher.py:1: SettingWithCopyWarning: \n",
            "A value is trying to be set on a copy of a slice from a DataFrame.\n",
            "Try using .loc[row_indexer,col_indexer] = value instead\n",
            "\n",
            "See the caveats in the documentation: https://pandas.pydata.org/pandas-docs/stable/user_guide/indexing.html#returning-a-view-versus-a-copy\n",
            "  \"\"\"Entry point for launching an IPython kernel.\n"
          ],
          "name": "stderr"
        }
      ]
    },
    {
      "cell_type": "code",
      "metadata": {
        "id": "-d4M2sl3TnNt",
        "colab_type": "code",
        "colab": {
          "base_uri": "https://localhost:8080/",
          "height": 419
        },
        "outputId": "4666a9c8-3f66-4e4a-c74d-86394cd92c2d"
      },
      "source": [
        "df_data"
      ],
      "execution_count": null,
      "outputs": [
        {
          "output_type": "execute_result",
          "data": {
            "text/html": [
              "<div>\n",
              "<style scoped>\n",
              "    .dataframe tbody tr th:only-of-type {\n",
              "        vertical-align: middle;\n",
              "    }\n",
              "\n",
              "    .dataframe tbody tr th {\n",
              "        vertical-align: top;\n",
              "    }\n",
              "\n",
              "    .dataframe thead th {\n",
              "        text-align: right;\n",
              "    }\n",
              "</style>\n",
              "<table border=\"1\" class=\"dataframe\">\n",
              "  <thead>\n",
              "    <tr style=\"text-align: right;\">\n",
              "      <th></th>\n",
              "      <th>Pclass</th>\n",
              "      <th>Age</th>\n",
              "      <th>SibSp</th>\n",
              "      <th>Parch</th>\n",
              "      <th>Fare</th>\n",
              "      <th>new_sex</th>\n",
              "      <th>Embarked_S</th>\n",
              "      <th>Survived</th>\n",
              "    </tr>\n",
              "  </thead>\n",
              "  <tbody>\n",
              "    <tr>\n",
              "      <th>0</th>\n",
              "      <td>3</td>\n",
              "      <td>3.135494</td>\n",
              "      <td>1</td>\n",
              "      <td>0</td>\n",
              "      <td>7.2500</td>\n",
              "      <td>1</td>\n",
              "      <td>1</td>\n",
              "      <td>0</td>\n",
              "    </tr>\n",
              "    <tr>\n",
              "      <th>1</th>\n",
              "      <td>1</td>\n",
              "      <td>3.663562</td>\n",
              "      <td>1</td>\n",
              "      <td>0</td>\n",
              "      <td>71.2833</td>\n",
              "      <td>0</td>\n",
              "      <td>0</td>\n",
              "      <td>1</td>\n",
              "    </tr>\n",
              "    <tr>\n",
              "      <th>2</th>\n",
              "      <td>3</td>\n",
              "      <td>3.295837</td>\n",
              "      <td>0</td>\n",
              "      <td>0</td>\n",
              "      <td>7.9250</td>\n",
              "      <td>0</td>\n",
              "      <td>1</td>\n",
              "      <td>1</td>\n",
              "    </tr>\n",
              "    <tr>\n",
              "      <th>3</th>\n",
              "      <td>1</td>\n",
              "      <td>3.583519</td>\n",
              "      <td>1</td>\n",
              "      <td>0</td>\n",
              "      <td>53.1000</td>\n",
              "      <td>0</td>\n",
              "      <td>1</td>\n",
              "      <td>1</td>\n",
              "    </tr>\n",
              "    <tr>\n",
              "      <th>4</th>\n",
              "      <td>3</td>\n",
              "      <td>3.583519</td>\n",
              "      <td>0</td>\n",
              "      <td>0</td>\n",
              "      <td>8.0500</td>\n",
              "      <td>1</td>\n",
              "      <td>1</td>\n",
              "      <td>0</td>\n",
              "    </tr>\n",
              "    <tr>\n",
              "      <th>...</th>\n",
              "      <td>...</td>\n",
              "      <td>...</td>\n",
              "      <td>...</td>\n",
              "      <td>...</td>\n",
              "      <td>...</td>\n",
              "      <td>...</td>\n",
              "      <td>...</td>\n",
              "      <td>...</td>\n",
              "    </tr>\n",
              "    <tr>\n",
              "      <th>886</th>\n",
              "      <td>2</td>\n",
              "      <td>3.332205</td>\n",
              "      <td>0</td>\n",
              "      <td>0</td>\n",
              "      <td>13.0000</td>\n",
              "      <td>1</td>\n",
              "      <td>1</td>\n",
              "      <td>0</td>\n",
              "    </tr>\n",
              "    <tr>\n",
              "      <th>887</th>\n",
              "      <td>1</td>\n",
              "      <td>2.995732</td>\n",
              "      <td>0</td>\n",
              "      <td>0</td>\n",
              "      <td>30.0000</td>\n",
              "      <td>0</td>\n",
              "      <td>1</td>\n",
              "      <td>1</td>\n",
              "    </tr>\n",
              "    <tr>\n",
              "      <th>888</th>\n",
              "      <td>3</td>\n",
              "      <td>NaN</td>\n",
              "      <td>1</td>\n",
              "      <td>2</td>\n",
              "      <td>23.4500</td>\n",
              "      <td>0</td>\n",
              "      <td>1</td>\n",
              "      <td>0</td>\n",
              "    </tr>\n",
              "    <tr>\n",
              "      <th>889</th>\n",
              "      <td>1</td>\n",
              "      <td>3.295837</td>\n",
              "      <td>0</td>\n",
              "      <td>0</td>\n",
              "      <td>30.0000</td>\n",
              "      <td>1</td>\n",
              "      <td>0</td>\n",
              "      <td>1</td>\n",
              "    </tr>\n",
              "    <tr>\n",
              "      <th>890</th>\n",
              "      <td>3</td>\n",
              "      <td>3.496508</td>\n",
              "      <td>0</td>\n",
              "      <td>0</td>\n",
              "      <td>7.7500</td>\n",
              "      <td>1</td>\n",
              "      <td>0</td>\n",
              "      <td>0</td>\n",
              "    </tr>\n",
              "  </tbody>\n",
              "</table>\n",
              "<p>891 rows × 8 columns</p>\n",
              "</div>"
            ],
            "text/plain": [
              "     Pclass       Age  SibSp  Parch     Fare  new_sex  Embarked_S  Survived\n",
              "0         3  3.135494      1      0   7.2500        1           1         0\n",
              "1         1  3.663562      1      0  71.2833        0           0         1\n",
              "2         3  3.295837      0      0   7.9250        0           1         1\n",
              "3         1  3.583519      1      0  53.1000        0           1         1\n",
              "4         3  3.583519      0      0   8.0500        1           1         0\n",
              "..      ...       ...    ...    ...      ...      ...         ...       ...\n",
              "886       2  3.332205      0      0  13.0000        1           1         0\n",
              "887       1  2.995732      0      0  30.0000        0           1         1\n",
              "888       3       NaN      1      2  23.4500        0           1         0\n",
              "889       1  3.295837      0      0  30.0000        1           0         1\n",
              "890       3  3.496508      0      0   7.7500        1           0         0\n",
              "\n",
              "[891 rows x 8 columns]"
            ]
          },
          "metadata": {
            "tags": []
          },
          "execution_count": 761
        }
      ]
    },
    {
      "cell_type": "code",
      "metadata": {
        "id": "lLPfE_hVTxNm",
        "colab_type": "code",
        "colab": {}
      },
      "source": [
        "train,test=train_test_split(df_data,test_size=0.2,random_state=10)"
      ],
      "execution_count": null,
      "outputs": []
    },
    {
      "cell_type": "code",
      "metadata": {
        "id": "O1j9nt5lUnwy",
        "colab_type": "code",
        "colab": {
          "base_uri": "https://localhost:8080/",
          "height": 119
        },
        "outputId": "74987fa1-1167-4bd6-c054-15c2d77e662d"
      },
      "source": [
        "for col in train.columns:\n",
        "  if((col not in \"Survived\") and (train[col].isnull().sum()>1)):\n",
        "    train.loc[train[col].isnull(),col]=train[col].median()"
      ],
      "execution_count": null,
      "outputs": [
        {
          "output_type": "stream",
          "text": [
            "/usr/local/lib/python3.6/dist-packages/pandas/core/indexing.py:966: SettingWithCopyWarning: \n",
            "A value is trying to be set on a copy of a slice from a DataFrame.\n",
            "Try using .loc[row_indexer,col_indexer] = value instead\n",
            "\n",
            "See the caveats in the documentation: https://pandas.pydata.org/pandas-docs/stable/user_guide/indexing.html#returning-a-view-versus-a-copy\n",
            "  self.obj[item] = s\n"
          ],
          "name": "stderr"
        }
      ]
    },
    {
      "cell_type": "code",
      "metadata": {
        "id": "Mf48qlJLVMdL",
        "colab_type": "code",
        "colab": {
          "base_uri": "https://localhost:8080/",
          "height": 119
        },
        "outputId": "c64bf167-c9d4-44f8-d7ad-2e3b97b99ff4"
      },
      "source": [
        "for col in test.columns:\n",
        "  if((col not in \"Survived\") and (test[col].isnull().sum()>1)):\n",
        "    test.loc[test[col].isnull(),col]=train[col].median()"
      ],
      "execution_count": null,
      "outputs": [
        {
          "output_type": "stream",
          "text": [
            "/usr/local/lib/python3.6/dist-packages/pandas/core/indexing.py:966: SettingWithCopyWarning: \n",
            "A value is trying to be set on a copy of a slice from a DataFrame.\n",
            "Try using .loc[row_indexer,col_indexer] = value instead\n",
            "\n",
            "See the caveats in the documentation: https://pandas.pydata.org/pandas-docs/stable/user_guide/indexing.html#returning-a-view-versus-a-copy\n",
            "  self.obj[item] = s\n"
          ],
          "name": "stderr"
        }
      ]
    },
    {
      "cell_type": "code",
      "metadata": {
        "id": "bFI4d9xTUJT7",
        "colab_type": "code",
        "colab": {}
      },
      "source": [
        "x_train=train.drop(\"Survived\",axis=1)\n",
        "y_train=train[\"Survived\"]\n",
        "x_test=test.drop(\"Survived\",axis=1)\n",
        "y_test=test[\"Survived\"]"
      ],
      "execution_count": null,
      "outputs": []
    },
    {
      "cell_type": "code",
      "metadata": {
        "id": "Lmo5Ab40UkcT",
        "colab_type": "code",
        "colab": {}
      },
      "source": [
        "min= MinMaxScaler()"
      ],
      "execution_count": null,
      "outputs": []
    },
    {
      "cell_type": "code",
      "metadata": {
        "id": "-7-vJlxPVwmQ",
        "colab_type": "code",
        "colab": {
          "base_uri": "https://localhost:8080/",
          "height": 34
        },
        "outputId": "5bd81abc-7013-4ce1-e7a8-e1676952fdbc"
      },
      "source": [
        "min.fit(x_train)"
      ],
      "execution_count": null,
      "outputs": [
        {
          "output_type": "execute_result",
          "data": {
            "text/plain": [
              "MinMaxScaler(copy=True, feature_range=(0, 1))"
            ]
          },
          "metadata": {
            "tags": []
          },
          "execution_count": 767
        }
      ]
    },
    {
      "cell_type": "code",
      "metadata": {
        "id": "r2Opw7yeVmaU",
        "colab_type": "code",
        "colab": {}
      },
      "source": [
        "x_train_scaler=min.transform(x_train)"
      ],
      "execution_count": null,
      "outputs": []
    },
    {
      "cell_type": "code",
      "metadata": {
        "id": "opiWERELV1B5",
        "colab_type": "code",
        "colab": {}
      },
      "source": [
        "x_test_scaler=min.transform(x_test)"
      ],
      "execution_count": null,
      "outputs": []
    },
    {
      "cell_type": "code",
      "metadata": {
        "id": "Z4b8aruGV602",
        "colab_type": "code",
        "colab": {
          "base_uri": "https://localhost:8080/",
          "height": 142
        },
        "outputId": "0866c9b5-1cde-47cf-8c7e-17635b9d9876"
      },
      "source": [
        "dtree=tree.DecisionTreeClassifier(criterion=\"entropy\",max_leaf_nodes=30, class_weight='balanced')\n",
        "dtree.fit(x_train_scaler,y_train)\n",
        "predicted=dtree.predict(x_test_scaler)\n",
        "df_test=pd.DataFrame(list(zip(y_test,predicted)),columns=[\"real\",\"predicted\"])\n",
        "k=pd.crosstab(df_test[\"real\"],df_test[\"predicted\"])\n",
        "k"
      ],
      "execution_count": null,
      "outputs": [
        {
          "output_type": "execute_result",
          "data": {
            "text/html": [
              "<div>\n",
              "<style scoped>\n",
              "    .dataframe tbody tr th:only-of-type {\n",
              "        vertical-align: middle;\n",
              "    }\n",
              "\n",
              "    .dataframe tbody tr th {\n",
              "        vertical-align: top;\n",
              "    }\n",
              "\n",
              "    .dataframe thead th {\n",
              "        text-align: right;\n",
              "    }\n",
              "</style>\n",
              "<table border=\"1\" class=\"dataframe\">\n",
              "  <thead>\n",
              "    <tr style=\"text-align: right;\">\n",
              "      <th>predicted</th>\n",
              "      <th>0</th>\n",
              "      <th>1</th>\n",
              "    </tr>\n",
              "    <tr>\n",
              "      <th>real</th>\n",
              "      <th></th>\n",
              "      <th></th>\n",
              "    </tr>\n",
              "  </thead>\n",
              "  <tbody>\n",
              "    <tr>\n",
              "      <th>0</th>\n",
              "      <td>100</td>\n",
              "      <td>17</td>\n",
              "    </tr>\n",
              "    <tr>\n",
              "      <th>1</th>\n",
              "      <td>9</td>\n",
              "      <td>53</td>\n",
              "    </tr>\n",
              "  </tbody>\n",
              "</table>\n",
              "</div>"
            ],
            "text/plain": [
              "predicted    0   1\n",
              "real              \n",
              "0          100  17\n",
              "1            9  53"
            ]
          },
          "metadata": {
            "tags": []
          },
          "execution_count": 770
        }
      ]
    },
    {
      "cell_type": "code",
      "metadata": {
        "id": "-vJiNcy7XLlv",
        "colab_type": "code",
        "colab": {
          "base_uri": "https://localhost:8080/",
          "height": 85
        },
        "outputId": "3572da78-617b-4a5d-d414-69c6374764fc"
      },
      "source": [
        "TP=k.iloc[1,1]\n",
        "TN=k.iloc[0,0]\n",
        "FP=k.iloc[0,1]\n",
        "FN=k.iloc[1,0]\n",
        "P=TP+FN\n",
        "N=TN+FP\n",
        "\n",
        "print(TP,TN,FP,FN)\n",
        "print('Accuracy is :',(TP+TN)/(P+N))\n",
        "print('Sensitivity is :',TP/P)\n",
        "print('Specificity is :',TN/N)"
      ],
      "execution_count": null,
      "outputs": [
        {
          "output_type": "stream",
          "text": [
            "53 100 17 9\n",
            "Accuracy is : 0.8547486033519553\n",
            "Sensitivity is : 0.8548387096774194\n",
            "Specificity is : 0.8547008547008547\n"
          ],
          "name": "stdout"
        }
      ]
    },
    {
      "cell_type": "code",
      "metadata": {
        "id": "_qFYzkfvXvpe",
        "colab_type": "code",
        "colab": {
          "base_uri": "https://localhost:8080/",
          "height": 34
        },
        "outputId": "fab0fa1f-54c5-490a-b26c-9ca56c1ff495"
      },
      "source": [
        "roc_auc_score(y_train,dtree.predict(x_train_scaler))"
      ],
      "execution_count": null,
      "outputs": [
        {
          "output_type": "execute_result",
          "data": {
            "text/plain": [
              "0.8519841269841271"
            ]
          },
          "metadata": {
            "tags": []
          },
          "execution_count": 772
        }
      ]
    },
    {
      "cell_type": "code",
      "metadata": {
        "id": "Ca7C47uaX5w3",
        "colab_type": "code",
        "colab": {
          "base_uri": "https://localhost:8080/",
          "height": 34
        },
        "outputId": "925b7023-e23b-4840-b3ce-15d3ad32c6e4"
      },
      "source": [
        "roc_auc_score(y_test,dtree.predict(x_test_scaler))"
      ],
      "execution_count": null,
      "outputs": [
        {
          "output_type": "execute_result",
          "data": {
            "text/plain": [
              "0.8547697821891371"
            ]
          },
          "metadata": {
            "tags": []
          },
          "execution_count": 773
        }
      ]
    },
    {
      "cell_type": "markdown",
      "metadata": {
        "id": "WGiz6vf1tmeW",
        "colab_type": "text"
      },
      "source": [
        "# **For Test Data**"
      ]
    },
    {
      "cell_type": "code",
      "metadata": {
        "id": "L-TxP6pMYB53",
        "colab_type": "code",
        "colab": {}
      },
      "source": [
        "df_test=pd.read_csv(r\"/gdrive/My Drive/Project/titanic_test.csv\")"
      ],
      "execution_count": null,
      "outputs": []
    },
    {
      "cell_type": "code",
      "metadata": {
        "id": "VJGPO_bNYYQp",
        "colab_type": "code",
        "colab": {
          "base_uri": "https://localhost:8080/",
          "height": 204
        },
        "outputId": "024eb73e-b25a-41f3-90da-a7727573178e"
      },
      "source": [
        "df_test.head()"
      ],
      "execution_count": null,
      "outputs": [
        {
          "output_type": "execute_result",
          "data": {
            "text/html": [
              "<div>\n",
              "<style scoped>\n",
              "    .dataframe tbody tr th:only-of-type {\n",
              "        vertical-align: middle;\n",
              "    }\n",
              "\n",
              "    .dataframe tbody tr th {\n",
              "        vertical-align: top;\n",
              "    }\n",
              "\n",
              "    .dataframe thead th {\n",
              "        text-align: right;\n",
              "    }\n",
              "</style>\n",
              "<table border=\"1\" class=\"dataframe\">\n",
              "  <thead>\n",
              "    <tr style=\"text-align: right;\">\n",
              "      <th></th>\n",
              "      <th>PassengerId</th>\n",
              "      <th>Pclass</th>\n",
              "      <th>Name</th>\n",
              "      <th>Sex</th>\n",
              "      <th>Age</th>\n",
              "      <th>SibSp</th>\n",
              "      <th>Parch</th>\n",
              "      <th>Ticket</th>\n",
              "      <th>Fare</th>\n",
              "      <th>Cabin</th>\n",
              "      <th>Embarked</th>\n",
              "    </tr>\n",
              "  </thead>\n",
              "  <tbody>\n",
              "    <tr>\n",
              "      <th>0</th>\n",
              "      <td>892</td>\n",
              "      <td>3</td>\n",
              "      <td>Kelly, Mr. James</td>\n",
              "      <td>male</td>\n",
              "      <td>34.5</td>\n",
              "      <td>0</td>\n",
              "      <td>0</td>\n",
              "      <td>330911</td>\n",
              "      <td>7.8292</td>\n",
              "      <td>NaN</td>\n",
              "      <td>Q</td>\n",
              "    </tr>\n",
              "    <tr>\n",
              "      <th>1</th>\n",
              "      <td>893</td>\n",
              "      <td>3</td>\n",
              "      <td>Wilkes, Mrs. James (Ellen Needs)</td>\n",
              "      <td>female</td>\n",
              "      <td>47.0</td>\n",
              "      <td>1</td>\n",
              "      <td>0</td>\n",
              "      <td>363272</td>\n",
              "      <td>7.0000</td>\n",
              "      <td>NaN</td>\n",
              "      <td>S</td>\n",
              "    </tr>\n",
              "    <tr>\n",
              "      <th>2</th>\n",
              "      <td>894</td>\n",
              "      <td>2</td>\n",
              "      <td>Myles, Mr. Thomas Francis</td>\n",
              "      <td>male</td>\n",
              "      <td>62.0</td>\n",
              "      <td>0</td>\n",
              "      <td>0</td>\n",
              "      <td>240276</td>\n",
              "      <td>9.6875</td>\n",
              "      <td>NaN</td>\n",
              "      <td>Q</td>\n",
              "    </tr>\n",
              "    <tr>\n",
              "      <th>3</th>\n",
              "      <td>895</td>\n",
              "      <td>3</td>\n",
              "      <td>Wirz, Mr. Albert</td>\n",
              "      <td>male</td>\n",
              "      <td>27.0</td>\n",
              "      <td>0</td>\n",
              "      <td>0</td>\n",
              "      <td>315154</td>\n",
              "      <td>8.6625</td>\n",
              "      <td>NaN</td>\n",
              "      <td>S</td>\n",
              "    </tr>\n",
              "    <tr>\n",
              "      <th>4</th>\n",
              "      <td>896</td>\n",
              "      <td>3</td>\n",
              "      <td>Hirvonen, Mrs. Alexander (Helga E Lindqvist)</td>\n",
              "      <td>female</td>\n",
              "      <td>22.0</td>\n",
              "      <td>1</td>\n",
              "      <td>1</td>\n",
              "      <td>3101298</td>\n",
              "      <td>12.2875</td>\n",
              "      <td>NaN</td>\n",
              "      <td>S</td>\n",
              "    </tr>\n",
              "  </tbody>\n",
              "</table>\n",
              "</div>"
            ],
            "text/plain": [
              "   PassengerId  Pclass  ... Cabin Embarked\n",
              "0          892       3  ...   NaN        Q\n",
              "1          893       3  ...   NaN        S\n",
              "2          894       2  ...   NaN        Q\n",
              "3          895       3  ...   NaN        S\n",
              "4          896       3  ...   NaN        S\n",
              "\n",
              "[5 rows x 11 columns]"
            ]
          },
          "metadata": {
            "tags": []
          },
          "execution_count": 775
        }
      ]
    },
    {
      "cell_type": "code",
      "metadata": {
        "id": "uuhj11jrYaVr",
        "colab_type": "code",
        "colab": {
          "base_uri": "https://localhost:8080/",
          "height": 34
        },
        "outputId": "619caec2-e657-4d82-91ac-c6ac02f7cb62"
      },
      "source": [
        "df_test.shape"
      ],
      "execution_count": null,
      "outputs": [
        {
          "output_type": "execute_result",
          "data": {
            "text/plain": [
              "(418, 11)"
            ]
          },
          "metadata": {
            "tags": []
          },
          "execution_count": 776
        }
      ]
    },
    {
      "cell_type": "code",
      "metadata": {
        "id": "VszIhpstYi2n",
        "colab_type": "code",
        "colab": {
          "base_uri": "https://localhost:8080/",
          "height": 34
        },
        "outputId": "d46dbb18-78d7-4e1a-a90d-b518ba31a82f"
      },
      "source": [
        "missing_feature=[col for col in df_test.columns if(df_test[col].isnull().sum()>1)]\n",
        "print(missing_feature)"
      ],
      "execution_count": null,
      "outputs": [
        {
          "output_type": "stream",
          "text": [
            "['Age', 'Cabin']\n"
          ],
          "name": "stdout"
        }
      ]
    },
    {
      "cell_type": "code",
      "metadata": {
        "id": "HG-jZ73nYxqq",
        "colab_type": "code",
        "colab": {}
      },
      "source": [
        "df_test[\"new_sex\"]=np.where(df_test[\"Sex\"]==\"male\",1,0)"
      ],
      "execution_count": null,
      "outputs": []
    },
    {
      "cell_type": "code",
      "metadata": {
        "id": "9LjeywE3ZIf3",
        "colab_type": "code",
        "colab": {}
      },
      "source": [
        "df_test[[\"city\",\"name\"]]=df_test[\"Name\"].str.split(\",\",expand=True) \n",
        "del df_test[\"name\"]"
      ],
      "execution_count": null,
      "outputs": []
    },
    {
      "cell_type": "code",
      "metadata": {
        "id": "FyzodhfOZfJv",
        "colab_type": "code",
        "colab": {}
      },
      "source": [
        "df_test.drop([\"Name\",\"Sex\",\"Cabin\"],axis=1,inplace=True)"
      ],
      "execution_count": null,
      "outputs": []
    },
    {
      "cell_type": "code",
      "metadata": {
        "id": "wciiIV-8Z3Zu",
        "colab_type": "code",
        "colab": {}
      },
      "source": [
        "df_test.drop(\"Ticket\",axis=1,inplace=True)"
      ],
      "execution_count": null,
      "outputs": []
    },
    {
      "cell_type": "code",
      "metadata": {
        "id": "RM6v8kekaAnT",
        "colab_type": "code",
        "colab": {
          "base_uri": "https://localhost:8080/",
          "height": 34
        },
        "outputId": "23ac8e18-4374-4850-e968-bf52836f2b80"
      },
      "source": [
        "numerical_feature=[col for col in df_test.columns if(df_test[col].dtypes!=\"O\")]\n",
        "print(numerical_feature)"
      ],
      "execution_count": null,
      "outputs": [
        {
          "output_type": "stream",
          "text": [
            "['PassengerId', 'Pclass', 'Age', 'SibSp', 'Parch', 'Fare', 'new_sex']\n"
          ],
          "name": "stdout"
        }
      ]
    },
    {
      "cell_type": "code",
      "metadata": {
        "id": "PjhcxI2SaNZ6",
        "colab_type": "code",
        "colab": {
          "base_uri": "https://localhost:8080/",
          "height": 34
        },
        "outputId": "cace1f10-6817-4d7b-c943-6b315c6ebbd9"
      },
      "source": [
        "discrete_value=[col for col in numerical_feature if len(df_test[col].unique())<8]\n",
        "print(discrete_value)"
      ],
      "execution_count": null,
      "outputs": [
        {
          "output_type": "stream",
          "text": [
            "['Pclass', 'SibSp', 'new_sex']\n"
          ],
          "name": "stdout"
        }
      ]
    },
    {
      "cell_type": "code",
      "metadata": {
        "id": "QDyyrhFlaYoS",
        "colab_type": "code",
        "colab": {
          "base_uri": "https://localhost:8080/",
          "height": 34
        },
        "outputId": "f49dc4bf-211b-4070-afd6-728134c32dea"
      },
      "source": [
        "continous_value=[col for col in numerical_feature if col not in discrete_value + [\"PassengerId\"]]\n",
        "print(continous_value)"
      ],
      "execution_count": null,
      "outputs": [
        {
          "output_type": "stream",
          "text": [
            "['Age', 'Parch', 'Fare']\n"
          ],
          "name": "stdout"
        }
      ]
    },
    {
      "cell_type": "code",
      "metadata": {
        "id": "F4AvSOOxahWm",
        "colab_type": "code",
        "colab": {}
      },
      "source": [
        "for col in continous_value:\n",
        "  if 0 in df_test[col].unique():\n",
        "    pass \n",
        "  else:\n",
        "    df_test[col]=np.log(df_test[col]+1)"
      ],
      "execution_count": null,
      "outputs": []
    },
    {
      "cell_type": "code",
      "metadata": {
        "id": "GSSoQPzTasKr",
        "colab_type": "code",
        "colab": {}
      },
      "source": [
        "df_test[\"Embarked\"].fillna(\"S\",inplace=True)"
      ],
      "execution_count": null,
      "outputs": []
    },
    {
      "cell_type": "code",
      "metadata": {
        "id": "F6MvQxL4bG4S",
        "colab_type": "code",
        "colab": {
          "base_uri": "https://localhost:8080/",
          "height": 51
        },
        "outputId": "543451b1-47f2-4aca-9ed0-ad26a174663f"
      },
      "source": [
        "for col in df_test.select_dtypes(\"object\").columns:\n",
        "  dummy=pd.get_dummies(df_test[col],prefix=col,drop_first=True)\n",
        "  df_test=pd.concat([df_test,dummy],axis=1)\n",
        "  del df_test[col]\n",
        "  print(col)\n",
        "del dummy"
      ],
      "execution_count": null,
      "outputs": [
        {
          "output_type": "stream",
          "text": [
            "Embarked\n",
            "city\n"
          ],
          "name": "stdout"
        }
      ]
    },
    {
      "cell_type": "code",
      "metadata": {
        "id": "Vs8nRt-0hLhF",
        "colab_type": "code",
        "colab": {
          "base_uri": "https://localhost:8080/",
          "height": 34
        },
        "outputId": "bee06a2e-9a49-4089-aacf-ad9eb63b68cf"
      },
      "source": [
        "df_test.shape"
      ],
      "execution_count": null,
      "outputs": [
        {
          "output_type": "execute_result",
          "data": {
            "text/plain": [
              "(418, 360)"
            ]
          },
          "metadata": {
            "tags": []
          },
          "execution_count": 788
        }
      ]
    },
    {
      "cell_type": "code",
      "metadata": {
        "id": "aYgxgZDFb0iw",
        "colab_type": "code",
        "colab": {}
      },
      "source": [
        "df_test.fillna(df_test.median(),inplace=True)"
      ],
      "execution_count": null,
      "outputs": []
    },
    {
      "cell_type": "code",
      "metadata": {
        "id": "JLe1MKodeIW2",
        "colab_type": "code",
        "colab": {
          "base_uri": "https://localhost:8080/",
          "height": 221
        },
        "outputId": "04788975-8c77-41fd-931e-1f21126bba8d"
      },
      "source": [
        "df_test.isnull().sum()"
      ],
      "execution_count": null,
      "outputs": [
        {
          "output_type": "execute_result",
          "data": {
            "text/plain": [
              "PassengerId            0\n",
              "Pclass                 0\n",
              "Age                    0\n",
              "SibSp                  0\n",
              "Parch                  0\n",
              "                      ..\n",
              "city_Zakarian          0\n",
              "city_de Brito          0\n",
              "city_de Messemaeker    0\n",
              "city_del Carlo         0\n",
              "city_van Billiard      0\n",
              "Length: 360, dtype: int64"
            ]
          },
          "metadata": {
            "tags": []
          },
          "execution_count": 790
        }
      ]
    },
    {
      "cell_type": "code",
      "metadata": {
        "id": "edeiOs2oePhf",
        "colab_type": "code",
        "colab": {}
      },
      "source": [
        "test_new=df_test.drop([\"PassengerId\"],axis=1)"
      ],
      "execution_count": null,
      "outputs": []
    },
    {
      "cell_type": "code",
      "metadata": {
        "id": "TtOs_iR0n5Gj",
        "colab_type": "code",
        "colab": {
          "base_uri": "https://localhost:8080/",
          "height": 34
        },
        "outputId": "cf6d8bd3-9c3a-444a-97e6-bf5b96000977"
      },
      "source": [
        "col_val=x_train.columns\n",
        "print(col_val)"
      ],
      "execution_count": null,
      "outputs": [
        {
          "output_type": "stream",
          "text": [
            "Index(['Pclass', 'Age', 'SibSp', 'Parch', 'Fare', 'new_sex', 'Embarked_S'], dtype='object')\n"
          ],
          "name": "stdout"
        }
      ]
    },
    {
      "cell_type": "code",
      "metadata": {
        "id": "S6fu2qAnoHo9",
        "colab_type": "code",
        "colab": {}
      },
      "source": [
        "test_new=test_new[col_val]"
      ],
      "execution_count": null,
      "outputs": []
    },
    {
      "cell_type": "code",
      "metadata": {
        "id": "gjAOkkNdeSn3",
        "colab_type": "code",
        "colab": {}
      },
      "source": [
        "min=MinMaxScaler()"
      ],
      "execution_count": null,
      "outputs": []
    },
    {
      "cell_type": "code",
      "metadata": {
        "id": "ZniuYXLQe-Ma",
        "colab_type": "code",
        "colab": {
          "base_uri": "https://localhost:8080/",
          "height": 34
        },
        "outputId": "7e1eacd0-eeb2-4045-98c6-69237e83bafa"
      },
      "source": [
        "min.fit(test_new)"
      ],
      "execution_count": null,
      "outputs": [
        {
          "output_type": "execute_result",
          "data": {
            "text/plain": [
              "MinMaxScaler(copy=True, feature_range=(0, 1))"
            ]
          },
          "metadata": {
            "tags": []
          },
          "execution_count": 798
        }
      ]
    },
    {
      "cell_type": "code",
      "metadata": {
        "id": "5-4odZklfFJi",
        "colab_type": "code",
        "colab": {}
      },
      "source": [
        "test_new_scaler=min.transform(test_new)"
      ],
      "execution_count": null,
      "outputs": []
    },
    {
      "cell_type": "code",
      "metadata": {
        "id": "NsIWJLa_ijRb",
        "colab_type": "code",
        "colab": {}
      },
      "source": [
        "Submission=pd.DataFrame(list(zip(df_test[\"PassengerId\"],dtree.predict(test_new_scaler))),columns=[\"PassengerID\",\"Survival\"])"
      ],
      "execution_count": null,
      "outputs": []
    },
    {
      "cell_type": "code",
      "metadata": {
        "id": "rEyU5zGdqNLX",
        "colab_type": "code",
        "colab": {}
      },
      "source": [
        "Submission.to_csv(\"titanic_submission.csv\")"
      ],
      "execution_count": null,
      "outputs": []
    },
    {
      "cell_type": "code",
      "metadata": {
        "id": "zswOorUqrg8w",
        "colab_type": "code",
        "colab": {}
      },
      "source": [
        ""
      ],
      "execution_count": null,
      "outputs": []
    }
  ]
}