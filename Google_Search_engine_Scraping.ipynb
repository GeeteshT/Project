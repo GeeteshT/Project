{
  "nbformat": 4,
  "nbformat_minor": 0,
  "metadata": {
    "colab": {
      "name": "Google_Search_engine_Scraping.ipynb",
      "provenance": [],
      "authorship_tag": "ABX9TyNZKO1rbx+eoSFdbwMuJDyo",
      "include_colab_link": true
    },
    "kernelspec": {
      "name": "python3",
      "display_name": "Python 3"
    }
  },
  "cells": [
    {
      "cell_type": "markdown",
      "metadata": {
        "id": "view-in-github",
        "colab_type": "text"
      },
      "source": [
        "<a href=\"https://colab.research.google.com/github/GeeteshT/Project/blob/master/Google_Search_engine_Scraping.ipynb\" target=\"_parent\"><img src=\"https://colab.research.google.com/assets/colab-badge.svg\" alt=\"Open In Colab\"/></a>"
      ]
    },
    {
      "cell_type": "code",
      "metadata": {
        "id": "4B0LJzaKh3sv"
      },
      "source": [
        "from urllib.request import urlopen, Request\n",
        "from bs4 import BeautifulSoup\n",
        "import pandas as pd"
      ],
      "execution_count": 1,
      "outputs": []
    },
    {
      "cell_type": "code",
      "metadata": {
        "id": "eTLqJBY3iFKm"
      },
      "source": [
        "def pages(p):\n",
        "  url=p \n",
        "  headers={}\n",
        "  headers[\"User-Agent\"]= r\"Mozilla/5.0 (X11; Linux i686) AppleWebKit/537.17 (KHTML, like Gecko) Chrome/24.0.1312.27 Safari/537.17\"\n",
        "  req= Request(url,headers=headers)\n",
        "  df=urlopen(req).read()\n",
        "  return df"
      ],
      "execution_count": 2,
      "outputs": []
    },
    {
      "cell_type": "code",
      "metadata": {
        "id": "w8z3V4YOiMC7"
      },
      "source": [
        "def link(df):\n",
        "  links=[]\n",
        "  soup=BeautifulSoup(df,\"html.parser\")\n",
        "  table=soup.find(\"table\",class_=\"AaVjTc\")\n",
        "  for col in table.find_all(\"a\",class_=\"fl\"):\n",
        "    links.append(\"https://www.google.com\"+col[\"href\"])\n",
        "  return links    "
      ],
      "execution_count": 3,
      "outputs": []
    },
    {
      "cell_type": "code",
      "metadata": {
        "id": "bbISi3JViPDy",
        "colab": {
          "base_uri": "https://localhost:8080/"
        },
        "outputId": "85cd1333-69b8-4fb6-efd8-1d70f74e6996"
      },
      "source": [
        "import pandas as pd\n",
        "query=input(\"Enter the url\")\n",
        "df=pages(query)\n",
        "list_url=link(df)\n",
        "list_url.append(query)\n",
        "final_url=[]\n",
        "for col in list_url:\n",
        "  df=pages(col)\n",
        "  soup=BeautifulSoup(df)\n",
        "  for col in soup.find_all(\"div\",class_=\"g\"):\n",
        "    final_url.append(col.find(\"div\",class_=\"yuRUbf\").a[\"href\"])\n",
        "print(final_url)\n",
        "url_list= pd.DataFrame(final_url)\n",
        "url_list.to_csv(\"google_url.csv\")"
      ],
      "execution_count": 4,
      "outputs": [
        {
          "output_type": "stream",
          "text": [
            "Enter the urlhttps://www.google.com/search?q=ghaziabad+local+business+directory\n",
            "['https://www.directory.waitinggamepublications.com/india/ghaziabad', 'http://www.findglocal.com/IN/Ghaziabad/309524092845230/Ghaziabad-business-directory', 'https://www.freelistingindia.in/location/Ghaziabad', 'https://www.citybyapp.com/ghaziabad', 'https://www.ncrpages.in/ghaziabad/sahibabad.html', 'https://www.ncrpages.in/ghaziabad/indirapuram.html', 'http://www.bizilocator.com/city/ghaziabad/12', 'https://www.localbiznetwork.com/local-small-business-directory/ghaziabad', 'http://www.upbusinessmedia.com/index.php/ar/page/ghaziabad', 'https://vymaps.com/IN/Ghaziabad-business-directory-309524139511892/', 'https://www.sulekha.com/local-services/ghaziabad', 'http://www.upbusinessmedia.com/index.php/ar/page/ghaziabad', 'http://www.bizilocator.com/city/ghaziabad/12', 'https://bizzcityinfo.com.cutestat.com/', 'https://www.pinterest.cl/gbusinessdirectory/', 'http://www.localindia.com/up/ghaziabad/business-directory/', 'http://www.apnaghaziabad.com/', 'https://twitter.com/gzb_business', 'https://www.showmelocal.com/place.aspx?s=in&c=ghaziabad', 'http://www.muslimdirectory.in/muslim-directory-search.php?searchLoc=289', 'https://www.indyapages.com/india/ghaziabad', 'https://www.dnb.com/business-directory/company-information.business-professional-associations.in.uttar_pradesh.html', 'https://www.yellowpagesindia.co.in/ghaziabad/b-34-0', 'https://www.justdial.com/Delhi/Online-Business-Directories-in-Shastri-Nagar-Ghaziabad/nct-11261835', 'https://nearmeplus.com/products/item/431', 'https://magicpin.in/Ghaziabad/Rajendar-Nagar/Grocery/All-India-Dairy-Business-Directory/store/127b40/photos/', 'https://www.searchindialife.com/', 'https://zoomnearby.com/ghaziabad-business-directory', 'https://vipin-kumar.com/google-my-business-listing/', 'https://bevisible.online/mbevisible/6/Business-Listing', 'https://www.bizbaya.com/sme-india/uttar-pradesh/ghaziabad', 'https://www.hookal.com/ghaziabad/india/search', 'https://directory.ac/region/asia-pacific/india/delhi.html', 'http://ncrlist.blogspot.com/', 'https://www.indianyellowpages.com/ghaziabad/shastri-nagar-local-business-directory.htm', 'https://listing.b2bleadgeneration.co.in/listing/udaiveer-singh/', 'http://indirapuramguide.com/', 'https://www.ibphub.com/Ghaziabad/ladies-suits-10123783/17', 'https://www.indiabizlist.com/', 'https://www.hindustanyellowpages.in/Ghaziabad', 'http://www.bestdirectory.in/component/mtree/search-by/city.html?value=Ghaziabad', 'https://zocal.in/ghaziabad', 'https://www.niir.org/books/book/delhi-ncr-business-companies-directory-delhi-new-delhi-faridabad-greater-noida-noida-ghaziabad-gurugram-gurgaon-manesar-kundli-sonipat-5th-edition-xlsx-excel-format/zb,,18b59,a,0,0,a/index.html', 'http://www.nextbizdoor.com/location/meerut-84', 'https://website.informer.com/bizzcityinfo.com', 'https://www.pinterest.co.uk/pin/713609503427314223/', 'https://www.businessex.com/businesslisting/businesses-for-sale-in-ghaziabad/c0/s0/UP/172', 'https://www.businessified.com/ghaziabad/health-medical/dios-healthbot', 'https://www.franchisebazar.com/location/ghaziabad', 'https://www.kenyanz.com/india/ghaziabad', 'https://www.weterynarz-pyskowice.pl/2018/12/19_21938.html', 'https://eleadmarket.xyz/ghaziabad-r782114', 'https://www.dial4trade.com/ghaziabad/local-transport-service.htm', 'http://www.10stardirectory.com/LinkDirectory/Category/44', 'https://www.mylistingmart.com/ghaziabad/3d-led-tv-repair/t-296-312', 'http://www.librariesanddirectories.com/dir/company.php?cid=hand2han637515&dir=ba&opt=opt_prof', 'http://educratsweb.com/rss.php?id=409&n=148', 'https://quikstartup.com/', 'https://www.elexweb.com/business-information/?info=Elexweb', 'http://www.seo247.in/google-map-marketing.html', 'https://www.transporteserre.cl/01_29/41459.html', 'http://www.discoverthepages.com/listings/cake-delivery-online-in-Delhi-wishbygift/', 'https://www.kingsonlife.com/listing/chandra-laxmi-hospital-ghaziabad/', 'https://www.99datacd.com/product/delhi-ncr-business-database-directory.html', 'https://www.poweredindia.com/', 'https://fonolive.com/z/in/ghaziabad-in/b', 'https://autocarrozzeriadesiderio.it/02-17+41489.html', 'https://www.exportersindia.com/indian-suppliers/business-directories.htm', 'http://justa1.com/', 'https://www.ghaziabadonline.in/', 'http://www.allindiayellowpage.com/UserModule/PublicCityWiseSearchProducts.aspx?cityName=Ghaziabad&SearchTerm=Ghaziabad', 'https://www.lonionline.in/', 'https://www.ezzly.in/company/macraise-international-llp/', 'https://books.google.com/books?id=szcK3UJNq3sC&pg=PA16&lpg=PA16&dq=ghaziabad+local+business+directory&source=bl&ots=3mqW0JIVkU&sig=ACfU3U3S6mSFVMD26KkheOBVGGbcWsTsbA&hl=en&sa=X&ved=2ahUKEwiwjsSA_ovtAhWsxFkKHbMBCMM4UBDoATAEegQIAhAC', 'http://al.tredristrutturazioni.it/bsnl-directory.html', 'https://books.google.com/books?id=9ZmyDwAAQBAJ&pg=PA111&lpg=PA111&dq=ghaziabad+local+business+directory&source=bl&ots=ctZu0kphG_&sig=ACfU3U0tO6sDEq0-EM0TkP7c378pjjI-Cg&hl=en&sa=X&ved=2ahUKEwiwjsSA_ovtAhWsxFkKHbMBCMM4UBDoATAGegQIARAC', 'https://www.tradeindia.com/', 'http://bn.iohodenunciato.it/list-of-manufacturing-companies-in-delhi-ncr-with-contact-details-pdf.html', 'http://uiow.giorgifermi.it/dfw-development.html', 'http://exhy.giorgifermi.it/ima-directory.html', 'https://www.faizabadonline.in/', 'http://cmoy.assolutischerma.it/chupet-pharmaceutical-company-limited.html', 'http://aoig.labozoo.it/taxi-service-in-hammond-indiana.html', 'https://matrivendor.com/Ghaziabad', 'https://www.scribd.com/document/329111444/Business-Directory-BSR-Road-Ghaziabad', 'https://msme.gov.in/', 'https://asochamup.org.in/', 'https://icio.us.com/multiple-subquery-nhppu/av7kq---crt-tv-repair-shop-near-me---q2kmr.html', 'http://kzox.comprensivofeltre.it/ghazi-shami.html', 'https://nearbyshops.in/location/local-business-listings-in-ghaziabad/', 'http://www.expressbusinessdirectory.com/Ghaziabad-business-directory-T10763/', 'https://www.submitmybusiness.com/uttar-pradesh/ghaziabad', 'https://www.myinfoline.com/city/ghaziabad', 'https://www.localyellowpages.co.in/city.php?citylink=ghaziabad', 'https://www.vendorclix.com/business-listing-sites-in-ghaziabad/', 'https://paperdoor.in/ghaziabad-c280436', 'https://www.zoompo.com/ghaziabad-uttar-pradesh/', 'https://www.facebook.com/ghaziabadbusiness', 'https://dir.indiamart.com/ghaziabad/']\n"
          ],
          "name": "stdout"
        }
      ]
    },
    {
      "cell_type": "code",
      "metadata": {
        "id": "lg7MWEEgiTgx"
      },
      "source": [
        ""
      ],
      "execution_count": null,
      "outputs": []
    }
  ]
}