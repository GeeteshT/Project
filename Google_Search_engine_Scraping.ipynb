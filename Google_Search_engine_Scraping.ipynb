{
  "nbformat": 4,
  "nbformat_minor": 0,
  "metadata": {
    "colab": {
      "name": "Google_Search_engine_Scraping.ipynb",
      "provenance": [],
      "authorship_tag": "ABX9TyPJSzkKTn+0clObVf0KTZqS",
      "include_colab_link": true
    },
    "kernelspec": {
      "name": "python3",
      "display_name": "Python 3"
    }
  },
  "cells": [
    {
      "cell_type": "markdown",
      "metadata": {
        "id": "view-in-github",
        "colab_type": "text"
      },
      "source": [
        "<a href=\"https://colab.research.google.com/github/GeeteshT/Project/blob/master/Google_Search_engine_Scraping.ipynb\" target=\"_parent\"><img src=\"https://colab.research.google.com/assets/colab-badge.svg\" alt=\"Open In Colab\"/></a>"
      ]
    },
    {
      "cell_type": "code",
      "metadata": {
        "id": "4B0LJzaKh3sv"
      },
      "source": [
        "from urllib.request import urlopen, Request\n",
        "from bs4 import BeautifulSoup\n",
        "import pandas as pd"
      ],
      "execution_count": 1,
      "outputs": []
    },
    {
      "cell_type": "code",
      "metadata": {
        "id": "eTLqJBY3iFKm"
      },
      "source": [
        "def pages(p):\n",
        "  url=p \n",
        "  headers={}\n",
        "  headers[\"User-Agent\"]= r\"Mozilla/5.0 (X11; Linux i686) AppleWebKit/537.17 (KHTML, like Gecko) Chrome/24.0.1312.27 Safari/537.17\"\n",
        "  req= Request(url,headers=headers)\n",
        "  df=urlopen(req).read()\n",
        "  return df"
      ],
      "execution_count": 2,
      "outputs": []
    },
    {
      "cell_type": "code",
      "metadata": {
        "id": "w8z3V4YOiMC7"
      },
      "source": [
        "def link(df):\n",
        "  links=[]\n",
        "  soup=BeautifulSoup(df,\"html.parser\")\n",
        "  table=soup.find(\"table\",class_=\"AaVjTc\")\n",
        "  for col in table.find_all(\"a\",class_=\"fl\"):\n",
        "    links.append(\"https://www.google.com\"+col[\"href\"])\n",
        "  return links    "
      ],
      "execution_count": 3,
      "outputs": []
    },
    {
      "cell_type": "code",
      "metadata": {
        "id": "bbISi3JViPDy",
        "outputId": "9ac4d54c-d4a6-4640-a124-e8088515bbb5",
        "colab": {
          "base_uri": "https://localhost:8080/"
        }
      },
      "source": [
        "import pandas as pd\n",
        "query=input(\"Enter the url\")\n",
        "df=pages(query)\n",
        "list_url=link(df)\n",
        "list_url.append(p)\n",
        "final_url=[]\n",
        "for col in list_url:\n",
        "  df=pages(col)\n",
        "  soup=BeautifulSoup(df)\n",
        "  for col in soup.find_all(\"div\",class_=\"g\"):\n",
        "    final_url.append(col.find(\"div\",class_=\"yuRUbf\").a[\"href\"])\n",
        "\n",
        "url_list= pd.DataFrame(final_url)\n",
        "url_list.to_csv(\"google_url.csv\")"
      ],
      "execution_count": 6,
      "outputs": [
        {
          "output_type": "stream",
          "text": [
            "Enter the urlhttps://www.google.com/search?q=ghaziabad+local+business+directory\n"
          ],
          "name": "stdout"
        }
      ]
    },
    {
      "cell_type": "code",
      "metadata": {
        "id": "lg7MWEEgiTgx"
      },
      "source": [
        ""
      ],
      "execution_count": null,
      "outputs": []
    }
  ]
}