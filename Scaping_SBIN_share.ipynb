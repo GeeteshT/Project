{
  "nbformat": 4,
  "nbformat_minor": 0,
  "metadata": {
    "colab": {
      "name": "Scaping_SBIN_share.ipynb",
      "provenance": [],
      "authorship_tag": "ABX9TyOG5UJAUMNlNicqt7xNJX8S",
      "include_colab_link": true
    },
    "kernelspec": {
      "name": "python3",
      "display_name": "Python 3"
    }
  },
  "cells": [
    {
      "cell_type": "markdown",
      "metadata": {
        "id": "view-in-github",
        "colab_type": "text"
      },
      "source": [
        "<a href=\"https://colab.research.google.com/github/GeeteshT/Project/blob/master/Scaping_SBIN_share.ipynb\" target=\"_parent\"><img src=\"https://colab.research.google.com/assets/colab-badge.svg\" alt=\"Open In Colab\"/></a>"
      ]
    },
    {
      "cell_type": "code",
      "metadata": {
        "id": "glzdb7HDXyjV"
      },
      "source": [
        "from bs4 import BeautifulSoup\n",
        "from urllib.request import urlopen\n",
        "import numpy as np\n",
        "import pandas as pd"
      ],
      "execution_count": 1,
      "outputs": []
    },
    {
      "cell_type": "code",
      "metadata": {
        "id": "akFdZl4JnO1o"
      },
      "source": [
        "df=pd.DataFrame()"
      ],
      "execution_count": 2,
      "outputs": []
    },
    {
      "cell_type": "code",
      "metadata": {
        "id": "paWDkNwsXzkq"
      },
      "source": [
        "def datafetch(extend):\n",
        "  ef=pd.DataFrame(extend)\n",
        "  ef=ef.T\n",
        "  header=ef.iloc[0]\n",
        "  ef=ef[1:]\n",
        "  ef=ef.rename(columns=header)\n",
        "  from datetime import date\n",
        "  day=date.today()\n",
        "  day=day.strftime(\"%d/%m/%Y\")\n",
        "  ef.insert(0,\"Date\",day)\n",
        "  return ef"
      ],
      "execution_count": 3,
      "outputs": []
    },
    {
      "cell_type": "code",
      "metadata": {
        "id": "WrlGbQzHX8p_"
      },
      "source": [
        "def open_url():\n",
        "  data=urlopen(\"https://in.finance.yahoo.com/quote/SBIN.BO\").read()\n",
        "  soup=BeautifulSoup(data)\n",
        "  extend=[]\n",
        "  for table in soup.find_all(\"table\"):\n",
        "    for row in table.find_all(\"tr\"):\n",
        "      table_row=row.find_all(\"td\")\n",
        "      print_data=[]\n",
        "      for d in table_row:\n",
        "        print_data.append(d.text)\n",
        "      extend.append(print_data)\n",
        "  ef=datafetch(extend)\n",
        "  return ef"
      ],
      "execution_count": 4,
      "outputs": []
    },
    {
      "cell_type": "code",
      "metadata": {
        "id": "fOmjT4OqI469",
        "outputId": "10bd0510-ea97-41ea-c188-3afa4bcdf97b",
        "colab": {
          "base_uri": "https://localhost:8080/",
          "height": 227
        }
      },
      "source": [
        "df=pd.concat([df,open_url()],axis=0)\n",
        "df"
      ],
      "execution_count": 7,
      "outputs": [
        {
          "output_type": "execute_result",
          "data": {
            "text/html": [
              "<div>\n",
              "<style scoped>\n",
              "    .dataframe tbody tr th:only-of-type {\n",
              "        vertical-align: middle;\n",
              "    }\n",
              "\n",
              "    .dataframe tbody tr th {\n",
              "        vertical-align: top;\n",
              "    }\n",
              "\n",
              "    .dataframe thead th {\n",
              "        text-align: right;\n",
              "    }\n",
              "</style>\n",
              "<table border=\"1\" class=\"dataframe\">\n",
              "  <thead>\n",
              "    <tr style=\"text-align: right;\">\n",
              "      <th></th>\n",
              "      <th>Date</th>\n",
              "      <th>Previous close</th>\n",
              "      <th>Open</th>\n",
              "      <th>Bid</th>\n",
              "      <th>Ask</th>\n",
              "      <th>Day's range</th>\n",
              "      <th>52-week range</th>\n",
              "      <th>Volume</th>\n",
              "      <th>Avg. volume</th>\n",
              "      <th>Market cap</th>\n",
              "      <th>Beta (5Y monthly)</th>\n",
              "      <th>PE ratio (TTM)</th>\n",
              "      <th>EPS (TTM)</th>\n",
              "      <th>Earnings date</th>\n",
              "      <th>Forward dividend &amp; yield</th>\n",
              "      <th>Ex-dividend date</th>\n",
              "      <th>1y target est</th>\n",
              "    </tr>\n",
              "  </thead>\n",
              "  <tbody>\n",
              "    <tr>\n",
              "      <th>1</th>\n",
              "      <td>30/10/2020</td>\n",
              "      <td>188.80</td>\n",
              "      <td>189.50</td>\n",
              "      <td>189.25 x 0</td>\n",
              "      <td>189.20 x 0</td>\n",
              "      <td>189.00 - 191.90</td>\n",
              "      <td>149.55 - 351.00</td>\n",
              "      <td>981,325</td>\n",
              "      <td>2,850,290</td>\n",
              "      <td>1.691T</td>\n",
              "      <td>N/A</td>\n",
              "      <td>7.83</td>\n",
              "      <td>N/A</td>\n",
              "      <td>N/A</td>\n",
              "      <td>N/A (N/A)</td>\n",
              "      <td>N/A</td>\n",
              "      <td>N/A</td>\n",
              "    </tr>\n",
              "    <tr>\n",
              "      <th>1</th>\n",
              "      <td>30/10/2020</td>\n",
              "      <td>188.80</td>\n",
              "      <td>189.50</td>\n",
              "      <td>189.25 x 0</td>\n",
              "      <td>189.20 x 0</td>\n",
              "      <td>189.00 - 191.90</td>\n",
              "      <td>149.55 - 351.00</td>\n",
              "      <td>982,034</td>\n",
              "      <td>2,850,290</td>\n",
              "      <td>1.69T</td>\n",
              "      <td>N/A</td>\n",
              "      <td>7.83</td>\n",
              "      <td>N/A</td>\n",
              "      <td>N/A</td>\n",
              "      <td>N/A (N/A)</td>\n",
              "      <td>N/A</td>\n",
              "      <td>N/A</td>\n",
              "    </tr>\n",
              "    <tr>\n",
              "      <th>1</th>\n",
              "      <td>30/10/2020</td>\n",
              "      <td>188.80</td>\n",
              "      <td>189.50</td>\n",
              "      <td>189.25 x 0</td>\n",
              "      <td>189.20 x 0</td>\n",
              "      <td>189.00 - 191.90</td>\n",
              "      <td>149.55 - 351.00</td>\n",
              "      <td>982,084</td>\n",
              "      <td>2,850,290</td>\n",
              "      <td>1.69T</td>\n",
              "      <td>N/A</td>\n",
              "      <td>7.83</td>\n",
              "      <td>N/A</td>\n",
              "      <td>N/A</td>\n",
              "      <td>N/A (N/A)</td>\n",
              "      <td>N/A</td>\n",
              "      <td>N/A</td>\n",
              "    </tr>\n",
              "  </tbody>\n",
              "</table>\n",
              "</div>"
            ],
            "text/plain": [
              "         Date Previous close  ... Ex-dividend date 1y target est\n",
              "1  30/10/2020         188.80  ...              N/A           N/A\n",
              "1  30/10/2020         188.80  ...              N/A           N/A\n",
              "1  30/10/2020         188.80  ...              N/A           N/A\n",
              "\n",
              "[3 rows x 17 columns]"
            ]
          },
          "metadata": {
            "tags": []
          },
          "execution_count": 7
        }
      ]
    },
    {
      "cell_type": "code",
      "metadata": {
        "id": "qTN2nQtVoqaA"
      },
      "source": [
        ""
      ],
      "execution_count": 15,
      "outputs": []
    },
    {
      "cell_type": "code",
      "metadata": {
        "id": "ybLz2w1go7SJ"
      },
      "source": [
        ""
      ],
      "execution_count": 15,
      "outputs": []
    },
    {
      "cell_type": "code",
      "metadata": {
        "id": "5SgK7SVQpQ0X"
      },
      "source": [
        ""
      ],
      "execution_count": 15,
      "outputs": []
    },
    {
      "cell_type": "code",
      "metadata": {
        "id": "Ggove40mCZRx"
      },
      "source": [
        ""
      ],
      "execution_count": 15,
      "outputs": []
    }
  ]
}