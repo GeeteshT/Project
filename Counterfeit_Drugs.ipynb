{
  "nbformat": 4,
  "nbformat_minor": 0,
  "metadata": {
    "colab": {
      "name": "Counterfeit Drugs",
      "provenance": [],
      "collapsed_sections": [],
      "authorship_tag": "ABX9TyPey7Fk8mXusYEvHqGw4Bjf",
      "include_colab_link": true
    },
    "kernelspec": {
      "name": "python3",
      "display_name": "Python 3"
    }
  },
  "cells": [
    {
      "cell_type": "markdown",
      "metadata": {
        "id": "view-in-github",
        "colab_type": "text"
      },
      "source": [
        "<a href=\"https://colab.research.google.com/github/GeeteshT/Project/blob/master/Counterfeit_Drugs.ipynb\" target=\"_parent\"><img src=\"https://colab.research.google.com/assets/colab-badge.svg\" alt=\"Open In Colab\"/></a>"
      ]
    },
    {
      "cell_type": "code",
      "metadata": {
        "id": "8WlnPhP8VyJo",
        "colab_type": "code",
        "colab": {
          "base_uri": "https://localhost:8080/",
          "height": 139
        },
        "outputId": "67a0ec8b-b52a-47fa-c8d2-4963d29fefb1"
      },
      "source": [
        "from google.colab import drive\n",
        "drive.mount('/gdrive')\n",
        "%cd /gdrive"
      ],
      "execution_count": null,
      "outputs": [
        {
          "output_type": "stream",
          "text": [
            "Go to this URL in a browser: https://accounts.google.com/o/oauth2/auth?client_id=947318989803-6bn6qk8qdgf4n4g3pfee6491hc0brc4i.apps.googleusercontent.com&redirect_uri=urn%3aietf%3awg%3aoauth%3a2.0%3aoob&response_type=code&scope=email%20https%3a%2f%2fwww.googleapis.com%2fauth%2fdocs.test%20https%3a%2f%2fwww.googleapis.com%2fauth%2fdrive%20https%3a%2f%2fwww.googleapis.com%2fauth%2fdrive.photos.readonly%20https%3a%2f%2fwww.googleapis.com%2fauth%2fpeopleapi.readonly\n",
            "\n",
            "Enter your authorization code:\n",
            "··········\n",
            "Mounted at /gdrive\n",
            "/gdrive\n"
          ],
          "name": "stdout"
        }
      ]
    },
    {
      "cell_type": "code",
      "metadata": {
        "id": "Rexrxf0_V6U5",
        "colab_type": "code",
        "colab": {
          "base_uri": "https://localhost:8080/",
          "height": 34
        },
        "outputId": "3ea7b4ca-8789-4102-cec8-77f87fd38a2c"
      },
      "source": [
        "from google.colab import drive\n",
        "drive.mount('/content/drive')"
      ],
      "execution_count": null,
      "outputs": [
        {
          "output_type": "stream",
          "text": [
            "Drive already mounted at /content/drive; to attempt to forcibly remount, call drive.mount(\"/content/drive\", force_remount=True).\n"
          ],
          "name": "stdout"
        }
      ]
    },
    {
      "cell_type": "code",
      "metadata": {
        "id": "t6N7-BG9WKGX",
        "colab_type": "code",
        "colab": {
          "base_uri": "https://localhost:8080/",
          "height": 71
        },
        "outputId": "aa26c49d-e1df-48a3-a592-9bddc61810f6"
      },
      "source": [
        "import pandas as pd\n",
        "import numpy as np\n",
        "import seaborn as sns\n",
        "import matplotlib.pyplot as plt \n",
        "%matplotlib inline"
      ],
      "execution_count": 1,
      "outputs": [
        {
          "output_type": "stream",
          "text": [
            "/usr/local/lib/python3.6/dist-packages/statsmodels/tools/_testing.py:19: FutureWarning: pandas.util.testing is deprecated. Use the functions in the public API at pandas.testing instead.\n",
            "  import pandas.util.testing as tm\n"
          ],
          "name": "stderr"
        }
      ]
    },
    {
      "cell_type": "code",
      "metadata": {
        "id": "e4Th2NG6WOaR",
        "colab_type": "code",
        "colab": {}
      },
      "source": [
        "df=pd.read_csv(r\"/content/drive/My Drive/Data/counterfeit_train.csv\")"
      ],
      "execution_count": null,
      "outputs": []
    },
    {
      "cell_type": "code",
      "metadata": {
        "id": "ucnH2NSsd4Oa",
        "colab_type": "code",
        "colab": {
          "base_uri": "https://localhost:8080/",
          "height": 224
        },
        "outputId": "4e44d1f3-da88-4a41-d8ec-ac5798236820"
      },
      "source": [
        "df.head()"
      ],
      "execution_count": null,
      "outputs": [
        {
          "output_type": "execute_result",
          "data": {
            "text/html": [
              "<div>\n",
              "<style scoped>\n",
              "    .dataframe tbody tr th:only-of-type {\n",
              "        vertical-align: middle;\n",
              "    }\n",
              "\n",
              "    .dataframe tbody tr th {\n",
              "        vertical-align: top;\n",
              "    }\n",
              "\n",
              "    .dataframe thead th {\n",
              "        text-align: right;\n",
              "    }\n",
              "</style>\n",
              "<table border=\"1\" class=\"dataframe\">\n",
              "  <thead>\n",
              "    <tr style=\"text-align: right;\">\n",
              "      <th></th>\n",
              "      <th>Medicine_ID</th>\n",
              "      <th>Counterfeit_Weight</th>\n",
              "      <th>DistArea_ID</th>\n",
              "      <th>Active_Since</th>\n",
              "      <th>Medicine_MRP</th>\n",
              "      <th>Medicine_Type</th>\n",
              "      <th>SidEffect_Level</th>\n",
              "      <th>Availability_rating</th>\n",
              "      <th>Area_Type</th>\n",
              "      <th>Area_City_Type</th>\n",
              "      <th>Area_dist_level</th>\n",
              "      <th>Counterfeit_Sales</th>\n",
              "    </tr>\n",
              "  </thead>\n",
              "  <tbody>\n",
              "    <tr>\n",
              "      <th>0</th>\n",
              "      <td>RRA15</td>\n",
              "      <td>13.100</td>\n",
              "      <td>Area046</td>\n",
              "      <td>1995</td>\n",
              "      <td>160.2366</td>\n",
              "      <td>Antimalarial</td>\n",
              "      <td>critical</td>\n",
              "      <td>0.070422</td>\n",
              "      <td>DownTown</td>\n",
              "      <td>Tier 1</td>\n",
              "      <td>Small</td>\n",
              "      <td>1775.5026</td>\n",
              "    </tr>\n",
              "    <tr>\n",
              "      <th>1</th>\n",
              "      <td>YVV26</td>\n",
              "      <td>NaN</td>\n",
              "      <td>Area027</td>\n",
              "      <td>1983</td>\n",
              "      <td>110.4384</td>\n",
              "      <td>Mstablizers</td>\n",
              "      <td>mild</td>\n",
              "      <td>0.013000</td>\n",
              "      <td>CityLimits</td>\n",
              "      <td>Tier 3</td>\n",
              "      <td>Medium</td>\n",
              "      <td>3069.1520</td>\n",
              "    </tr>\n",
              "    <tr>\n",
              "      <th>2</th>\n",
              "      <td>LJC15</td>\n",
              "      <td>9.025</td>\n",
              "      <td>Area046</td>\n",
              "      <td>1995</td>\n",
              "      <td>259.4092</td>\n",
              "      <td>Cardiac</td>\n",
              "      <td>mild</td>\n",
              "      <td>0.060783</td>\n",
              "      <td>DownTown</td>\n",
              "      <td>Tier 1</td>\n",
              "      <td>Small</td>\n",
              "      <td>2603.0920</td>\n",
              "    </tr>\n",
              "    <tr>\n",
              "      <th>3</th>\n",
              "      <td>GWC40</td>\n",
              "      <td>11.800</td>\n",
              "      <td>Area046</td>\n",
              "      <td>1995</td>\n",
              "      <td>99.9830</td>\n",
              "      <td>OralContraceptives</td>\n",
              "      <td>mild</td>\n",
              "      <td>0.065555</td>\n",
              "      <td>DownTown</td>\n",
              "      <td>Tier 1</td>\n",
              "      <td>Small</td>\n",
              "      <td>1101.7130</td>\n",
              "    </tr>\n",
              "    <tr>\n",
              "      <th>4</th>\n",
              "      <td>QMN13</td>\n",
              "      <td>NaN</td>\n",
              "      <td>Area019</td>\n",
              "      <td>1983</td>\n",
              "      <td>56.4402</td>\n",
              "      <td>Hreplacements</td>\n",
              "      <td>critical</td>\n",
              "      <td>0.248859</td>\n",
              "      <td>MidTownResidential</td>\n",
              "      <td>Tier 1</td>\n",
              "      <td>Small</td>\n",
              "      <td>158.9402</td>\n",
              "    </tr>\n",
              "  </tbody>\n",
              "</table>\n",
              "</div>"
            ],
            "text/plain": [
              "  Medicine_ID  Counterfeit_Weight  ... Area_dist_level  Counterfeit_Sales\n",
              "0       RRA15              13.100  ...           Small          1775.5026\n",
              "1       YVV26                 NaN  ...          Medium          3069.1520\n",
              "2       LJC15               9.025  ...           Small          2603.0920\n",
              "3       GWC40              11.800  ...           Small          1101.7130\n",
              "4       QMN13                 NaN  ...           Small           158.9402\n",
              "\n",
              "[5 rows x 12 columns]"
            ]
          },
          "metadata": {
            "tags": []
          },
          "execution_count": 173
        }
      ]
    },
    {
      "cell_type": "code",
      "metadata": {
        "id": "iH53Ts1jWTiQ",
        "colab_type": "code",
        "colab": {
          "base_uri": "https://localhost:8080/",
          "height": 34
        },
        "outputId": "fcb9d1da-cd01-4fed-9800-4634286cabe4"
      },
      "source": [
        "df.shape"
      ],
      "execution_count": null,
      "outputs": [
        {
          "output_type": "execute_result",
          "data": {
            "text/plain": [
              "(6818, 12)"
            ]
          },
          "metadata": {
            "tags": []
          },
          "execution_count": 174
        }
      ]
    },
    {
      "cell_type": "code",
      "metadata": {
        "id": "b0LR5PsGbic8",
        "colab_type": "code",
        "colab": {
          "base_uri": "https://localhost:8080/",
          "height": 102
        },
        "outputId": "46acef5d-0236-4193-8ec2-70c09a089fba"
      },
      "source": [
        "df.columns"
      ],
      "execution_count": null,
      "outputs": [
        {
          "output_type": "execute_result",
          "data": {
            "text/plain": [
              "Index(['Medicine_ID', 'Counterfeit_Weight', 'DistArea_ID', 'Active_Since',\n",
              "       'Medicine_MRP', 'Medicine_Type', 'SidEffect_Level',\n",
              "       'Availability_rating', 'Area_Type', 'Area_City_Type', 'Area_dist_level',\n",
              "       'Counterfeit_Sales'],\n",
              "      dtype='object')"
            ]
          },
          "metadata": {
            "tags": []
          },
          "execution_count": 175
        }
      ]
    },
    {
      "cell_type": "code",
      "metadata": {
        "id": "q_ZjCPdtd_Gk",
        "colab_type": "code",
        "colab": {
          "base_uri": "https://localhost:8080/",
          "height": 1000
        },
        "outputId": "e40c28be-206e-4f4a-c629-3716e318eb1d"
      },
      "source": [
        "for col in df.columns:\n",
        "  print(\"==={}===\".format(col))\n",
        "  print(df[col].value_counts())"
      ],
      "execution_count": null,
      "outputs": [
        {
          "output_type": "stream",
          "text": [
            "===Medicine_ID===\n",
            "RQS74    9\n",
            "HQH91    9\n",
            "OQH15    9\n",
            "KIS14    9\n",
            "QLK14    9\n",
            "        ..\n",
            "RLS13    1\n",
            "WGC12    1\n",
            "WTA87    1\n",
            "KQB14    1\n",
            "UKN13    1\n",
            "Name: Medicine_ID, Length: 1557, dtype: int64\n",
            "===Counterfeit_Weight===\n",
            "13.450    72\n",
            "18.900    67\n",
            "13.100    65\n",
            "18.000    55\n",
            "14.950    55\n",
            "          ..\n",
            "6.510      1\n",
            "7.395      1\n",
            "6.700      1\n",
            "8.195      1\n",
            "8.060      1\n",
            "Name: Counterfeit_Weight, Length: 414, dtype: int64\n",
            "===DistArea_ID===\n",
            "Area017    760\n",
            "Area046    749\n",
            "Area013    749\n",
            "Area035    748\n",
            "Area049    739\n",
            "Area045    736\n",
            "Area027    735\n",
            "Area018    729\n",
            "Area010    442\n",
            "Area019    431\n",
            "Name: DistArea_ID, dtype: int64\n",
            "===Active_Since===\n",
            "1983    1166\n",
            "2005     760\n",
            "1995     749\n",
            "1985     749\n",
            "2002     748\n",
            "1997     739\n",
            "2000     736\n",
            "2007     729\n",
            "1996     442\n",
            "Name: Active_Since, dtype: int64\n",
            "===Medicine_MRP===\n",
            "152.3154    6\n",
            "182.3422    5\n",
            "137.4020    5\n",
            "131.1756    5\n",
            "119.8228    5\n",
            "           ..\n",
            "83.5354     1\n",
            "129.6124    1\n",
            "97.9856     1\n",
            "106.2726    1\n",
            "50.0138     1\n",
            "Name: Medicine_MRP, Length: 5097, dtype: int64\n",
            "===Medicine_Type===\n",
            "Hreplacements         976\n",
            "Antibiotics           970\n",
            "Antiseptics           724\n",
            "OralContraceptives    694\n",
            "Antipyretics          536\n",
            "Cardiac               522\n",
            "Mstablizers           514\n",
            "Tranquilizers         420\n",
            "Analgesics            356\n",
            "Antimalarial          339\n",
            "Antacids              206\n",
            "Statins               167\n",
            "MuscleRelaxants       139\n",
            "Antifungal            111\n",
            "Stimulants             95\n",
            "Antiviral              49\n",
            "Name: Medicine_Type, dtype: int64\n",
            "===SidEffect_Level===\n",
            "mild        4434\n",
            "critical    2384\n",
            "Name: SidEffect_Level, dtype: int64\n",
            "===Availability_rating===\n",
            "0.013000    419\n",
            "0.089975      3\n",
            "0.141296      2\n",
            "0.200443      2\n",
            "0.027099      2\n",
            "           ... \n",
            "0.202690      1\n",
            "0.075798      1\n",
            "0.222143      1\n",
            "0.048954      1\n",
            "0.139480      1\n",
            "Name: Availability_rating, Length: 6317, dtype: int64\n",
            "===Area_Type===\n",
            "DownTown              4481\n",
            "MidTownResidential     873\n",
            "CityLimits             735\n",
            "Industrial             729\n",
            "Name: Area_Type, dtype: int64\n",
            "===Area_City_Type===\n",
            "Tier 3    2655\n",
            "Tier 2    2244\n",
            "Tier 1    1919\n",
            "Name: Area_City_Type, dtype: int64\n",
            "===Area_dist_level===\n",
            "Medium     2203\n",
            "Unknown    1938\n",
            "Small      1928\n",
            "High        749\n",
            "Name: Area_dist_level, dtype: int64\n",
            "===Counterfeit_Sales===\n",
            "1455.2528    16\n",
            "1071.7520    14\n",
            "816.0848     13\n",
            "1391.3360    13\n",
            "1958.5976    12\n",
            "             ..\n",
            "8526.0488     1\n",
            "1125.6818     1\n",
            "1450.5922     1\n",
            "1967.9188     1\n",
            "2077.1100     1\n",
            "Name: Counterfeit_Sales, Length: 3142, dtype: int64\n"
          ],
          "name": "stdout"
        }
      ]
    },
    {
      "cell_type": "code",
      "metadata": {
        "id": "OmRDwwmYWVe_",
        "colab_type": "code",
        "colab": {
          "base_uri": "https://localhost:8080/",
          "height": 340
        },
        "outputId": "feedf38c-e7e3-4449-bdbf-7f7664280973"
      },
      "source": [
        "df.info()"
      ],
      "execution_count": null,
      "outputs": [
        {
          "output_type": "stream",
          "text": [
            "<class 'pandas.core.frame.DataFrame'>\n",
            "RangeIndex: 6818 entries, 0 to 6817\n",
            "Data columns (total 12 columns):\n",
            " #   Column               Non-Null Count  Dtype  \n",
            "---  ------               --------------  -----  \n",
            " 0   Medicine_ID          6818 non-null   object \n",
            " 1   Counterfeit_Weight   5652 non-null   float64\n",
            " 2   DistArea_ID          6818 non-null   object \n",
            " 3   Active_Since         6818 non-null   int64  \n",
            " 4   Medicine_MRP         6818 non-null   float64\n",
            " 5   Medicine_Type        6818 non-null   object \n",
            " 6   SidEffect_Level      6818 non-null   object \n",
            " 7   Availability_rating  6818 non-null   float64\n",
            " 8   Area_Type            6818 non-null   object \n",
            " 9   Area_City_Type       6818 non-null   object \n",
            " 10  Area_dist_level      6818 non-null   object \n",
            " 11  Counterfeit_Sales    6818 non-null   float64\n",
            "dtypes: float64(4), int64(1), object(7)\n",
            "memory usage: 639.3+ KB\n"
          ],
          "name": "stdout"
        }
      ]
    },
    {
      "cell_type": "code",
      "metadata": {
        "id": "Hg1IMHtVWeQX",
        "colab_type": "code",
        "colab": {
          "base_uri": "https://localhost:8080/",
          "height": 297
        },
        "outputId": "dc2cbcc4-e40d-4279-d5ff-e0e8312d157a"
      },
      "source": [
        "df.describe()"
      ],
      "execution_count": null,
      "outputs": [
        {
          "output_type": "execute_result",
          "data": {
            "text/html": [
              "<div>\n",
              "<style scoped>\n",
              "    .dataframe tbody tr th:only-of-type {\n",
              "        vertical-align: middle;\n",
              "    }\n",
              "\n",
              "    .dataframe tbody tr th {\n",
              "        vertical-align: top;\n",
              "    }\n",
              "\n",
              "    .dataframe thead th {\n",
              "        text-align: right;\n",
              "    }\n",
              "</style>\n",
              "<table border=\"1\" class=\"dataframe\">\n",
              "  <thead>\n",
              "    <tr style=\"text-align: right;\">\n",
              "      <th></th>\n",
              "      <th>Counterfeit_Weight</th>\n",
              "      <th>Active_Since</th>\n",
              "      <th>Medicine_MRP</th>\n",
              "      <th>Availability_rating</th>\n",
              "      <th>Counterfeit_Sales</th>\n",
              "    </tr>\n",
              "  </thead>\n",
              "  <tbody>\n",
              "    <tr>\n",
              "      <th>count</th>\n",
              "      <td>5652.000000</td>\n",
              "      <td>6818.000000</td>\n",
              "      <td>6818.000000</td>\n",
              "      <td>6818.000000</td>\n",
              "      <td>6818.000000</td>\n",
              "    </tr>\n",
              "    <tr>\n",
              "      <th>mean</th>\n",
              "      <td>14.115057</td>\n",
              "      <td>1995.836316</td>\n",
              "      <td>151.401518</td>\n",
              "      <td>0.079174</td>\n",
              "      <td>2280.583480</td>\n",
              "    </tr>\n",
              "    <tr>\n",
              "      <th>std</th>\n",
              "      <td>4.649668</td>\n",
              "      <td>8.368979</td>\n",
              "      <td>62.203961</td>\n",
              "      <td>0.051481</td>\n",
              "      <td>1693.354404</td>\n",
              "    </tr>\n",
              "    <tr>\n",
              "      <th>min</th>\n",
              "      <td>5.855000</td>\n",
              "      <td>1983.000000</td>\n",
              "      <td>41.790000</td>\n",
              "      <td>0.013000</td>\n",
              "      <td>146.290000</td>\n",
              "    </tr>\n",
              "    <tr>\n",
              "      <th>25%</th>\n",
              "      <td>9.995000</td>\n",
              "      <td>1985.000000</td>\n",
              "      <td>104.509400</td>\n",
              "      <td>0.040058</td>\n",
              "      <td>933.265600</td>\n",
              "    </tr>\n",
              "    <tr>\n",
              "      <th>50%</th>\n",
              "      <td>13.800000</td>\n",
              "      <td>1997.000000</td>\n",
              "      <td>153.195700</td>\n",
              "      <td>0.066955</td>\n",
              "      <td>1902.670400</td>\n",
              "    </tr>\n",
              "    <tr>\n",
              "      <th>75%</th>\n",
              "      <td>18.050000</td>\n",
              "      <td>2002.000000</td>\n",
              "      <td>196.148350</td>\n",
              "      <td>0.107697</td>\n",
              "      <td>3207.638400</td>\n",
              "    </tr>\n",
              "    <tr>\n",
              "      <th>max</th>\n",
              "      <td>22.650000</td>\n",
              "      <td>2007.000000</td>\n",
              "      <td>277.188400</td>\n",
              "      <td>0.341391</td>\n",
              "      <td>13199.964800</td>\n",
              "    </tr>\n",
              "  </tbody>\n",
              "</table>\n",
              "</div>"
            ],
            "text/plain": [
              "       Counterfeit_Weight  Active_Since  ...  Availability_rating  Counterfeit_Sales\n",
              "count         5652.000000   6818.000000  ...          6818.000000        6818.000000\n",
              "mean            14.115057   1995.836316  ...             0.079174        2280.583480\n",
              "std              4.649668      8.368979  ...             0.051481        1693.354404\n",
              "min              5.855000   1983.000000  ...             0.013000         146.290000\n",
              "25%              9.995000   1985.000000  ...             0.040058         933.265600\n",
              "50%             13.800000   1997.000000  ...             0.066955        1902.670400\n",
              "75%             18.050000   2002.000000  ...             0.107697        3207.638400\n",
              "max             22.650000   2007.000000  ...             0.341391       13199.964800\n",
              "\n",
              "[8 rows x 5 columns]"
            ]
          },
          "metadata": {
            "tags": []
          },
          "execution_count": 178
        }
      ]
    },
    {
      "cell_type": "code",
      "metadata": {
        "id": "7rWmgwE8WgU0",
        "colab_type": "code",
        "colab": {
          "base_uri": "https://localhost:8080/",
          "height": 204
        },
        "outputId": "76e00c61-0342-4011-eb4a-81c12a51447c"
      },
      "source": [
        "pd.DataFrame(list(zip(df.mean(),df.median())),columns=[\"Mean\",\"Median\"]) "
      ],
      "execution_count": null,
      "outputs": [
        {
          "output_type": "execute_result",
          "data": {
            "text/html": [
              "<div>\n",
              "<style scoped>\n",
              "    .dataframe tbody tr th:only-of-type {\n",
              "        vertical-align: middle;\n",
              "    }\n",
              "\n",
              "    .dataframe tbody tr th {\n",
              "        vertical-align: top;\n",
              "    }\n",
              "\n",
              "    .dataframe thead th {\n",
              "        text-align: right;\n",
              "    }\n",
              "</style>\n",
              "<table border=\"1\" class=\"dataframe\">\n",
              "  <thead>\n",
              "    <tr style=\"text-align: right;\">\n",
              "      <th></th>\n",
              "      <th>Mean</th>\n",
              "      <th>Median</th>\n",
              "    </tr>\n",
              "  </thead>\n",
              "  <tbody>\n",
              "    <tr>\n",
              "      <th>0</th>\n",
              "      <td>14.115057</td>\n",
              "      <td>13.800000</td>\n",
              "    </tr>\n",
              "    <tr>\n",
              "      <th>1</th>\n",
              "      <td>1995.836316</td>\n",
              "      <td>1997.000000</td>\n",
              "    </tr>\n",
              "    <tr>\n",
              "      <th>2</th>\n",
              "      <td>151.401518</td>\n",
              "      <td>153.195700</td>\n",
              "    </tr>\n",
              "    <tr>\n",
              "      <th>3</th>\n",
              "      <td>0.079174</td>\n",
              "      <td>0.066955</td>\n",
              "    </tr>\n",
              "    <tr>\n",
              "      <th>4</th>\n",
              "      <td>2280.583480</td>\n",
              "      <td>1902.670400</td>\n",
              "    </tr>\n",
              "  </tbody>\n",
              "</table>\n",
              "</div>"
            ],
            "text/plain": [
              "          Mean       Median\n",
              "0    14.115057    13.800000\n",
              "1  1995.836316  1997.000000\n",
              "2   151.401518   153.195700\n",
              "3     0.079174     0.066955\n",
              "4  2280.583480  1902.670400"
            ]
          },
          "metadata": {
            "tags": []
          },
          "execution_count": 179
        }
      ]
    },
    {
      "cell_type": "code",
      "metadata": {
        "id": "XVfhVu1IW6Zc",
        "colab_type": "code",
        "colab": {}
      },
      "source": [
        "is_null_val=[col for col in df.columns if(df[col].isnull().sum()>1)]"
      ],
      "execution_count": null,
      "outputs": []
    },
    {
      "cell_type": "code",
      "metadata": {
        "id": "luI9m8W6XCrh",
        "colab_type": "code",
        "colab": {
          "base_uri": "https://localhost:8080/",
          "height": 51
        },
        "outputId": "9b0e8228-805f-4721-a9bb-95c2e4a2b433"
      },
      "source": [
        "print(is_null_val)\n",
        "for col in is_null_val:\n",
        "  print(col,df[col].isnull().mean())"
      ],
      "execution_count": null,
      "outputs": [
        {
          "output_type": "stream",
          "text": [
            "['Counterfeit_Weight']\n",
            "Counterfeit_Weight 0.17101789381050161\n"
          ],
          "name": "stdout"
        }
      ]
    },
    {
      "cell_type": "code",
      "metadata": {
        "id": "CbXJuzXWZAyG",
        "colab_type": "code",
        "colab": {
          "base_uri": "https://localhost:8080/",
          "height": 277
        },
        "outputId": "32a0f70a-9c38-442d-a806-f1d459b3d40c"
      },
      "source": [
        "for col in is_null_val:\n",
        "  data=df.copy()\n",
        "  data[col]=np.where(df[col].isnull(),1,0)\n",
        "  data.groupby(col)[\"Counterfeit_Sales\"].median().plot.bar()\n",
        "  plt.show()"
      ],
      "execution_count": null,
      "outputs": [
        {
          "output_type": "display_data",
          "data": {
            "image/png": "[encoded data removed]",
            "text/plain": [
              "<Figure size 432x288 with 1 Axes>"
            ]
          },
          "metadata": {
            "tags": [],
            "needs_background": "light"
          }
        }
      ]
    },
    {
      "cell_type": "code",
      "metadata": {
        "id": "lDMjUAH4cXeu",
        "colab_type": "code",
        "colab": {}
      },
      "source": [
        "numerical_feature=[feature for feature in df.columns if(df[feature].dtypes!=\"O\")]"
      ],
      "execution_count": null,
      "outputs": []
    },
    {
      "cell_type": "code",
      "metadata": {
        "id": "x4qroTIpc3JS",
        "colab_type": "code",
        "colab": {
          "base_uri": "https://localhost:8080/",
          "height": 119
        },
        "outputId": "0068bfd8-1034-4e5f-a0d5-d646c8959dd2"
      },
      "source": [
        "print(numerical_feature)\n",
        "for col in numerical_feature:\n",
        "  print(col,len(df[col].unique()))"
      ],
      "execution_count": null,
      "outputs": [
        {
          "output_type": "stream",
          "text": [
            "['Counterfeit_Weight', 'Active_Since', 'Medicine_MRP', 'Availability_rating', 'Counterfeit_Sales']\n",
            "Counterfeit_Weight 415\n",
            "Active_Since 9\n",
            "Medicine_MRP 5097\n",
            "Availability_rating 6317\n",
            "Counterfeit_Sales 3142\n"
          ],
          "name": "stdout"
        }
      ]
    },
    {
      "cell_type": "code",
      "metadata": {
        "id": "0ntwhP0Bc9P7",
        "colab_type": "code",
        "colab": {
          "base_uri": "https://localhost:8080/",
          "height": 1000
        },
        "outputId": "8fd5f96c-16a7-4ee1-9cf3-34310805cbb8"
      },
      "source": [
        "for col in numerical_feature:\n",
        "  print(\"==={}==\".format(col))\n",
        "  print(df[col].value_counts())"
      ],
      "execution_count": null,
      "outputs": [
        {
          "output_type": "stream",
          "text": [
            "===Counterfeit_Weight==\n",
            "13.450    72\n",
            "18.900    67\n",
            "13.100    65\n",
            "18.000    55\n",
            "14.950    55\n",
            "          ..\n",
            "6.510      1\n",
            "7.395      1\n",
            "6.700      1\n",
            "8.195      1\n",
            "8.060      1\n",
            "Name: Counterfeit_Weight, Length: 414, dtype: int64\n",
            "===Active_Since==\n",
            "1983    1166\n",
            "2005     760\n",
            "1995     749\n",
            "1985     749\n",
            "2002     748\n",
            "1997     739\n",
            "2000     736\n",
            "2007     729\n",
            "1996     442\n",
            "Name: Active_Since, dtype: int64\n",
            "===Medicine_MRP==\n",
            "152.3154    6\n",
            "182.3422    5\n",
            "137.4020    5\n",
            "131.1756    5\n",
            "119.8228    5\n",
            "           ..\n",
            "83.5354     1\n",
            "129.6124    1\n",
            "97.9856     1\n",
            "106.2726    1\n",
            "50.0138     1\n",
            "Name: Medicine_MRP, Length: 5097, dtype: int64\n",
            "===Availability_rating==\n",
            "0.013000    419\n",
            "0.089975      3\n",
            "0.141296      2\n",
            "0.200443      2\n",
            "0.027099      2\n",
            "           ... \n",
            "0.202690      1\n",
            "0.075798      1\n",
            "0.222143      1\n",
            "0.048954      1\n",
            "0.139480      1\n",
            "Name: Availability_rating, Length: 6317, dtype: int64\n",
            "===Counterfeit_Sales==\n",
            "1455.2528    16\n",
            "1071.7520    14\n",
            "816.0848     13\n",
            "1391.3360    13\n",
            "1958.5976    12\n",
            "             ..\n",
            "8526.0488     1\n",
            "1125.6818     1\n",
            "1450.5922     1\n",
            "1967.9188     1\n",
            "2077.1100     1\n",
            "Name: Counterfeit_Sales, Length: 3142, dtype: int64\n"
          ],
          "name": "stdout"
        }
      ]
    },
    {
      "cell_type": "code",
      "metadata": {
        "id": "vQkleWxRdGrM",
        "colab_type": "code",
        "colab": {
          "base_uri": "https://localhost:8080/",
          "height": 313
        },
        "outputId": "07761652-e3f0-44a9-e153-7129236f8570"
      },
      "source": [
        "df.groupby(\"Active_Since\")[\"Counterfeit_Sales\"].median().plot()\n",
        "plt.xlabel(\"Active_Since\")\n",
        "plt.ylabel(\"Counterfit_sales\")\n",
        "plt.title(\"Active_Since Vs Counterfit_sales\")"
      ],
      "execution_count": null,
      "outputs": [
        {
          "output_type": "execute_result",
          "data": {
            "text/plain": [
              "Text(0.5, 1.0, 'Active_Since Vs Counterfit_sales')"
            ]
          },
          "metadata": {
            "tags": []
          },
          "execution_count": 186
        },
        {
          "output_type": "display_data",
          "data": {
            "image/png": "[encoded data removed]",
            "text/plain": [
              "<Figure size 432x288 with 1 Axes>"
            ]
          },
          "metadata": {
            "tags": [],
            "needs_background": "light"
          }
        }
      ]
    },
    {
      "cell_type": "code",
      "metadata": {
        "id": "ZklHsUKijouu",
        "colab_type": "code",
        "colab": {
          "base_uri": "https://localhost:8080/",
          "height": 1000
        },
        "outputId": "e9829fb6-a974-45eb-96cd-dbff9de76df2"
      },
      "source": [
        "for col in numerical_feature:\n",
        "  data=df.copy()\n",
        "  data[col].hist(bins=25)\n",
        "  plt.xlabel(\"Counterfit_Sales\")\n",
        "  plt.ylabel(col)\n",
        "  plt.title(col)\n",
        "  plt.show()"
      ],
      "execution_count": null,
      "outputs": [
        {
          "output_type": "display_data",
          "data": {
            "image/png": "[encoded data removed]",
            "text/plain": [
              "<Figure size 432x288 with 1 Axes>"
            ]
          },
          "metadata": {
            "tags": [],
            "needs_background": "light"
          }
        },
        {
          "output_type": "display_data",
          "data": {
            "image/png": "[encoded data removed]",
            "text/plain": [
              "<Figure size 432x288 with 1 Axes>"
            ]
          },
          "metadata": {
            "tags": [],
            "needs_background": "light"
          }
        },
        {
          "output_type": "display_data",
          "data": {
            "image/png": "[encoded data removed]",
            "text/plain": [
              "<Figure size 432x288 with 1 Axes>"
            ]
          },
          "metadata": {
            "tags": [],
            "needs_background": "light"
          }
        },
        {
          "output_type": "display_data",
          "data": {
            "image/png": "[encoded data removed]",
            "text/plain": [
              "<Figure size 432x288 with 1 Axes>"
            ]
          },
          "metadata": {
            "tags": [],
            "needs_background": "light"
          }
        },
        {
          "output_type": "display_data",
          "data": {
            "image/png": "[encoded data removed]",
            "text/plain": [
              "<Figure size 432x288 with 1 Axes>"
            ]
          },
          "metadata": {
            "tags": [],
            "needs_background": "light"
          }
        }
      ]
    },
    {
      "cell_type": "code",
      "metadata": {
        "id": "WUYeRllFlWfd",
        "colab_type": "code",
        "colab": {
          "base_uri": "https://localhost:8080/",
          "height": 119
        },
        "outputId": "8b5102b3-fc60-4f0d-aca6-e1fc6defa2d9"
      },
      "source": [
        "df.skew()"
      ],
      "execution_count": null,
      "outputs": [
        {
          "output_type": "execute_result",
          "data": {
            "text/plain": [
              "Counterfeit_Weight     0.090156\n",
              "Active_Since          -0.398311\n",
              "Medicine_MRP           0.123301\n",
              "Availability_rating    1.161364\n",
              "Counterfeit_Sales      1.182056\n",
              "dtype: float64"
            ]
          },
          "metadata": {
            "tags": []
          },
          "execution_count": 188
        }
      ]
    },
    {
      "cell_type": "code",
      "metadata": {
        "id": "xLZ3UjcVpsJ8",
        "colab_type": "code",
        "colab": {}
      },
      "source": [
        "numerical_feature= ['Counterfeit_Weight','Medicine_MRP','Availability_rating','Counterfeit_Sales']"
      ],
      "execution_count": null,
      "outputs": []
    },
    {
      "cell_type": "code",
      "metadata": {
        "id": "_dOF0CKnqd3q",
        "colab_type": "code",
        "colab": {
          "base_uri": "https://localhost:8080/",
          "height": 85
        },
        "outputId": "88de02fd-60d8-4793-fc59-026643eefa58"
      },
      "source": [
        "numerical_feature"
      ],
      "execution_count": null,
      "outputs": [
        {
          "output_type": "execute_result",
          "data": {
            "text/plain": [
              "['Counterfeit_Weight',\n",
              " 'Medicine_MRP',\n",
              " 'Availability_rating',\n",
              " 'Counterfeit_Sales']"
            ]
          },
          "metadata": {
            "tags": []
          },
          "execution_count": 190
        }
      ]
    },
    {
      "cell_type": "code",
      "metadata": {
        "id": "a5xB2a7RrISR",
        "colab_type": "code",
        "colab": {
          "base_uri": "https://localhost:8080/",
          "height": 1000
        },
        "outputId": "b40836e9-505f-48d5-e927-183ab45e97c2"
      },
      "source": [
        "for col in numerical_feature:\n",
        "  data=df.copy()\n",
        "  sns.distplot(np.sqrt(data[col]))\n",
        "  plt.show()"
      ],
      "execution_count": null,
      "outputs": [
        {
          "output_type": "display_data",
          "data": {
            "image/png": "[encoded data removed]",
            "text/plain": [
              "<Figure size 432x288 with 1 Axes>"
            ]
          },
          "metadata": {
            "tags": [],
            "needs_background": "light"
          }
        },
        {
          "output_type": "display_data",
          "data": {
            "image/png": "[encoded data removed]",
            "text/plain": [
              "<Figure size 432x288 with 1 Axes>"
            ]
          },
          "metadata": {
            "tags": [],
            "needs_background": "light"
          }
        },
        {
          "output_type": "display_data",
          "data": {
            "image/png": "[encoded data removed]",
            "text/plain": [
              "<Figure size 432x288 with 1 Axes>"
            ]
          },
          "metadata": {
            "tags": [],
            "needs_background": "light"
          }
        },
        {
          "output_type": "display_data",
          "data": {
            "image/png": "[encoded data removed]",
            "text/plain": [
              "<Figure size 432x288 with 1 Axes>"
            ]
          },
          "metadata": {
            "tags": [],
            "needs_background": "light"
          }
        }
      ]
    },
    {
      "cell_type": "code",
      "metadata": {
        "id": "NofFMxF3sCne",
        "colab_type": "code",
        "colab": {
          "base_uri": "https://localhost:8080/",
          "height": 1000
        },
        "outputId": "889664e8-4903-444b-c2c5-651ca5f54669"
      },
      "source": [
        "for col in numerical_feature:\n",
        "  data=df.copy()\n",
        "  sns.distplot(np.log(data[col]))\n",
        "  plt.show()"
      ],
      "execution_count": null,
      "outputs": [
        {
          "output_type": "display_data",
          "data": {
            "image/png": "[encoded data removed]",
            "text/plain": [
              "<Figure size 432x288 with 1 Axes>"
            ]
          },
          "metadata": {
            "tags": [],
            "needs_background": "light"
          }
        },
        {
          "output_type": "display_data",
          "data": {
            "image/png": "[encoded data removed]",
            "text/plain": [
              "<Figure size 432x288 with 1 Axes>"
            ]
          },
          "metadata": {
            "tags": [],
            "needs_background": "light"
          }
        },
        {
          "output_type": "display_data",
          "data": {
            "image/png": "[encoded data removed]",
            "text/plain": [
              "<Figure size 432x288 with 1 Axes>"
            ]
          },
          "metadata": {
            "tags": [],
            "needs_background": "light"
          }
        },
        {
          "output_type": "display_data",
          "data": {
            "image/png": "[encoded data removed]",
            "text/plain": [
              "<Figure size 432x288 with 1 Axes>"
            ]
          },
          "metadata": {
            "tags": [],
            "needs_background": "light"
          }
        }
      ]
    },
    {
      "cell_type": "code",
      "metadata": {
        "id": "2CO0aJz4uOAS",
        "colab_type": "code",
        "colab": {
          "base_uri": "https://localhost:8080/",
          "height": 1000
        },
        "outputId": "dd741357-3076-4dbc-b387-09ca5f98a9a3"
      },
      "source": [
        "for col in numerical_feature:\n",
        "  data=df.copy()\n",
        "  data[col]=np.sqrt(data[col])\n",
        "  data.boxplot(column=col)\n",
        "  plt.ylabel(col)\n",
        "  plt.title(col)\n",
        "  plt.show()  "
      ],
      "execution_count": null,
      "outputs": [
        {
          "output_type": "display_data",
          "data": {
            "image/png": "[encoded data removed]",
            "text/plain": [
              "<Figure size 432x288 with 1 Axes>"
            ]
          },
          "metadata": {
            "tags": [],
            "needs_background": "light"
          }
        },
        {
          "output_type": "display_data",
          "data": {
            "image/png": "[encoded data removed]",
            "text/plain": [
              "<Figure size 432x288 with 1 Axes>"
            ]
          },
          "metadata": {
            "tags": [],
            "needs_background": "light"
          }
        },
        {
          "output_type": "display_data",
          "data": {
            "image/png": "[encoded data removed]",
            "text/plain": [
              "<Figure size 432x288 with 1 Axes>"
            ]
          },
          "metadata": {
            "tags": [],
            "needs_background": "light"
          }
        },
        {
          "output_type": "display_data",
          "data": {
            "image/png": "[encoded data removed]",
            "text/plain": [
              "<Figure size 432x288 with 1 Axes>"
            ]
          },
          "metadata": {
            "tags": [],
            "needs_background": "light"
          }
        }
      ]
    },
    {
      "cell_type": "code",
      "metadata": {
        "id": "RLojgfkBpucV",
        "colab_type": "code",
        "colab": {
          "base_uri": "https://localhost:8080/",
          "height": 34
        },
        "outputId": "0f0f8ec2-6a59-46a8-c74e-f71434181a6f"
      },
      "source": [
        "categorical_feature=[feature for feature in df.columns if(df[feature].dtypes==\"O\")]\n",
        "print(categorical_feature)"
      ],
      "execution_count": null,
      "outputs": [
        {
          "output_type": "stream",
          "text": [
            "['Medicine_ID', 'DistArea_ID', 'Medicine_Type', 'SidEffect_Level', 'Area_Type', 'Area_City_Type', 'Area_dist_level']\n"
          ],
          "name": "stdout"
        }
      ]
    },
    {
      "cell_type": "code",
      "metadata": {
        "id": "NArqm3o1rP6E",
        "colab_type": "code",
        "colab": {
          "base_uri": "https://localhost:8080/",
          "height": 204
        },
        "outputId": "ca4778db-70ce-4061-bbd5-d62eb48e16bf"
      },
      "source": [
        "df[categorical_feature].head()"
      ],
      "execution_count": null,
      "outputs": [
        {
          "output_type": "execute_result",
          "data": {
            "text/html": [
              "<div>\n",
              "<style scoped>\n",
              "    .dataframe tbody tr th:only-of-type {\n",
              "        vertical-align: middle;\n",
              "    }\n",
              "\n",
              "    .dataframe tbody tr th {\n",
              "        vertical-align: top;\n",
              "    }\n",
              "\n",
              "    .dataframe thead th {\n",
              "        text-align: right;\n",
              "    }\n",
              "</style>\n",
              "<table border=\"1\" class=\"dataframe\">\n",
              "  <thead>\n",
              "    <tr style=\"text-align: right;\">\n",
              "      <th></th>\n",
              "      <th>Medicine_ID</th>\n",
              "      <th>DistArea_ID</th>\n",
              "      <th>Medicine_Type</th>\n",
              "      <th>SidEffect_Level</th>\n",
              "      <th>Area_Type</th>\n",
              "      <th>Area_City_Type</th>\n",
              "      <th>Area_dist_level</th>\n",
              "    </tr>\n",
              "  </thead>\n",
              "  <tbody>\n",
              "    <tr>\n",
              "      <th>0</th>\n",
              "      <td>RRA15</td>\n",
              "      <td>Area046</td>\n",
              "      <td>Antimalarial</td>\n",
              "      <td>critical</td>\n",
              "      <td>DownTown</td>\n",
              "      <td>Tier 1</td>\n",
              "      <td>Small</td>\n",
              "    </tr>\n",
              "    <tr>\n",
              "      <th>1</th>\n",
              "      <td>YVV26</td>\n",
              "      <td>Area027</td>\n",
              "      <td>Mstablizers</td>\n",
              "      <td>mild</td>\n",
              "      <td>CityLimits</td>\n",
              "      <td>Tier 3</td>\n",
              "      <td>Medium</td>\n",
              "    </tr>\n",
              "    <tr>\n",
              "      <th>2</th>\n",
              "      <td>LJC15</td>\n",
              "      <td>Area046</td>\n",
              "      <td>Cardiac</td>\n",
              "      <td>mild</td>\n",
              "      <td>DownTown</td>\n",
              "      <td>Tier 1</td>\n",
              "      <td>Small</td>\n",
              "    </tr>\n",
              "    <tr>\n",
              "      <th>3</th>\n",
              "      <td>GWC40</td>\n",
              "      <td>Area046</td>\n",
              "      <td>OralContraceptives</td>\n",
              "      <td>mild</td>\n",
              "      <td>DownTown</td>\n",
              "      <td>Tier 1</td>\n",
              "      <td>Small</td>\n",
              "    </tr>\n",
              "    <tr>\n",
              "      <th>4</th>\n",
              "      <td>QMN13</td>\n",
              "      <td>Area019</td>\n",
              "      <td>Hreplacements</td>\n",
              "      <td>critical</td>\n",
              "      <td>MidTownResidential</td>\n",
              "      <td>Tier 1</td>\n",
              "      <td>Small</td>\n",
              "    </tr>\n",
              "  </tbody>\n",
              "</table>\n",
              "</div>"
            ],
            "text/plain": [
              "  Medicine_ID DistArea_ID  ... Area_City_Type Area_dist_level\n",
              "0       RRA15     Area046  ...         Tier 1           Small\n",
              "1       YVV26     Area027  ...         Tier 3          Medium\n",
              "2       LJC15     Area046  ...         Tier 1           Small\n",
              "3       GWC40     Area046  ...         Tier 1           Small\n",
              "4       QMN13     Area019  ...         Tier 1           Small\n",
              "\n",
              "[5 rows x 7 columns]"
            ]
          },
          "metadata": {
            "tags": []
          },
          "execution_count": 195
        }
      ]
    },
    {
      "cell_type": "code",
      "metadata": {
        "id": "ZKjO9dJyrioU",
        "colab_type": "code",
        "colab": {
          "base_uri": "https://localhost:8080/",
          "height": 1000
        },
        "outputId": "e8419fed-6583-48f9-aaad-91c2a555cb2a"
      },
      "source": [
        "for col in categorical_feature:\n",
        "  print(\"==={}====\".format(col))\n",
        "  print(\"=={}===length =={}===\".format(df[col].value_counts(),len(df[col].unique())))"
      ],
      "execution_count": null,
      "outputs": [
        {
          "output_type": "stream",
          "text": [
            "===Medicine_ID====\n",
            "==RQS74    9\n",
            "HQH91    9\n",
            "OQH15    9\n",
            "KIS14    9\n",
            "QLK14    9\n",
            "        ..\n",
            "RLS13    1\n",
            "WGC12    1\n",
            "WTA87    1\n",
            "KQB14    1\n",
            "UKN13    1\n",
            "Name: Medicine_ID, Length: 1557, dtype: int64===length ==1557===\n",
            "===DistArea_ID====\n",
            "==Area017    760\n",
            "Area046    749\n",
            "Area013    749\n",
            "Area035    748\n",
            "Area049    739\n",
            "Area045    736\n",
            "Area027    735\n",
            "Area018    729\n",
            "Area010    442\n",
            "Area019    431\n",
            "Name: DistArea_ID, dtype: int64===length ==10===\n",
            "===Medicine_Type====\n",
            "==Hreplacements         976\n",
            "Antibiotics           970\n",
            "Antiseptics           724\n",
            "OralContraceptives    694\n",
            "Antipyretics          536\n",
            "Cardiac               522\n",
            "Mstablizers           514\n",
            "Tranquilizers         420\n",
            "Analgesics            356\n",
            "Antimalarial          339\n",
            "Antacids              206\n",
            "Statins               167\n",
            "MuscleRelaxants       139\n",
            "Antifungal            111\n",
            "Stimulants             95\n",
            "Antiviral              49\n",
            "Name: Medicine_Type, dtype: int64===length ==16===\n",
            "===SidEffect_Level====\n",
            "==mild        4434\n",
            "critical    2384\n",
            "Name: SidEffect_Level, dtype: int64===length ==2===\n",
            "===Area_Type====\n",
            "==DownTown              4481\n",
            "MidTownResidential     873\n",
            "CityLimits             735\n",
            "Industrial             729\n",
            "Name: Area_Type, dtype: int64===length ==4===\n",
            "===Area_City_Type====\n",
            "==Tier 3    2655\n",
            "Tier 2    2244\n",
            "Tier 1    1919\n",
            "Name: Area_City_Type, dtype: int64===length ==3===\n",
            "===Area_dist_level====\n",
            "==Medium     2203\n",
            "Unknown    1938\n",
            "Small      1928\n",
            "High        749\n",
            "Name: Area_dist_level, dtype: int64===length ==4===\n"
          ],
          "name": "stdout"
        }
      ]
    },
    {
      "cell_type": "code",
      "metadata": {
        "id": "BFSULS79rqva",
        "colab_type": "code",
        "colab": {}
      },
      "source": [
        "df[\"SidEffect_Level\"]=pd.to_numeric(np.where(df[\"SidEffect_Level\"]==\"mild\",1,0))"
      ],
      "execution_count": null,
      "outputs": []
    },
    {
      "cell_type": "code",
      "metadata": {
        "id": "15wMbYINxHG9",
        "colab_type": "code",
        "colab": {
          "base_uri": "https://localhost:8080/",
          "height": 34
        },
        "outputId": "92ac134a-757c-444d-de9a-f7f90207f201"
      },
      "source": [
        "df[\"SidEffect_Level\"].dtype"
      ],
      "execution_count": null,
      "outputs": [
        {
          "output_type": "execute_result",
          "data": {
            "text/plain": [
              "dtype('int64')"
            ]
          },
          "metadata": {
            "tags": []
          },
          "execution_count": 198
        }
      ]
    },
    {
      "cell_type": "code",
      "metadata": {
        "id": "O_fZjukCr2vq",
        "colab_type": "code",
        "colab": {
          "base_uri": "https://localhost:8080/",
          "height": 419
        },
        "outputId": "57837fd1-7f19-40fa-992d-13516007c33b"
      },
      "source": [
        "df.select_dtypes([\"object\"])"
      ],
      "execution_count": null,
      "outputs": [
        {
          "output_type": "execute_result",
          "data": {
            "text/html": [
              "<div>\n",
              "<style scoped>\n",
              "    .dataframe tbody tr th:only-of-type {\n",
              "        vertical-align: middle;\n",
              "    }\n",
              "\n",
              "    .dataframe tbody tr th {\n",
              "        vertical-align: top;\n",
              "    }\n",
              "\n",
              "    .dataframe thead th {\n",
              "        text-align: right;\n",
              "    }\n",
              "</style>\n",
              "<table border=\"1\" class=\"dataframe\">\n",
              "  <thead>\n",
              "    <tr style=\"text-align: right;\">\n",
              "      <th></th>\n",
              "      <th>Medicine_ID</th>\n",
              "      <th>DistArea_ID</th>\n",
              "      <th>Medicine_Type</th>\n",
              "      <th>Area_Type</th>\n",
              "      <th>Area_City_Type</th>\n",
              "      <th>Area_dist_level</th>\n",
              "    </tr>\n",
              "  </thead>\n",
              "  <tbody>\n",
              "    <tr>\n",
              "      <th>0</th>\n",
              "      <td>RRA15</td>\n",
              "      <td>Area046</td>\n",
              "      <td>Antimalarial</td>\n",
              "      <td>DownTown</td>\n",
              "      <td>Tier 1</td>\n",
              "      <td>Small</td>\n",
              "    </tr>\n",
              "    <tr>\n",
              "      <th>1</th>\n",
              "      <td>YVV26</td>\n",
              "      <td>Area027</td>\n",
              "      <td>Mstablizers</td>\n",
              "      <td>CityLimits</td>\n",
              "      <td>Tier 3</td>\n",
              "      <td>Medium</td>\n",
              "    </tr>\n",
              "    <tr>\n",
              "      <th>2</th>\n",
              "      <td>LJC15</td>\n",
              "      <td>Area046</td>\n",
              "      <td>Cardiac</td>\n",
              "      <td>DownTown</td>\n",
              "      <td>Tier 1</td>\n",
              "      <td>Small</td>\n",
              "    </tr>\n",
              "    <tr>\n",
              "      <th>3</th>\n",
              "      <td>GWC40</td>\n",
              "      <td>Area046</td>\n",
              "      <td>OralContraceptives</td>\n",
              "      <td>DownTown</td>\n",
              "      <td>Tier 1</td>\n",
              "      <td>Small</td>\n",
              "    </tr>\n",
              "    <tr>\n",
              "      <th>4</th>\n",
              "      <td>QMN13</td>\n",
              "      <td>Area019</td>\n",
              "      <td>Hreplacements</td>\n",
              "      <td>MidTownResidential</td>\n",
              "      <td>Tier 1</td>\n",
              "      <td>Small</td>\n",
              "    </tr>\n",
              "    <tr>\n",
              "      <th>...</th>\n",
              "      <td>...</td>\n",
              "      <td>...</td>\n",
              "      <td>...</td>\n",
              "      <td>...</td>\n",
              "      <td>...</td>\n",
              "      <td>...</td>\n",
              "    </tr>\n",
              "    <tr>\n",
              "      <th>6813</th>\n",
              "      <td>OYN80</td>\n",
              "      <td>Area046</td>\n",
              "      <td>Hreplacements</td>\n",
              "      <td>DownTown</td>\n",
              "      <td>Tier 1</td>\n",
              "      <td>Small</td>\n",
              "    </tr>\n",
              "    <tr>\n",
              "      <th>6814</th>\n",
              "      <td>ACW12</td>\n",
              "      <td>Area046</td>\n",
              "      <td>Hreplacements</td>\n",
              "      <td>DownTown</td>\n",
              "      <td>Tier 1</td>\n",
              "      <td>Small</td>\n",
              "    </tr>\n",
              "    <tr>\n",
              "      <th>6815</th>\n",
              "      <td>OPM10</td>\n",
              "      <td>Area017</td>\n",
              "      <td>Antimalarial</td>\n",
              "      <td>DownTown</td>\n",
              "      <td>Tier 2</td>\n",
              "      <td>Unknown</td>\n",
              "    </tr>\n",
              "    <tr>\n",
              "      <th>6816</th>\n",
              "      <td>SLY12</td>\n",
              "      <td>Area045</td>\n",
              "      <td>Statins</td>\n",
              "      <td>DownTown</td>\n",
              "      <td>Tier 2</td>\n",
              "      <td>Unknown</td>\n",
              "    </tr>\n",
              "    <tr>\n",
              "      <th>6817</th>\n",
              "      <td>ATT10</td>\n",
              "      <td>Area018</td>\n",
              "      <td>Mstablizers</td>\n",
              "      <td>Industrial</td>\n",
              "      <td>Tier 3</td>\n",
              "      <td>Medium</td>\n",
              "    </tr>\n",
              "  </tbody>\n",
              "</table>\n",
              "<p>6818 rows × 6 columns</p>\n",
              "</div>"
            ],
            "text/plain": [
              "     Medicine_ID DistArea_ID  ... Area_City_Type Area_dist_level\n",
              "0          RRA15     Area046  ...         Tier 1           Small\n",
              "1          YVV26     Area027  ...         Tier 3          Medium\n",
              "2          LJC15     Area046  ...         Tier 1           Small\n",
              "3          GWC40     Area046  ...         Tier 1           Small\n",
              "4          QMN13     Area019  ...         Tier 1           Small\n",
              "...          ...         ...  ...            ...             ...\n",
              "6813       OYN80     Area046  ...         Tier 1           Small\n",
              "6814       ACW12     Area046  ...         Tier 1           Small\n",
              "6815       OPM10     Area017  ...         Tier 2         Unknown\n",
              "6816       SLY12     Area045  ...         Tier 2         Unknown\n",
              "6817       ATT10     Area018  ...         Tier 3          Medium\n",
              "\n",
              "[6818 rows x 6 columns]"
            ]
          },
          "metadata": {
            "tags": []
          },
          "execution_count": 199
        }
      ]
    },
    {
      "cell_type": "code",
      "metadata": {
        "id": "N7DysqCqu0aU",
        "colab_type": "code",
        "colab": {
          "base_uri": "https://localhost:8080/",
          "height": 1000
        },
        "outputId": "5e38eacf-b6de-4d00-9c8a-e2e064729831"
      },
      "source": [
        "for col in categorical_feature:\n",
        "  data=df.copy()\n",
        "  data.groupby(col)[\"Counterfeit_Sales\"].median().plot.bar()\n",
        "  plt.xlabel(col)\n",
        "  plt.ylabel(\"Counterfeit_Sales\")\n",
        "  plt.title(col)\n",
        "  plt.show()"
      ],
      "execution_count": null,
      "outputs": [
        {
          "output_type": "display_data",
          "data": {
            "image/png": "[encoded data removed]",
            "text/plain": [
              "<Figure size 432x288 with 1 Axes>"
            ]
          },
          "metadata": {
            "tags": [],
            "needs_background": "light"
          }
        },
        {
          "output_type": "display_data",
          "data": {
            "image/png": "[encoded data removed]",
            "text/plain": [
              "<Figure size 432x288 with 1 Axes>"
            ]
          },
          "metadata": {
            "tags": [],
            "needs_background": "light"
          }
        },
        {
          "output_type": "display_data",
          "data": {
            "image/png": "[encoded data removed]",
            "text/plain": [
              "<Figure size 432x288 with 1 Axes>"
            ]
          },
          "metadata": {
            "tags": [],
            "needs_background": "light"
          }
        },
        {
          "output_type": "display_data",
          "data": {
            "image/png": "[encoded data removed]",
            "text/plain": [
              "<Figure size 432x288 with 1 Axes>"
            ]
          },
          "metadata": {
            "tags": [],
            "needs_background": "light"
          }
        },
        {
          "output_type": "display_data",
          "data": {
            "image/png": "[encoded data removed]",
            "text/plain": [
              "<Figure size 432x288 with 1 Axes>"
            ]
          },
          "metadata": {
            "tags": [],
            "needs_background": "light"
          }
        },
        {
          "output_type": "display_data",
          "data": {
            "image/png": "[encoded data removed]",
            "text/plain": [
              "<Figure size 432x288 with 1 Axes>"
            ]
          },
          "metadata": {
            "tags": [],
            "needs_background": "light"
          }
        },
        {
          "output_type": "display_data",
          "data": {
            "image/png": "[encoded data removed]",
            "text/plain": [
              "<Figure size 432x288 with 1 Axes>"
            ]
          },
          "metadata": {
            "tags": [],
            "needs_background": "light"
          }
        }
      ]
    },
    {
      "cell_type": "code",
      "metadata": {
        "id": "9Fhq9VSG8ORv",
        "colab_type": "code",
        "colab": {
          "base_uri": "https://localhost:8080/",
          "height": 372
        },
        "outputId": "ce7b4cb5-31da-41c3-9050-d3f090f537b7"
      },
      "source": [
        "sns.heatmap(df.corr(),center=0.2,annot=True)"
      ],
      "execution_count": null,
      "outputs": [
        {
          "output_type": "execute_result",
          "data": {
            "text/plain": [
              "<matplotlib.axes._subplots.AxesSubplot at 0x7fd70b4cb630>"
            ]
          },
          "metadata": {
            "tags": []
          },
          "execution_count": 201
        },
        {
          "output_type": "display_data",
          "data": {
            "image/png": "[encoded data removed]",
            "text/plain": [
              "<Figure size 432x288 with 2 Axes>"
            ]
          },
          "metadata": {
            "tags": [],
            "needs_background": "light"
          }
        }
      ]
    },
    {
      "cell_type": "markdown",
      "metadata": {
        "id": "GrDZx8C32gSS",
        "colab_type": "text"
      },
      "source": [
        "# **Feature Engineering**"
      ]
    },
    {
      "cell_type": "code",
      "metadata": {
        "id": "CRKnBiSswNO6",
        "colab_type": "code",
        "colab": {
          "base_uri": "https://localhost:8080/",
          "height": 153
        },
        "outputId": "8c636667-33ca-4b04-9aed-3473ee429e35"
      },
      "source": [
        "df[categorical_feature].isnull().sum()"
      ],
      "execution_count": null,
      "outputs": [
        {
          "output_type": "execute_result",
          "data": {
            "text/plain": [
              "Medicine_ID        0\n",
              "DistArea_ID        0\n",
              "Medicine_Type      0\n",
              "SidEffect_Level    0\n",
              "Area_Type          0\n",
              "Area_City_Type     0\n",
              "Area_dist_level    0\n",
              "dtype: int64"
            ]
          },
          "metadata": {
            "tags": []
          },
          "execution_count": 202
        }
      ]
    },
    {
      "cell_type": "code",
      "metadata": {
        "id": "aN_AYF001pfA",
        "colab_type": "code",
        "colab": {
          "base_uri": "https://localhost:8080/",
          "height": 419
        },
        "outputId": "64cb3669-7897-43b2-b28d-eb2f127480a5"
      },
      "source": [
        "df[is_null_val]"
      ],
      "execution_count": null,
      "outputs": [
        {
          "output_type": "execute_result",
          "data": {
            "text/html": [
              "<div>\n",
              "<style scoped>\n",
              "    .dataframe tbody tr th:only-of-type {\n",
              "        vertical-align: middle;\n",
              "    }\n",
              "\n",
              "    .dataframe tbody tr th {\n",
              "        vertical-align: top;\n",
              "    }\n",
              "\n",
              "    .dataframe thead th {\n",
              "        text-align: right;\n",
              "    }\n",
              "</style>\n",
              "<table border=\"1\" class=\"dataframe\">\n",
              "  <thead>\n",
              "    <tr style=\"text-align: right;\">\n",
              "      <th></th>\n",
              "      <th>Counterfeit_Weight</th>\n",
              "    </tr>\n",
              "  </thead>\n",
              "  <tbody>\n",
              "    <tr>\n",
              "      <th>0</th>\n",
              "      <td>13.100</td>\n",
              "    </tr>\n",
              "    <tr>\n",
              "      <th>1</th>\n",
              "      <td>NaN</td>\n",
              "    </tr>\n",
              "    <tr>\n",
              "      <th>2</th>\n",
              "      <td>9.025</td>\n",
              "    </tr>\n",
              "    <tr>\n",
              "      <th>3</th>\n",
              "      <td>11.800</td>\n",
              "    </tr>\n",
              "    <tr>\n",
              "      <th>4</th>\n",
              "      <td>NaN</td>\n",
              "    </tr>\n",
              "    <tr>\n",
              "      <th>...</th>\n",
              "      <td>...</td>\n",
              "    </tr>\n",
              "    <tr>\n",
              "      <th>6813</th>\n",
              "      <td>8.535</td>\n",
              "    </tr>\n",
              "    <tr>\n",
              "      <th>6814</th>\n",
              "      <td>20.650</td>\n",
              "    </tr>\n",
              "    <tr>\n",
              "      <th>6815</th>\n",
              "      <td>20.000</td>\n",
              "    </tr>\n",
              "    <tr>\n",
              "      <th>6816</th>\n",
              "      <td>10.180</td>\n",
              "    </tr>\n",
              "    <tr>\n",
              "      <th>6817</th>\n",
              "      <td>7.930</td>\n",
              "    </tr>\n",
              "  </tbody>\n",
              "</table>\n",
              "<p>6818 rows × 1 columns</p>\n",
              "</div>"
            ],
            "text/plain": [
              "      Counterfeit_Weight\n",
              "0                 13.100\n",
              "1                    NaN\n",
              "2                  9.025\n",
              "3                 11.800\n",
              "4                    NaN\n",
              "...                  ...\n",
              "6813               8.535\n",
              "6814              20.650\n",
              "6815              20.000\n",
              "6816              10.180\n",
              "6817               7.930\n",
              "\n",
              "[6818 rows x 1 columns]"
            ]
          },
          "metadata": {
            "tags": []
          },
          "execution_count": 203
        }
      ]
    },
    {
      "cell_type": "code",
      "metadata": {
        "id": "G8NCAi4q2UPw",
        "colab_type": "code",
        "colab": {
          "base_uri": "https://localhost:8080/",
          "height": 419
        },
        "outputId": "7afbb760-f75e-4dc1-86ed-0463777f2874"
      },
      "source": [
        "df[numerical_feature]"
      ],
      "execution_count": null,
      "outputs": [
        {
          "output_type": "execute_result",
          "data": {
            "text/html": [
              "<div>\n",
              "<style scoped>\n",
              "    .dataframe tbody tr th:only-of-type {\n",
              "        vertical-align: middle;\n",
              "    }\n",
              "\n",
              "    .dataframe tbody tr th {\n",
              "        vertical-align: top;\n",
              "    }\n",
              "\n",
              "    .dataframe thead th {\n",
              "        text-align: right;\n",
              "    }\n",
              "</style>\n",
              "<table border=\"1\" class=\"dataframe\">\n",
              "  <thead>\n",
              "    <tr style=\"text-align: right;\">\n",
              "      <th></th>\n",
              "      <th>Counterfeit_Weight</th>\n",
              "      <th>Medicine_MRP</th>\n",
              "      <th>Availability_rating</th>\n",
              "      <th>Counterfeit_Sales</th>\n",
              "    </tr>\n",
              "  </thead>\n",
              "  <tbody>\n",
              "    <tr>\n",
              "      <th>0</th>\n",
              "      <td>13.100</td>\n",
              "      <td>160.2366</td>\n",
              "      <td>0.070422</td>\n",
              "      <td>1775.5026</td>\n",
              "    </tr>\n",
              "    <tr>\n",
              "      <th>1</th>\n",
              "      <td>NaN</td>\n",
              "      <td>110.4384</td>\n",
              "      <td>0.013000</td>\n",
              "      <td>3069.1520</td>\n",
              "    </tr>\n",
              "    <tr>\n",
              "      <th>2</th>\n",
              "      <td>9.025</td>\n",
              "      <td>259.4092</td>\n",
              "      <td>0.060783</td>\n",
              "      <td>2603.0920</td>\n",
              "    </tr>\n",
              "    <tr>\n",
              "      <th>3</th>\n",
              "      <td>11.800</td>\n",
              "      <td>99.9830</td>\n",
              "      <td>0.065555</td>\n",
              "      <td>1101.7130</td>\n",
              "    </tr>\n",
              "    <tr>\n",
              "      <th>4</th>\n",
              "      <td>NaN</td>\n",
              "      <td>56.4402</td>\n",
              "      <td>0.248859</td>\n",
              "      <td>158.9402</td>\n",
              "    </tr>\n",
              "    <tr>\n",
              "      <th>...</th>\n",
              "      <td>...</td>\n",
              "      <td>...</td>\n",
              "      <td>...</td>\n",
              "      <td>...</td>\n",
              "    </tr>\n",
              "    <tr>\n",
              "      <th>6813</th>\n",
              "      <td>8.535</td>\n",
              "      <td>204.1452</td>\n",
              "      <td>0.112963</td>\n",
              "      <td>2070.4520</td>\n",
              "    </tr>\n",
              "    <tr>\n",
              "      <th>6814</th>\n",
              "      <td>20.650</td>\n",
              "      <td>235.1088</td>\n",
              "      <td>0.131103</td>\n",
              "      <td>2126.3792</td>\n",
              "    </tr>\n",
              "    <tr>\n",
              "      <th>6815</th>\n",
              "      <td>20.000</td>\n",
              "      <td>193.6292</td>\n",
              "      <td>0.105096</td>\n",
              "      <td>2119.7212</td>\n",
              "    </tr>\n",
              "    <tr>\n",
              "      <th>6816</th>\n",
              "      <td>10.180</td>\n",
              "      <td>162.8682</td>\n",
              "      <td>0.099957</td>\n",
              "      <td>1485.2138</td>\n",
              "    </tr>\n",
              "    <tr>\n",
              "      <th>6817</th>\n",
              "      <td>7.930</td>\n",
              "      <td>177.5500</td>\n",
              "      <td>0.117445</td>\n",
              "      <td>1943.9500</td>\n",
              "    </tr>\n",
              "  </tbody>\n",
              "</table>\n",
              "<p>6818 rows × 4 columns</p>\n",
              "</div>"
            ],
            "text/plain": [
              "      Counterfeit_Weight  Medicine_MRP  Availability_rating  Counterfeit_Sales\n",
              "0                 13.100      160.2366             0.070422          1775.5026\n",
              "1                    NaN      110.4384             0.013000          3069.1520\n",
              "2                  9.025      259.4092             0.060783          2603.0920\n",
              "3                 11.800       99.9830             0.065555          1101.7130\n",
              "4                    NaN       56.4402             0.248859           158.9402\n",
              "...                  ...           ...                  ...                ...\n",
              "6813               8.535      204.1452             0.112963          2070.4520\n",
              "6814              20.650      235.1088             0.131103          2126.3792\n",
              "6815              20.000      193.6292             0.105096          2119.7212\n",
              "6816              10.180      162.8682             0.099957          1485.2138\n",
              "6817               7.930      177.5500             0.117445          1943.9500\n",
              "\n",
              "[6818 rows x 4 columns]"
            ]
          },
          "metadata": {
            "tags": []
          },
          "execution_count": 204
        }
      ]
    },
    {
      "cell_type": "code",
      "metadata": {
        "id": "sRZh_s3aE9M7",
        "colab_type": "code",
        "colab": {}
      },
      "source": [
        "df.drop(\"Medicine_ID\",axis=1,inplace=True)"
      ],
      "execution_count": null,
      "outputs": []
    },
    {
      "cell_type": "code",
      "metadata": {
        "id": "zyqEWR03EH90",
        "colab_type": "code",
        "colab": {
          "base_uri": "https://localhost:8080/",
          "height": 102
        },
        "outputId": "01dd0e35-d056-416e-fd0a-42bf397212d2"
      },
      "source": [
        "for col in df.select_dtypes([\"object\"]).columns:\n",
        "  dummy=pd.get_dummies(df[col],prefix=col,drop_first=True)\n",
        "  df=pd.concat([df,dummy],axis=1)\n",
        "  del df[col]\n",
        "  print(col)\n",
        "del dummy"
      ],
      "execution_count": null,
      "outputs": [
        {
          "output_type": "stream",
          "text": [
            "DistArea_ID\n",
            "Medicine_Type\n",
            "Area_Type\n",
            "Area_City_Type\n",
            "Area_dist_level\n"
          ],
          "name": "stdout"
        }
      ]
    },
    {
      "cell_type": "code",
      "metadata": {
        "id": "H9eLu9AGGP1C",
        "colab_type": "code",
        "colab": {
          "base_uri": "https://localhost:8080/",
          "height": 419
        },
        "outputId": "a61df681-c52b-40cd-e463-077eba26ca07"
      },
      "source": [
        "df[numerical_feature]"
      ],
      "execution_count": null,
      "outputs": [
        {
          "output_type": "execute_result",
          "data": {
            "text/html": [
              "<div>\n",
              "<style scoped>\n",
              "    .dataframe tbody tr th:only-of-type {\n",
              "        vertical-align: middle;\n",
              "    }\n",
              "\n",
              "    .dataframe tbody tr th {\n",
              "        vertical-align: top;\n",
              "    }\n",
              "\n",
              "    .dataframe thead th {\n",
              "        text-align: right;\n",
              "    }\n",
              "</style>\n",
              "<table border=\"1\" class=\"dataframe\">\n",
              "  <thead>\n",
              "    <tr style=\"text-align: right;\">\n",
              "      <th></th>\n",
              "      <th>Counterfeit_Weight</th>\n",
              "      <th>Medicine_MRP</th>\n",
              "      <th>Availability_rating</th>\n",
              "      <th>Counterfeit_Sales</th>\n",
              "    </tr>\n",
              "  </thead>\n",
              "  <tbody>\n",
              "    <tr>\n",
              "      <th>0</th>\n",
              "      <td>13.100</td>\n",
              "      <td>160.2366</td>\n",
              "      <td>0.070422</td>\n",
              "      <td>1775.5026</td>\n",
              "    </tr>\n",
              "    <tr>\n",
              "      <th>1</th>\n",
              "      <td>NaN</td>\n",
              "      <td>110.4384</td>\n",
              "      <td>0.013000</td>\n",
              "      <td>3069.1520</td>\n",
              "    </tr>\n",
              "    <tr>\n",
              "      <th>2</th>\n",
              "      <td>9.025</td>\n",
              "      <td>259.4092</td>\n",
              "      <td>0.060783</td>\n",
              "      <td>2603.0920</td>\n",
              "    </tr>\n",
              "    <tr>\n",
              "      <th>3</th>\n",
              "      <td>11.800</td>\n",
              "      <td>99.9830</td>\n",
              "      <td>0.065555</td>\n",
              "      <td>1101.7130</td>\n",
              "    </tr>\n",
              "    <tr>\n",
              "      <th>4</th>\n",
              "      <td>NaN</td>\n",
              "      <td>56.4402</td>\n",
              "      <td>0.248859</td>\n",
              "      <td>158.9402</td>\n",
              "    </tr>\n",
              "    <tr>\n",
              "      <th>...</th>\n",
              "      <td>...</td>\n",
              "      <td>...</td>\n",
              "      <td>...</td>\n",
              "      <td>...</td>\n",
              "    </tr>\n",
              "    <tr>\n",
              "      <th>6813</th>\n",
              "      <td>8.535</td>\n",
              "      <td>204.1452</td>\n",
              "      <td>0.112963</td>\n",
              "      <td>2070.4520</td>\n",
              "    </tr>\n",
              "    <tr>\n",
              "      <th>6814</th>\n",
              "      <td>20.650</td>\n",
              "      <td>235.1088</td>\n",
              "      <td>0.131103</td>\n",
              "      <td>2126.3792</td>\n",
              "    </tr>\n",
              "    <tr>\n",
              "      <th>6815</th>\n",
              "      <td>20.000</td>\n",
              "      <td>193.6292</td>\n",
              "      <td>0.105096</td>\n",
              "      <td>2119.7212</td>\n",
              "    </tr>\n",
              "    <tr>\n",
              "      <th>6816</th>\n",
              "      <td>10.180</td>\n",
              "      <td>162.8682</td>\n",
              "      <td>0.099957</td>\n",
              "      <td>1485.2138</td>\n",
              "    </tr>\n",
              "    <tr>\n",
              "      <th>6817</th>\n",
              "      <td>7.930</td>\n",
              "      <td>177.5500</td>\n",
              "      <td>0.117445</td>\n",
              "      <td>1943.9500</td>\n",
              "    </tr>\n",
              "  </tbody>\n",
              "</table>\n",
              "<p>6818 rows × 4 columns</p>\n",
              "</div>"
            ],
            "text/plain": [
              "      Counterfeit_Weight  Medicine_MRP  Availability_rating  Counterfeit_Sales\n",
              "0                 13.100      160.2366             0.070422          1775.5026\n",
              "1                    NaN      110.4384             0.013000          3069.1520\n",
              "2                  9.025      259.4092             0.060783          2603.0920\n",
              "3                 11.800       99.9830             0.065555          1101.7130\n",
              "4                    NaN       56.4402             0.248859           158.9402\n",
              "...                  ...           ...                  ...                ...\n",
              "6813               8.535      204.1452             0.112963          2070.4520\n",
              "6814              20.650      235.1088             0.131103          2126.3792\n",
              "6815              20.000      193.6292             0.105096          2119.7212\n",
              "6816              10.180      162.8682             0.099957          1485.2138\n",
              "6817               7.930      177.5500             0.117445          1943.9500\n",
              "\n",
              "[6818 rows x 4 columns]"
            ]
          },
          "metadata": {
            "tags": []
          },
          "execution_count": 207
        }
      ]
    },
    {
      "cell_type": "code",
      "metadata": {
        "id": "VB8FwTL8GnqM",
        "colab_type": "code",
        "colab": {}
      },
      "source": [
        "for col in is_null_val:\n",
        "  df.loc[df[col].isnull(),col]=df[col].median()"
      ],
      "execution_count": null,
      "outputs": []
    },
    {
      "cell_type": "code",
      "metadata": {
        "id": "SBdRfuWDGJt7",
        "colab_type": "code",
        "colab": {}
      },
      "source": [
        "for col in numerical_feature:\n",
        "  df[col]=np.log(df[col]+1)"
      ],
      "execution_count": null,
      "outputs": []
    },
    {
      "cell_type": "code",
      "metadata": {
        "id": "wiWeF5g_Gs22",
        "colab_type": "code",
        "colab": {
          "base_uri": "https://localhost:8080/",
          "height": 680
        },
        "outputId": "5b071988-94ff-4a3d-cae4-8b946dc73403"
      },
      "source": [
        "df.isnull().sum()"
      ],
      "execution_count": null,
      "outputs": [
        {
          "output_type": "execute_result",
          "data": {
            "text/plain": [
              "Counterfeit_Weight                  0\n",
              "Active_Since                        0\n",
              "Medicine_MRP                        0\n",
              "SidEffect_Level                     0\n",
              "Availability_rating                 0\n",
              "Counterfeit_Sales                   0\n",
              "DistArea_ID_Area013                 0\n",
              "DistArea_ID_Area017                 0\n",
              "DistArea_ID_Area018                 0\n",
              "DistArea_ID_Area019                 0\n",
              "DistArea_ID_Area027                 0\n",
              "DistArea_ID_Area035                 0\n",
              "DistArea_ID_Area045                 0\n",
              "DistArea_ID_Area046                 0\n",
              "DistArea_ID_Area049                 0\n",
              "Medicine_Type_Antacids              0\n",
              "Medicine_Type_Antibiotics           0\n",
              "Medicine_Type_Antifungal            0\n",
              "Medicine_Type_Antimalarial          0\n",
              "Medicine_Type_Antipyretics          0\n",
              "Medicine_Type_Antiseptics           0\n",
              "Medicine_Type_Antiviral             0\n",
              "Medicine_Type_Cardiac               0\n",
              "Medicine_Type_Hreplacements         0\n",
              "Medicine_Type_Mstablizers           0\n",
              "Medicine_Type_MuscleRelaxants       0\n",
              "Medicine_Type_OralContraceptives    0\n",
              "Medicine_Type_Statins               0\n",
              "Medicine_Type_Stimulants            0\n",
              "Medicine_Type_Tranquilizers         0\n",
              "Area_Type_DownTown                  0\n",
              "Area_Type_Industrial                0\n",
              "Area_Type_MidTownResidential        0\n",
              "Area_City_Type_Tier 2               0\n",
              "Area_City_Type_Tier 3               0\n",
              "Area_dist_level_Medium              0\n",
              "Area_dist_level_Small               0\n",
              "Area_dist_level_Unknown             0\n",
              "dtype: int64"
            ]
          },
          "metadata": {
            "tags": []
          },
          "execution_count": 210
        }
      ]
    },
    {
      "cell_type": "code",
      "metadata": {
        "id": "6UwlsLdi5x9i",
        "colab_type": "code",
        "colab": {}
      },
      "source": [
        "from sklearn.model_selection import train_test_split"
      ],
      "execution_count": null,
      "outputs": []
    },
    {
      "cell_type": "code",
      "metadata": {
        "id": "nUiVGetc57pM",
        "colab_type": "code",
        "colab": {}
      },
      "source": [
        "train, test=train_test_split(df,test_size=0.2,random_state=10)"
      ],
      "execution_count": null,
      "outputs": []
    },
    {
      "cell_type": "code",
      "metadata": {
        "id": "HbMEL6KT_SDX",
        "colab_type": "code",
        "colab": {}
      },
      "source": [
        "x_train=train.drop(\"Counterfeit_Sales\",axis=1)\n",
        "y_train=train[\"Counterfeit_Sales\"]\n",
        "x_test=test.drop(\"Counterfeit_Sales\",axis=1)\n",
        "y_test=test[\"Counterfeit_Sales\"]"
      ],
      "execution_count": null,
      "outputs": []
    },
    {
      "cell_type": "code",
      "metadata": {
        "id": "qbcIGE5fAszP",
        "colab_type": "code",
        "colab": {}
      },
      "source": [
        "from sklearn.linear_model import LinearRegression"
      ],
      "execution_count": null,
      "outputs": []
    },
    {
      "cell_type": "code",
      "metadata": {
        "id": "pLh9i5akA071",
        "colab_type": "code",
        "colab": {}
      },
      "source": [
        "lm=LinearRegression()"
      ],
      "execution_count": null,
      "outputs": []
    },
    {
      "cell_type": "code",
      "metadata": {
        "id": "5zJic2FxA3xQ",
        "colab_type": "code",
        "colab": {
          "base_uri": "https://localhost:8080/",
          "height": 34
        },
        "outputId": "33aed67e-64ce-4ec1-8662-1e377b5db6d5"
      },
      "source": [
        "lm.fit(x_train,y_train)"
      ],
      "execution_count": null,
      "outputs": [
        {
          "output_type": "execute_result",
          "data": {
            "text/plain": [
              "LinearRegression(copy_X=True, fit_intercept=True, n_jobs=None, normalize=False)"
            ]
          },
          "metadata": {
            "tags": []
          },
          "execution_count": 217
        }
      ]
    },
    {
      "cell_type": "code",
      "metadata": {
        "id": "jRbP4dSXA7OL",
        "colab_type": "code",
        "colab": {
          "base_uri": "https://localhost:8080/",
          "height": 34
        },
        "outputId": "4cff8e71-006b-4187-d032-95ef09d4ca26"
      },
      "source": [
        "lm.intercept_"
      ],
      "execution_count": null,
      "outputs": [
        {
          "output_type": "execute_result",
          "data": {
            "text/plain": [
              "-4828966838528.722"
            ]
          },
          "metadata": {
            "tags": []
          },
          "execution_count": 218
        }
      ]
    },
    {
      "cell_type": "code",
      "metadata": {
        "id": "KkTLnWacCGXj",
        "colab_type": "code",
        "colab": {
          "base_uri": "https://localhost:8080/",
          "height": 646
        },
        "outputId": "a20793de-e796-486f-9a68-3a5bf175d972"
      },
      "source": [
        "list(zip(x_train.columns,lm.coef_))"
      ],
      "execution_count": null,
      "outputs": [
        {
          "output_type": "execute_result",
          "data": {
            "text/plain": [
              "[('Counterfeit_Weight', -0.018553050647675068),\n",
              " ('Active_Since', 2424507296.5255985),\n",
              " ('Medicine_MRP', 1.0107738055549913),\n",
              " ('SidEffect_Level', -0.018574070877507138),\n",
              " ('Availability_rating', -0.10235397450821819),\n",
              " ('DistArea_ID_Area013', 17277288188.404137),\n",
              " ('DistArea_ID_Area017', -4876441357.544866),\n",
              " ('DistArea_ID_Area018', -18360486065.55718),\n",
              " ('DistArea_ID_Area019', 18991474616.236702),\n",
              " ('DistArea_ID_Area027', 21439506684.102524),\n",
              " ('DistArea_ID_Area035', -12767027899.662174),\n",
              " ('DistArea_ID_Area045', 7246095125.021645),\n",
              " ('DistArea_ID_Area046', -5297860115.202728),\n",
              " ('DistArea_ID_Area049', -6272185821.222919),\n",
              " ('Medicine_Type_Antacids', 0.01837679204995798),\n",
              " ('Medicine_Type_Antibiotics', -0.01830545258594978),\n",
              " ('Medicine_Type_Antifungal', -0.06550009645303316),\n",
              " ('Medicine_Type_Antimalarial', -0.02903179824872781),\n",
              " ('Medicine_Type_Antipyretics', -0.0411483743519795),\n",
              " ('Medicine_Type_Antiseptics', -0.014103723601072532),\n",
              " ('Medicine_Type_Antiviral', 0.09400111848306002),\n",
              " ('Medicine_Type_Cardiac', -0.011998908155407785),\n",
              " ('Medicine_Type_Hreplacements', -0.011546266342355529),\n",
              " ('Medicine_Type_Mstablizers', -0.02663350616547149),\n",
              " ('Medicine_Type_MuscleRelaxants', -0.0011459825164585073),\n",
              " ('Medicine_Type_OralContraceptives', -0.00947009804360315),\n",
              " ('Medicine_Type_Statins', 0.023011688034894347),\n",
              " ('Medicine_Type_Stimulants', -0.011962089125330796),\n",
              " ('Medicine_Type_Tranquilizers', -0.012524084731929197),\n",
              " ('Area_Type_DownTown', -3594421453.427254),\n",
              " ('Area_Type_Industrial', -18388182367.6259),\n",
              " ('Area_Type_MidTownResidential', 1210331371.8769126),\n",
              " ('Area_City_Type_Tier 2', -9502383291.158926),\n",
              " ('Area_City_Type_Tier 3', 2636988193.079033),\n",
              " ('Area_dist_level_Medium', -2907625355.5392737),\n",
              " ('Area_dist_level_Small', 967063531.4448516),\n",
              " ('Area_dist_level_Unknown', -14197044900.25755)]"
            ]
          },
          "metadata": {
            "tags": []
          },
          "execution_count": 219
        }
      ]
    },
    {
      "cell_type": "code",
      "metadata": {
        "id": "pLyRvE0TmxZN",
        "colab_type": "code",
        "colab": {}
      },
      "source": [
        "from sklearn.metrics import mean_absolute_error"
      ],
      "execution_count": null,
      "outputs": []
    },
    {
      "cell_type": "code",
      "metadata": {
        "id": "rWDxWzo_ncVz",
        "colab_type": "code",
        "colab": {
          "base_uri": "https://localhost:8080/",
          "height": 34
        },
        "outputId": "929f027c-4314-4b84-f511-86eb03745f67"
      },
      "source": [
        "mean_absolute_error(y_train,lm.predict(x_train))"
      ],
      "execution_count": null,
      "outputs": [
        {
          "output_type": "execute_result",
          "data": {
            "text/plain": [
              "0.353904638005144"
            ]
          },
          "metadata": {
            "tags": []
          },
          "execution_count": 221
        }
      ]
    },
    {
      "cell_type": "code",
      "metadata": {
        "id": "L_1jisovnjug",
        "colab_type": "code",
        "colab": {
          "base_uri": "https://localhost:8080/",
          "height": 34
        },
        "outputId": "e5efe390-8a64-490a-a762-d769a0dc2fa8"
      },
      "source": [
        "mae=mean_absolute_error(y_test,lm.predict(x_test))\n",
        "print(mae)"
      ],
      "execution_count": null,
      "outputs": [
        {
          "output_type": "stream",
          "text": [
            "0.3580804105613609\n"
          ],
          "name": "stdout"
        }
      ]
    },
    {
      "cell_type": "code",
      "metadata": {
        "id": "QFLm1uuY-ge4",
        "colab_type": "code",
        "colab": {
          "base_uri": "https://localhost:8080/",
          "height": 34
        },
        "outputId": "1bf2f276-5ebe-4340-8a26-f49513643e9c"
      },
      "source": [
        "score=1-(mae/1660)\n",
        "print(score)"
      ],
      "execution_count": null,
      "outputs": [
        {
          "output_type": "stream",
          "text": [
            "0.9997842889093004\n"
          ],
          "name": "stdout"
        }
      ]
    },
    {
      "cell_type": "code",
      "metadata": {
        "id": "nb57JXWMnpZX",
        "colab_type": "code",
        "colab": {}
      },
      "source": [
        "from sklearn.metrics import r2_score"
      ],
      "execution_count": null,
      "outputs": []
    },
    {
      "cell_type": "code",
      "metadata": {
        "id": "05ADw74doZdn",
        "colab_type": "code",
        "colab": {}
      },
      "source": [
        "predicted=lm.predict(x_test)"
      ],
      "execution_count": null,
      "outputs": []
    },
    {
      "cell_type": "code",
      "metadata": {
        "id": "wslI9i4Zn-DE",
        "colab_type": "code",
        "colab": {
          "base_uri": "https://localhost:8080/",
          "height": 34
        },
        "outputId": "e5948af0-cfd5-4ccc-dfc3-b216da53e16a"
      },
      "source": [
        "r2_score(y_test,predicted)"
      ],
      "execution_count": null,
      "outputs": [
        {
          "output_type": "execute_result",
          "data": {
            "text/plain": [
              "0.7056292737778989"
            ]
          },
          "metadata": {
            "tags": []
          },
          "execution_count": 226
        }
      ]
    },
    {
      "cell_type": "code",
      "metadata": {
        "id": "oajD-G56psxP",
        "colab_type": "code",
        "colab": {}
      },
      "source": [
        "x_train.reset_index(drop=True,inplace=True)\n",
        "y_train.reset_index(drop=True,inplace=True)\n",
        "x_test.reset_index(drop=True,inplace=True)\n",
        "y_test.reset_index(drop=True,inplace=True)"
      ],
      "execution_count": null,
      "outputs": []
    },
    {
      "cell_type": "code",
      "metadata": {
        "id": "Zik4D1bjqLuf",
        "colab_type": "code",
        "colab": {}
      },
      "source": [
        "from sklearn.model_selection import KFold\n",
        "from sklearn.linear_model import Lasso\n",
        "from sklearn.linear_model import Ridge"
      ],
      "execution_count": null,
      "outputs": []
    },
    {
      "cell_type": "code",
      "metadata": {
        "id": "ScnatP-Nsapx",
        "colab_type": "code",
        "colab": {
          "base_uri": "https://localhost:8080/",
          "height": 34
        },
        "outputId": "b5e11eab-7034-4a84-e844-03060061092b"
      },
      "source": [
        "alphas = np.linspace(0.001, 1, 1000)\n",
        "rmse_list = []\n",
        "for a in alphas:\n",
        "    ridge = Ridge(fit_intercept=True, alpha=a)\n",
        "    # 10-fold cross validation\n",
        "    kf = KFold(n_splits=10)\n",
        "    xval_error = 0\n",
        "    for train_, test_ in kf.split(x_train):\n",
        "        ridge.fit(x_train.loc[train_], y_train[train_])\n",
        "        p = ridge.predict(x_train.loc[test_])\n",
        "        err = p - y_train[test_]\n",
        "        xval_error += np.dot(err, err)\n",
        "    rmse_10cv = np.sqrt(xval_error/len(x_train))\n",
        "    rmse_list.extend([rmse_10cv])\n",
        "best_alpha = alphas[rmse_list == min(rmse_list)]\n",
        "print(\"Alpha with min 10cv error is: \", best_alpha)"
      ],
      "execution_count": null,
      "outputs": [
        {
          "output_type": "stream",
          "text": [
            "Alpha with min 10cv error is:  [1.]\n"
          ],
          "name": "stdout"
        }
      ]
    },
    {
      "cell_type": "code",
      "metadata": {
        "id": "qDBFME_G_3Ak",
        "colab_type": "code",
        "colab": {
          "base_uri": "https://localhost:8080/",
          "height": 34
        },
        "outputId": "e7e7cb45-138c-4226-d25b-046a19517f42"
      },
      "source": [
        "ridge = Ridge(fit_intercept=True, alpha=best_alpha)\n",
        "ridge.fit(x_train, y_train)\n",
        "p_test = ridge.predict(x_test)\n",
        "test_err = p_test - y_test\n",
        "rmse_ridge = np.sqrt(np.dot(test_err, test_err)/len(p_test))\n",
        "rmse_ridge"
      ],
      "execution_count": null,
      "outputs": [
        {
          "output_type": "execute_result",
          "data": {
            "text/plain": [
              "0.4620132009262265"
            ]
          },
          "metadata": {
            "tags": []
          },
          "execution_count": 230
        }
      ]
    },
    {
      "cell_type": "code",
      "metadata": {
        "id": "hzHqchCFqhOl",
        "colab_type": "code",
        "colab": {
          "base_uri": "https://localhost:8080/",
          "height": 394
        },
        "outputId": "1333739a-eada-4780-c0d7-59402a4c1dd1"
      },
      "source": [
        "alphas = np.linspace(0.0001, 1, 1000)\n",
        "rmse_list = []\n",
        "for a in alphas:\n",
        "    lasso = Lasso(fit_intercept=True, alpha=a)\n",
        "    # 10-fold cross validation\n",
        "    kf = KFold(n_splits=10)\n",
        "    xval_error = 0\n",
        "    for train_, test_ in kf.split(x_train):\n",
        "        lasso.fit(x_train.loc[train_], y_train[train_])\n",
        "        p = lasso.predict(x_train.loc[test_])\n",
        "        err = p - y_train[test_]\n",
        "        xval_error += np.dot(err, err)\n",
        "    rmse_10cv = np.sqrt(xval_error/len(x_train))\n",
        "    rmse_list.extend([rmse_10cv])\n",
        "best_alpha = alphas[rmse_list == min(rmse_list)]\n",
        "print(\"Alpha with min 10cv error is: \", best_alpha)"
      ],
      "execution_count": null,
      "outputs": [
        {
          "output_type": "stream",
          "text": [
            "/usr/local/lib/python3.6/dist-packages/sklearn/linear_model/_coordinate_descent.py:476: ConvergenceWarning: Objective did not converge. You might want to increase the number of iterations. Duality gap: 227.44037622620237, tolerance: 0.3791870767698958\n",
            "  positive)\n",
            "/usr/local/lib/python3.6/dist-packages/sklearn/linear_model/_coordinate_descent.py:476: ConvergenceWarning: Objective did not converge. You might want to increase the number of iterations. Duality gap: 268.91739051013866, tolerance: 0.37667744331726294\n",
            "  positive)\n",
            "/usr/local/lib/python3.6/dist-packages/sklearn/linear_model/_coordinate_descent.py:476: ConvergenceWarning: Objective did not converge. You might want to increase the number of iterations. Duality gap: 155.2188966336929, tolerance: 0.3773783743170485\n",
            "  positive)\n",
            "/usr/local/lib/python3.6/dist-packages/sklearn/linear_model/_coordinate_descent.py:476: ConvergenceWarning: Objective did not converge. You might want to increase the number of iterations. Duality gap: 264.6531924147691, tolerance: 0.3785914513757427\n",
            "  positive)\n",
            "/usr/local/lib/python3.6/dist-packages/sklearn/linear_model/_coordinate_descent.py:476: ConvergenceWarning: Objective did not converge. You might want to increase the number of iterations. Duality gap: 225.96427322021026, tolerance: 0.37732033649358426\n",
            "  positive)\n",
            "/usr/local/lib/python3.6/dist-packages/sklearn/linear_model/_coordinate_descent.py:476: ConvergenceWarning: Objective did not converge. You might want to increase the number of iterations. Duality gap: 177.8633770968628, tolerance: 0.38104503667269934\n",
            "  positive)\n",
            "/usr/local/lib/python3.6/dist-packages/sklearn/linear_model/_coordinate_descent.py:476: ConvergenceWarning: Objective did not converge. You might want to increase the number of iterations. Duality gap: 162.96994394629297, tolerance: 0.378576430586733\n",
            "  positive)\n",
            "/usr/local/lib/python3.6/dist-packages/sklearn/linear_model/_coordinate_descent.py:476: ConvergenceWarning: Objective did not converge. You might want to increase the number of iterations. Duality gap: 157.63360337660737, tolerance: 0.3819503595223878\n",
            "  positive)\n",
            "/usr/local/lib/python3.6/dist-packages/sklearn/linear_model/_coordinate_descent.py:476: ConvergenceWarning: Objective did not converge. You might want to increase the number of iterations. Duality gap: 155.5185742817231, tolerance: 0.38229388866908853\n",
            "  positive)\n",
            "/usr/local/lib/python3.6/dist-packages/sklearn/linear_model/_coordinate_descent.py:476: ConvergenceWarning: Objective did not converge. You might want to increase the number of iterations. Duality gap: 360.4574481432451, tolerance: 0.38312491330557713\n",
            "  positive)\n"
          ],
          "name": "stderr"
        },
        {
          "output_type": "stream",
          "text": [
            "Alpha with min 10cv error is:  [0.0021018]\n"
          ],
          "name": "stdout"
        }
      ]
    },
    {
      "cell_type": "code",
      "metadata": {
        "id": "cDLelWqF09nz",
        "colab_type": "code",
        "colab": {
          "base_uri": "https://localhost:8080/",
          "height": 34
        },
        "outputId": "09a65f7a-1396-448c-bd37-5a6561f35702"
      },
      "source": [
        "lasso = Lasso(fit_intercept=True, alpha=best_alpha)\n",
        "lasso.fit(x_train, y_train)\n",
        "p_test = lasso.predict(x_test)\n",
        "test_err = p_test - y_test\n",
        "rmse_lasso = np.sqrt(np.dot(test_err, test_err)/len(p_test))\n",
        "rmse_lasso"
      ],
      "execution_count": null,
      "outputs": [
        {
          "output_type": "execute_result",
          "data": {
            "text/plain": [
              "0.4607478341313963"
            ]
          },
          "metadata": {
            "tags": []
          },
          "execution_count": 157
        }
      ]
    },
    {
      "cell_type": "code",
      "metadata": {
        "id": "cgJGbb33qvpA",
        "colab_type": "code",
        "colab": {
          "base_uri": "https://localhost:8080/",
          "height": 34
        },
        "outputId": "aa1d56fc-65c9-4bff-d2a2-22404544db5e"
      },
      "source": [
        "lasso.intercept_"
      ],
      "execution_count": null,
      "outputs": [
        {
          "output_type": "execute_result",
          "data": {
            "text/plain": [
              "2.692717459309863"
            ]
          },
          "metadata": {
            "tags": []
          },
          "execution_count": 158
        }
      ]
    },
    {
      "cell_type": "code",
      "metadata": {
        "id": "50Bsxvb-rjbn",
        "colab_type": "code",
        "colab": {
          "base_uri": "https://localhost:8080/",
          "height": 646
        },
        "outputId": "d7998b38-5f2b-40e5-84a2-5d6f18c53046"
      },
      "source": [
        "list(zip(x_train.columns,lasso.coef_))"
      ],
      "execution_count": null,
      "outputs": [
        {
          "output_type": "execute_result",
          "data": {
            "text/plain": [
              "[('Counterfeit_Weight', -0.0),\n",
              " ('Active_Since', -9.18805251383672e-05),\n",
              " ('Medicine_MRP', 1.0002525619632736),\n",
              " ('SidEffect_Level', -0.005077365578371239),\n",
              " ('Availability_rating', -0.0),\n",
              " ('DistArea_ID_Area013', -0.0),\n",
              " ('DistArea_ID_Area017', 0.005267101653635823),\n",
              " ('DistArea_ID_Area018', -0.0),\n",
              " ('DistArea_ID_Area019', -0.0),\n",
              " ('DistArea_ID_Area027', 0.6295417327706598),\n",
              " ('DistArea_ID_Area035', 0.012290071062388977),\n",
              " ('DistArea_ID_Area045', -0.01760281790299859),\n",
              " ('DistArea_ID_Area046', -0.0),\n",
              " ('DistArea_ID_Area049', 0.0),\n",
              " ('Medicine_Type_Antacids', 0.0),\n",
              " ('Medicine_Type_Antibiotics', -0.0),\n",
              " ('Medicine_Type_Antifungal', -0.0),\n",
              " ('Medicine_Type_Antimalarial', -0.0),\n",
              " ('Medicine_Type_Antipyretics', -0.0009137848859398097),\n",
              " ('Medicine_Type_Antiseptics', -0.0),\n",
              " ('Medicine_Type_Antiviral', 0.0),\n",
              " ('Medicine_Type_Cardiac', 0.0),\n",
              " ('Medicine_Type_Hreplacements', 0.0),\n",
              " ('Medicine_Type_Mstablizers', -0.0),\n",
              " ('Medicine_Type_MuscleRelaxants', 0.0),\n",
              " ('Medicine_Type_OralContraceptives', 0.0),\n",
              " ('Medicine_Type_Statins', 0.0),\n",
              " ('Medicine_Type_Stimulants', 0.0),\n",
              " ('Medicine_Type_Tranquilizers', -0.0),\n",
              " ('Area_Type_DownTown', 0.1369597924061286),\n",
              " ('Area_Type_Industrial', -0.0),\n",
              " ('Area_Type_MidTownResidential', -1.4308620116329787),\n",
              " ('Area_City_Type_Tier 2', 0.018470835875804836),\n",
              " ('Area_City_Type_Tier 3', -0.01960965760296445),\n",
              " ('Area_dist_level_Medium', 0.015281486330164682),\n",
              " ('Area_dist_level_Small', 0.0),\n",
              " ('Area_dist_level_Unknown', -0.0)]"
            ]
          },
          "metadata": {
            "tags": []
          },
          "execution_count": 159
        }
      ]
    },
    {
      "cell_type": "code",
      "metadata": {
        "id": "iH2KMwLe2Usx",
        "colab_type": "code",
        "colab": {}
      },
      "source": [
        "data=pd.DataFrame(list(zip(x_train.columns,lasso.coef_)),columns=[\"Columns_Name\",\"Values\"])"
      ],
      "execution_count": null,
      "outputs": []
    },
    {
      "cell_type": "code",
      "metadata": {
        "id": "AgZXv4gY2V-C",
        "colab_type": "code",
        "colab": {
          "base_uri": "https://localhost:8080/",
          "height": 255
        },
        "outputId": "8e06d58a-6767-4946-fe42-fa9a6d2acb90"
      },
      "source": [
        "new_val=data[data[\"Values\"]!=0]\n",
        "print(new_val)"
      ],
      "execution_count": null,
      "outputs": [
        {
          "output_type": "stream",
          "text": [
            "                    Columns_Name    Values\n",
            "1                   Active_Since -0.000092\n",
            "2                   Medicine_MRP  1.000253\n",
            "3                SidEffect_Level -0.005077\n",
            "6            DistArea_ID_Area017  0.005267\n",
            "9            DistArea_ID_Area027  0.629542\n",
            "10           DistArea_ID_Area035  0.012290\n",
            "11           DistArea_ID_Area045 -0.017603\n",
            "18    Medicine_Type_Antipyretics -0.000914\n",
            "29            Area_Type_DownTown  0.136960\n",
            "31  Area_Type_MidTownResidential -1.430862\n",
            "32         Area_City_Type_Tier 2  0.018471\n",
            "33         Area_City_Type_Tier 3 -0.019610\n",
            "34        Area_dist_level_Medium  0.015281\n"
          ],
          "name": "stdout"
        }
      ]
    },
    {
      "cell_type": "code",
      "metadata": {
        "id": "UfrKxk8j2VY8",
        "colab_type": "code",
        "colab": {
          "base_uri": "https://localhost:8080/",
          "height": 119
        },
        "outputId": "73beb1df-00ba-48d4-e19b-ca476ddb46bd"
      },
      "source": [
        "new_df=df[new_val[\"Columns_Name\"]]\n",
        "new_df[\"Counterfeit_Sales\"]=df[\"Counterfeit_Sales\"]"
      ],
      "execution_count": null,
      "outputs": [
        {
          "output_type": "stream",
          "text": [
            "/usr/local/lib/python3.6/dist-packages/ipykernel_launcher.py:2: SettingWithCopyWarning: \n",
            "A value is trying to be set on a copy of a slice from a DataFrame.\n",
            "Try using .loc[row_indexer,col_indexer] = value instead\n",
            "\n",
            "See the caveats in the documentation: https://pandas.pydata.org/pandas-docs/stable/user_guide/indexing.html#returning-a-view-versus-a-copy\n",
            "  \n"
          ],
          "name": "stderr"
        }
      ]
    },
    {
      "cell_type": "code",
      "metadata": {
        "id": "G6A7h9Ad2T5I",
        "colab_type": "code",
        "colab": {
          "base_uri": "https://localhost:8080/",
          "height": 456
        },
        "outputId": "175eec40-28fa-4ddc-87d5-16e03d24d646"
      },
      "source": [
        "new_df"
      ],
      "execution_count": null,
      "outputs": [
        {
          "output_type": "execute_result",
          "data": {
            "text/html": [
              "<div>\n",
              "<style scoped>\n",
              "    .dataframe tbody tr th:only-of-type {\n",
              "        vertical-align: middle;\n",
              "    }\n",
              "\n",
              "    .dataframe tbody tr th {\n",
              "        vertical-align: top;\n",
              "    }\n",
              "\n",
              "    .dataframe thead th {\n",
              "        text-align: right;\n",
              "    }\n",
              "</style>\n",
              "<table border=\"1\" class=\"dataframe\">\n",
              "  <thead>\n",
              "    <tr style=\"text-align: right;\">\n",
              "      <th></th>\n",
              "      <th>Active_Since</th>\n",
              "      <th>Medicine_MRP</th>\n",
              "      <th>SidEffect_Level</th>\n",
              "      <th>DistArea_ID_Area017</th>\n",
              "      <th>DistArea_ID_Area027</th>\n",
              "      <th>DistArea_ID_Area035</th>\n",
              "      <th>DistArea_ID_Area045</th>\n",
              "      <th>Medicine_Type_Antipyretics</th>\n",
              "      <th>Area_Type_DownTown</th>\n",
              "      <th>Area_Type_MidTownResidential</th>\n",
              "      <th>Area_City_Type_Tier 2</th>\n",
              "      <th>Area_City_Type_Tier 3</th>\n",
              "      <th>Area_dist_level_Medium</th>\n",
              "      <th>Counterfeit_Sales</th>\n",
              "    </tr>\n",
              "  </thead>\n",
              "  <tbody>\n",
              "    <tr>\n",
              "      <th>0</th>\n",
              "      <td>1995</td>\n",
              "      <td>5.082873</td>\n",
              "      <td>0</td>\n",
              "      <td>0</td>\n",
              "      <td>0</td>\n",
              "      <td>0</td>\n",
              "      <td>0</td>\n",
              "      <td>0</td>\n",
              "      <td>1</td>\n",
              "      <td>0</td>\n",
              "      <td>0</td>\n",
              "      <td>0</td>\n",
              "      <td>0</td>\n",
              "      <td>7.482402</td>\n",
              "    </tr>\n",
              "    <tr>\n",
              "      <th>1</th>\n",
              "      <td>1983</td>\n",
              "      <td>4.713472</td>\n",
              "      <td>1</td>\n",
              "      <td>0</td>\n",
              "      <td>1</td>\n",
              "      <td>0</td>\n",
              "      <td>0</td>\n",
              "      <td>0</td>\n",
              "      <td>0</td>\n",
              "      <td>0</td>\n",
              "      <td>0</td>\n",
              "      <td>1</td>\n",
              "      <td>1</td>\n",
              "      <td>8.029482</td>\n",
              "    </tr>\n",
              "    <tr>\n",
              "      <th>2</th>\n",
              "      <td>1995</td>\n",
              "      <td>5.562254</td>\n",
              "      <td>1</td>\n",
              "      <td>0</td>\n",
              "      <td>0</td>\n",
              "      <td>0</td>\n",
              "      <td>0</td>\n",
              "      <td>0</td>\n",
              "      <td>1</td>\n",
              "      <td>0</td>\n",
              "      <td>0</td>\n",
              "      <td>0</td>\n",
              "      <td>0</td>\n",
              "      <td>7.864839</td>\n",
              "    </tr>\n",
              "    <tr>\n",
              "      <th>3</th>\n",
              "      <td>1995</td>\n",
              "      <td>4.614952</td>\n",
              "      <td>1</td>\n",
              "      <td>0</td>\n",
              "      <td>0</td>\n",
              "      <td>0</td>\n",
              "      <td>0</td>\n",
              "      <td>0</td>\n",
              "      <td>1</td>\n",
              "      <td>0</td>\n",
              "      <td>0</td>\n",
              "      <td>0</td>\n",
              "      <td>0</td>\n",
              "      <td>7.005529</td>\n",
              "    </tr>\n",
              "    <tr>\n",
              "      <th>4</th>\n",
              "      <td>1983</td>\n",
              "      <td>4.050744</td>\n",
              "      <td>0</td>\n",
              "      <td>0</td>\n",
              "      <td>0</td>\n",
              "      <td>0</td>\n",
              "      <td>0</td>\n",
              "      <td>0</td>\n",
              "      <td>0</td>\n",
              "      <td>1</td>\n",
              "      <td>0</td>\n",
              "      <td>0</td>\n",
              "      <td>0</td>\n",
              "      <td>5.074800</td>\n",
              "    </tr>\n",
              "    <tr>\n",
              "      <th>...</th>\n",
              "      <td>...</td>\n",
              "      <td>...</td>\n",
              "      <td>...</td>\n",
              "      <td>...</td>\n",
              "      <td>...</td>\n",
              "      <td>...</td>\n",
              "      <td>...</td>\n",
              "      <td>...</td>\n",
              "      <td>...</td>\n",
              "      <td>...</td>\n",
              "      <td>...</td>\n",
              "      <td>...</td>\n",
              "      <td>...</td>\n",
              "      <td>...</td>\n",
              "    </tr>\n",
              "    <tr>\n",
              "      <th>6813</th>\n",
              "      <td>1995</td>\n",
              "      <td>5.323718</td>\n",
              "      <td>1</td>\n",
              "      <td>0</td>\n",
              "      <td>0</td>\n",
              "      <td>0</td>\n",
              "      <td>0</td>\n",
              "      <td>0</td>\n",
              "      <td>1</td>\n",
              "      <td>0</td>\n",
              "      <td>0</td>\n",
              "      <td>0</td>\n",
              "      <td>0</td>\n",
              "      <td>7.636005</td>\n",
              "    </tr>\n",
              "    <tr>\n",
              "      <th>6814</th>\n",
              "      <td>1995</td>\n",
              "      <td>5.464293</td>\n",
              "      <td>1</td>\n",
              "      <td>0</td>\n",
              "      <td>0</td>\n",
              "      <td>0</td>\n",
              "      <td>0</td>\n",
              "      <td>0</td>\n",
              "      <td>1</td>\n",
              "      <td>0</td>\n",
              "      <td>0</td>\n",
              "      <td>0</td>\n",
              "      <td>0</td>\n",
              "      <td>7.662646</td>\n",
              "    </tr>\n",
              "    <tr>\n",
              "      <th>6815</th>\n",
              "      <td>2005</td>\n",
              "      <td>5.271096</td>\n",
              "      <td>0</td>\n",
              "      <td>1</td>\n",
              "      <td>0</td>\n",
              "      <td>0</td>\n",
              "      <td>0</td>\n",
              "      <td>0</td>\n",
              "      <td>1</td>\n",
              "      <td>0</td>\n",
              "      <td>1</td>\n",
              "      <td>0</td>\n",
              "      <td>0</td>\n",
              "      <td>7.659511</td>\n",
              "    </tr>\n",
              "    <tr>\n",
              "      <th>6816</th>\n",
              "      <td>2000</td>\n",
              "      <td>5.099062</td>\n",
              "      <td>1</td>\n",
              "      <td>0</td>\n",
              "      <td>0</td>\n",
              "      <td>0</td>\n",
              "      <td>1</td>\n",
              "      <td>0</td>\n",
              "      <td>1</td>\n",
              "      <td>0</td>\n",
              "      <td>1</td>\n",
              "      <td>0</td>\n",
              "      <td>0</td>\n",
              "      <td>7.303987</td>\n",
              "    </tr>\n",
              "    <tr>\n",
              "      <th>6817</th>\n",
              "      <td>2007</td>\n",
              "      <td>5.184869</td>\n",
              "      <td>0</td>\n",
              "      <td>0</td>\n",
              "      <td>0</td>\n",
              "      <td>0</td>\n",
              "      <td>0</td>\n",
              "      <td>0</td>\n",
              "      <td>0</td>\n",
              "      <td>0</td>\n",
              "      <td>0</td>\n",
              "      <td>1</td>\n",
              "      <td>1</td>\n",
              "      <td>7.572992</td>\n",
              "    </tr>\n",
              "  </tbody>\n",
              "</table>\n",
              "<p>6818 rows × 14 columns</p>\n",
              "</div>"
            ],
            "text/plain": [
              "      Active_Since  Medicine_MRP  ...  Area_dist_level_Medium  Counterfeit_Sales\n",
              "0             1995      5.082873  ...                       0           7.482402\n",
              "1             1983      4.713472  ...                       1           8.029482\n",
              "2             1995      5.562254  ...                       0           7.864839\n",
              "3             1995      4.614952  ...                       0           7.005529\n",
              "4             1983      4.050744  ...                       0           5.074800\n",
              "...            ...           ...  ...                     ...                ...\n",
              "6813          1995      5.323718  ...                       0           7.636005\n",
              "6814          1995      5.464293  ...                       0           7.662646\n",
              "6815          2005      5.271096  ...                       0           7.659511\n",
              "6816          2000      5.099062  ...                       0           7.303987\n",
              "6817          2007      5.184869  ...                       1           7.572992\n",
              "\n",
              "[6818 rows x 14 columns]"
            ]
          },
          "metadata": {
            "tags": []
          },
          "execution_count": 163
        }
      ]
    },
    {
      "cell_type": "code",
      "metadata": {
        "id": "oMfnnkdv3xMy",
        "colab_type": "code",
        "colab": {}
      },
      "source": [
        "train_,test_=train_test_split(new_df,test_size=0.2,random_state=10)"
      ],
      "execution_count": null,
      "outputs": []
    },
    {
      "cell_type": "code",
      "metadata": {
        "id": "1QGA1p738vNK",
        "colab_type": "code",
        "colab": {}
      },
      "source": [
        "x_train_=train_.drop(\"Counterfeit_Sales\",axis=1)\n",
        "y_train_=train_[\"Counterfeit_Sales\"]\n",
        "x_test_=test_.drop(\"Counterfeit_Sales\",axis=1)\n",
        "y_test_=test_[\"Counterfeit_Sales\"]"
      ],
      "execution_count": null,
      "outputs": []
    },
    {
      "cell_type": "code",
      "metadata": {
        "id": "HoqnHlbZ3ydB",
        "colab_type": "code",
        "colab": {
          "base_uri": "https://localhost:8080/",
          "height": 34
        },
        "outputId": "ae2b8fa1-795b-42ed-ea78-f10c3b77248f"
      },
      "source": [
        "lm.fit(x_train_,y_train_)"
      ],
      "execution_count": null,
      "outputs": [
        {
          "output_type": "execute_result",
          "data": {
            "text/plain": [
              "LinearRegression(copy_X=True, fit_intercept=True, n_jobs=None, normalize=False)"
            ]
          },
          "metadata": {
            "tags": []
          },
          "execution_count": 166
        }
      ]
    },
    {
      "cell_type": "code",
      "metadata": {
        "id": "slTXU02N3xrW",
        "colab_type": "code",
        "colab": {
          "base_uri": "https://localhost:8080/",
          "height": 34
        },
        "outputId": "9e9eec39-19e1-467e-fe51-32c34d242133"
      },
      "source": [
        "mean_absolute_error(y_train_,lm.predict(x_train_))"
      ],
      "execution_count": null,
      "outputs": [
        {
          "output_type": "execute_result",
          "data": {
            "text/plain": [
              "0.3539214068924333"
            ]
          },
          "metadata": {
            "tags": []
          },
          "execution_count": 167
        }
      ]
    },
    {
      "cell_type": "code",
      "metadata": {
        "id": "3FrDHaQq3w28",
        "colab_type": "code",
        "colab": {}
      },
      "source": [
        "mae=mean_absolute_error(y_test_,lm.predict(x_test_))"
      ],
      "execution_count": null,
      "outputs": []
    },
    {
      "cell_type": "code",
      "metadata": {
        "id": "U4hryRVGAKWC",
        "colab_type": "code",
        "colab": {
          "base_uri": "https://localhost:8080/",
          "height": 34
        },
        "outputId": "840db2db-7d7d-4d48-8509-34fd78e3197e"
      },
      "source": [
        "score=1-(mae/1660)\n",
        "print(score)"
      ],
      "execution_count": null,
      "outputs": [
        {
          "output_type": "stream",
          "text": [
            "0.9997848352269247\n"
          ],
          "name": "stdout"
        }
      ]
    },
    {
      "cell_type": "code",
      "metadata": {
        "id": "BcogeVVn4Sma",
        "colab_type": "code",
        "colab": {
          "base_uri": "https://localhost:8080/",
          "height": 34
        },
        "outputId": "e13c9f9e-519f-4bf2-d9c1-75878686797b"
      },
      "source": [
        "r2_score(y_test_,lm.predict(x_test_))"
      ],
      "execution_count": null,
      "outputs": [
        {
          "output_type": "execute_result",
          "data": {
            "text/plain": [
              "0.7069943065615587"
            ]
          },
          "metadata": {
            "tags": []
          },
          "execution_count": 169
        }
      ]
    },
    {
      "cell_type": "code",
      "metadata": {
        "id": "civn6yuX_bnv",
        "colab_type": "code",
        "colab": {}
      },
      "source": [
        ""
      ],
      "execution_count": null,
      "outputs": []
    }
  ]
}